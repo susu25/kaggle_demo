{
 "cells": [
  {
   "cell_type": "code",
   "execution_count": 1,
   "id": "seven-disease",
   "metadata": {
    "_cell_guid": "b1076dfc-b9ad-4769-8c92-a6c4dae69d19",
    "_uuid": "8f2839f25d086af736a60e9eeb907d3b93b6e0e5",
    "execution": {
     "iopub.execute_input": "2021-06-10T09:48:43.497495Z",
     "iopub.status.busy": "2021-06-10T09:48:43.495726Z",
     "iopub.status.idle": "2021-06-10T09:48:43.511164Z",
     "shell.execute_reply": "2021-06-10T09:48:43.510320Z",
     "shell.execute_reply.started": "2021-06-10T08:43:41.274053Z"
    },
    "papermill": {
     "duration": 0.060912,
     "end_time": "2021-06-10T09:48:43.511388",
     "exception": false,
     "start_time": "2021-06-10T09:48:43.450476",
     "status": "completed"
    },
    "tags": []
   },
   "outputs": [
    {
     "name": "stdout",
     "output_type": "stream",
     "text": [
      "./kaggle_data/titanic\\gender_submission.csv\n",
      "./kaggle_data/titanic\\test.csv\n",
      "./kaggle_data/titanic\\titanic.zip\n",
      "./kaggle_data/titanic\\train.csv\n"
     ]
    }
   ],
   "source": [
    "import numpy as np # linear algebra\n",
    "import pandas as pd # data processing, CSV file I/O (e.g. pd.read_csv)\n",
    "\n",
    "import os\n",
    "for dirname, _, filenames in os.walk('./kaggle_data/titanic'):\n",
    "    for filename in filenames:\n",
    "        print(os.path.join(dirname, filename))"
   ]
  },
  {
   "cell_type": "code",
   "execution_count": 2,
   "id": "weighted-worthy",
   "metadata": {
    "execution": {
     "iopub.execute_input": "2021-06-10T09:48:43.598363Z",
     "iopub.status.busy": "2021-06-10T09:48:43.597713Z",
     "iopub.status.idle": "2021-06-10T09:48:43.634180Z",
     "shell.execute_reply": "2021-06-10T09:48:43.633378Z",
     "shell.execute_reply.started": "2021-06-10T08:43:46.338076Z"
    },
    "papermill": {
     "duration": 0.081853,
     "end_time": "2021-06-10T09:48:43.634328",
     "exception": false,
     "start_time": "2021-06-10T09:48:43.552475",
     "status": "completed"
    },
    "tags": []
   },
   "outputs": [],
   "source": [
    "data_path = \"./kaggle_data/titanic/\"\n",
    "\n",
    "train_data = pd.read_csv(data_path+\"train.csv\", index_col='PassengerId')\n",
    "test_data = pd.read_csv(data_path+\"test.csv\", index_col='PassengerId')"
   ]
  },
  {
   "cell_type": "code",
   "execution_count": 3,
   "id": "final-circuit",
   "metadata": {
    "execution": {
     "iopub.execute_input": "2021-06-10T09:48:43.718105Z",
     "iopub.status.busy": "2021-06-10T09:48:43.717186Z",
     "iopub.status.idle": "2021-06-10T09:48:43.745021Z",
     "shell.execute_reply": "2021-06-10T09:48:43.744362Z",
     "shell.execute_reply.started": "2021-06-10T08:43:49.475454Z"
    },
    "papermill": {
     "duration": 0.070699,
     "end_time": "2021-06-10T09:48:43.745180",
     "exception": false,
     "start_time": "2021-06-10T09:48:43.674481",
     "status": "completed"
    },
    "tags": []
   },
   "outputs": [
    {
     "data": {
      "text/html": [
       "<div>\n",
       "<style scoped>\n",
       "    .dataframe tbody tr th:only-of-type {\n",
       "        vertical-align: middle;\n",
       "    }\n",
       "\n",
       "    .dataframe tbody tr th {\n",
       "        vertical-align: top;\n",
       "    }\n",
       "\n",
       "    .dataframe thead th {\n",
       "        text-align: right;\n",
       "    }\n",
       "</style>\n",
       "<table border=\"1\" class=\"dataframe\">\n",
       "  <thead>\n",
       "    <tr style=\"text-align: right;\">\n",
       "      <th></th>\n",
       "      <th>Survived</th>\n",
       "      <th>Pclass</th>\n",
       "      <th>Name</th>\n",
       "      <th>Sex</th>\n",
       "      <th>Age</th>\n",
       "      <th>SibSp</th>\n",
       "      <th>Parch</th>\n",
       "      <th>Ticket</th>\n",
       "      <th>Fare</th>\n",
       "      <th>Cabin</th>\n",
       "      <th>Embarked</th>\n",
       "    </tr>\n",
       "    <tr>\n",
       "      <th>PassengerId</th>\n",
       "      <th></th>\n",
       "      <th></th>\n",
       "      <th></th>\n",
       "      <th></th>\n",
       "      <th></th>\n",
       "      <th></th>\n",
       "      <th></th>\n",
       "      <th></th>\n",
       "      <th></th>\n",
       "      <th></th>\n",
       "      <th></th>\n",
       "    </tr>\n",
       "  </thead>\n",
       "  <tbody>\n",
       "    <tr>\n",
       "      <th>1</th>\n",
       "      <td>0</td>\n",
       "      <td>3</td>\n",
       "      <td>Braund, Mr. Owen Harris</td>\n",
       "      <td>male</td>\n",
       "      <td>22.0</td>\n",
       "      <td>1</td>\n",
       "      <td>0</td>\n",
       "      <td>A/5 21171</td>\n",
       "      <td>7.2500</td>\n",
       "      <td>NaN</td>\n",
       "      <td>S</td>\n",
       "    </tr>\n",
       "    <tr>\n",
       "      <th>2</th>\n",
       "      <td>1</td>\n",
       "      <td>1</td>\n",
       "      <td>Cumings, Mrs. John Bradley (Florence Briggs Th...</td>\n",
       "      <td>female</td>\n",
       "      <td>38.0</td>\n",
       "      <td>1</td>\n",
       "      <td>0</td>\n",
       "      <td>PC 17599</td>\n",
       "      <td>71.2833</td>\n",
       "      <td>C85</td>\n",
       "      <td>C</td>\n",
       "    </tr>\n",
       "    <tr>\n",
       "      <th>3</th>\n",
       "      <td>1</td>\n",
       "      <td>3</td>\n",
       "      <td>Heikkinen, Miss. Laina</td>\n",
       "      <td>female</td>\n",
       "      <td>26.0</td>\n",
       "      <td>0</td>\n",
       "      <td>0</td>\n",
       "      <td>STON/O2. 3101282</td>\n",
       "      <td>7.9250</td>\n",
       "      <td>NaN</td>\n",
       "      <td>S</td>\n",
       "    </tr>\n",
       "    <tr>\n",
       "      <th>4</th>\n",
       "      <td>1</td>\n",
       "      <td>1</td>\n",
       "      <td>Futrelle, Mrs. Jacques Heath (Lily May Peel)</td>\n",
       "      <td>female</td>\n",
       "      <td>35.0</td>\n",
       "      <td>1</td>\n",
       "      <td>0</td>\n",
       "      <td>113803</td>\n",
       "      <td>53.1000</td>\n",
       "      <td>C123</td>\n",
       "      <td>S</td>\n",
       "    </tr>\n",
       "    <tr>\n",
       "      <th>5</th>\n",
       "      <td>0</td>\n",
       "      <td>3</td>\n",
       "      <td>Allen, Mr. William Henry</td>\n",
       "      <td>male</td>\n",
       "      <td>35.0</td>\n",
       "      <td>0</td>\n",
       "      <td>0</td>\n",
       "      <td>373450</td>\n",
       "      <td>8.0500</td>\n",
       "      <td>NaN</td>\n",
       "      <td>S</td>\n",
       "    </tr>\n",
       "  </tbody>\n",
       "</table>\n",
       "</div>"
      ],
      "text/plain": [
       "             Survived  Pclass  \\\n",
       "PassengerId                     \n",
       "1                   0       3   \n",
       "2                   1       1   \n",
       "3                   1       3   \n",
       "4                   1       1   \n",
       "5                   0       3   \n",
       "\n",
       "                                                          Name     Sex   Age  \\\n",
       "PassengerId                                                                    \n",
       "1                                      Braund, Mr. Owen Harris    male  22.0   \n",
       "2            Cumings, Mrs. John Bradley (Florence Briggs Th...  female  38.0   \n",
       "3                                       Heikkinen, Miss. Laina  female  26.0   \n",
       "4                 Futrelle, Mrs. Jacques Heath (Lily May Peel)  female  35.0   \n",
       "5                                     Allen, Mr. William Henry    male  35.0   \n",
       "\n",
       "             SibSp  Parch            Ticket     Fare Cabin Embarked  \n",
       "PassengerId                                                          \n",
       "1                1      0         A/5 21171   7.2500   NaN        S  \n",
       "2                1      0          PC 17599  71.2833   C85        C  \n",
       "3                0      0  STON/O2. 3101282   7.9250   NaN        S  \n",
       "4                1      0            113803  53.1000  C123        S  \n",
       "5                0      0            373450   8.0500   NaN        S  "
      ]
     },
     "execution_count": 3,
     "metadata": {},
     "output_type": "execute_result"
    }
   ],
   "source": [
    "train_data.head(5)"
   ]
  },
  {
   "cell_type": "code",
   "execution_count": 4,
   "id": "superb-universal",
   "metadata": {
    "execution": {
     "iopub.execute_input": "2021-06-10T09:48:43.844747Z",
     "iopub.status.busy": "2021-06-10T09:48:43.843959Z",
     "iopub.status.idle": "2021-06-10T09:48:43.848564Z",
     "shell.execute_reply": "2021-06-10T09:48:43.847909Z",
     "shell.execute_reply.started": "2021-06-10T08:43:52.430355Z"
    },
    "papermill": {
     "duration": 0.062287,
     "end_time": "2021-06-10T09:48:43.848703",
     "exception": false,
     "start_time": "2021-06-10T09:48:43.786416",
     "status": "completed"
    },
    "tags": []
   },
   "outputs": [
    {
     "data": {
      "text/html": [
       "<div>\n",
       "<style scoped>\n",
       "    .dataframe tbody tr th:only-of-type {\n",
       "        vertical-align: middle;\n",
       "    }\n",
       "\n",
       "    .dataframe tbody tr th {\n",
       "        vertical-align: top;\n",
       "    }\n",
       "\n",
       "    .dataframe thead th {\n",
       "        text-align: right;\n",
       "    }\n",
       "</style>\n",
       "<table border=\"1\" class=\"dataframe\">\n",
       "  <thead>\n",
       "    <tr style=\"text-align: right;\">\n",
       "      <th></th>\n",
       "      <th>Pclass</th>\n",
       "      <th>Name</th>\n",
       "      <th>Sex</th>\n",
       "      <th>Age</th>\n",
       "      <th>SibSp</th>\n",
       "      <th>Parch</th>\n",
       "      <th>Ticket</th>\n",
       "      <th>Fare</th>\n",
       "      <th>Cabin</th>\n",
       "      <th>Embarked</th>\n",
       "    </tr>\n",
       "    <tr>\n",
       "      <th>PassengerId</th>\n",
       "      <th></th>\n",
       "      <th></th>\n",
       "      <th></th>\n",
       "      <th></th>\n",
       "      <th></th>\n",
       "      <th></th>\n",
       "      <th></th>\n",
       "      <th></th>\n",
       "      <th></th>\n",
       "      <th></th>\n",
       "    </tr>\n",
       "  </thead>\n",
       "  <tbody>\n",
       "    <tr>\n",
       "      <th>892</th>\n",
       "      <td>3</td>\n",
       "      <td>Kelly, Mr. James</td>\n",
       "      <td>male</td>\n",
       "      <td>34.5</td>\n",
       "      <td>0</td>\n",
       "      <td>0</td>\n",
       "      <td>330911</td>\n",
       "      <td>7.8292</td>\n",
       "      <td>NaN</td>\n",
       "      <td>Q</td>\n",
       "    </tr>\n",
       "    <tr>\n",
       "      <th>893</th>\n",
       "      <td>3</td>\n",
       "      <td>Wilkes, Mrs. James (Ellen Needs)</td>\n",
       "      <td>female</td>\n",
       "      <td>47.0</td>\n",
       "      <td>1</td>\n",
       "      <td>0</td>\n",
       "      <td>363272</td>\n",
       "      <td>7.0000</td>\n",
       "      <td>NaN</td>\n",
       "      <td>S</td>\n",
       "    </tr>\n",
       "    <tr>\n",
       "      <th>894</th>\n",
       "      <td>2</td>\n",
       "      <td>Myles, Mr. Thomas Francis</td>\n",
       "      <td>male</td>\n",
       "      <td>62.0</td>\n",
       "      <td>0</td>\n",
       "      <td>0</td>\n",
       "      <td>240276</td>\n",
       "      <td>9.6875</td>\n",
       "      <td>NaN</td>\n",
       "      <td>Q</td>\n",
       "    </tr>\n",
       "    <tr>\n",
       "      <th>895</th>\n",
       "      <td>3</td>\n",
       "      <td>Wirz, Mr. Albert</td>\n",
       "      <td>male</td>\n",
       "      <td>27.0</td>\n",
       "      <td>0</td>\n",
       "      <td>0</td>\n",
       "      <td>315154</td>\n",
       "      <td>8.6625</td>\n",
       "      <td>NaN</td>\n",
       "      <td>S</td>\n",
       "    </tr>\n",
       "    <tr>\n",
       "      <th>896</th>\n",
       "      <td>3</td>\n",
       "      <td>Hirvonen, Mrs. Alexander (Helga E Lindqvist)</td>\n",
       "      <td>female</td>\n",
       "      <td>22.0</td>\n",
       "      <td>1</td>\n",
       "      <td>1</td>\n",
       "      <td>3101298</td>\n",
       "      <td>12.2875</td>\n",
       "      <td>NaN</td>\n",
       "      <td>S</td>\n",
       "    </tr>\n",
       "  </tbody>\n",
       "</table>\n",
       "</div>"
      ],
      "text/plain": [
       "             Pclass                                          Name     Sex  \\\n",
       "PassengerId                                                                 \n",
       "892               3                              Kelly, Mr. James    male   \n",
       "893               3              Wilkes, Mrs. James (Ellen Needs)  female   \n",
       "894               2                     Myles, Mr. Thomas Francis    male   \n",
       "895               3                              Wirz, Mr. Albert    male   \n",
       "896               3  Hirvonen, Mrs. Alexander (Helga E Lindqvist)  female   \n",
       "\n",
       "              Age  SibSp  Parch   Ticket     Fare Cabin Embarked  \n",
       "PassengerId                                                       \n",
       "892          34.5      0      0   330911   7.8292   NaN        Q  \n",
       "893          47.0      1      0   363272   7.0000   NaN        S  \n",
       "894          62.0      0      0   240276   9.6875   NaN        Q  \n",
       "895          27.0      0      0   315154   8.6625   NaN        S  \n",
       "896          22.0      1      1  3101298  12.2875   NaN        S  "
      ]
     },
     "execution_count": 4,
     "metadata": {},
     "output_type": "execute_result"
    }
   ],
   "source": [
    "test_data.head(5)"
   ]
  },
  {
   "cell_type": "code",
   "execution_count": 5,
   "id": "sharp-intellectual",
   "metadata": {
    "execution": {
     "iopub.execute_input": "2021-06-10T09:48:43.938866Z",
     "iopub.status.busy": "2021-06-10T09:48:43.937866Z",
     "iopub.status.idle": "2021-06-10T09:48:43.944972Z",
     "shell.execute_reply": "2021-06-10T09:48:43.945545Z",
     "shell.execute_reply.started": "2021-06-10T08:43:55.463503Z"
    },
    "papermill": {
     "duration": 0.056034,
     "end_time": "2021-06-10T09:48:43.945723",
     "exception": false,
     "start_time": "2021-06-10T09:48:43.889689",
     "status": "completed"
    },
    "tags": []
   },
   "outputs": [],
   "source": [
    "data_all = pd.concat([train_data, test_data], axis=0, sort=False)"
   ]
  },
  {
   "cell_type": "code",
   "execution_count": 6,
   "id": "turkish-staff",
   "metadata": {
    "execution": {
     "iopub.execute_input": "2021-06-10T09:48:44.050585Z",
     "iopub.status.busy": "2021-06-10T09:48:44.041924Z",
     "iopub.status.idle": "2021-06-10T09:48:44.054832Z",
     "shell.execute_reply": "2021-06-10T09:48:44.055666Z",
     "shell.execute_reply.started": "2021-06-10T08:43:58.228375Z"
    },
    "papermill": {
     "duration": 0.068761,
     "end_time": "2021-06-10T09:48:44.055901",
     "exception": false,
     "start_time": "2021-06-10T09:48:43.987140",
     "status": "completed"
    },
    "tags": []
   },
   "outputs": [
    {
     "name": "stdout",
     "output_type": "stream",
     "text": [
      "<class 'pandas.core.frame.DataFrame'>\n",
      "Int64Index: 1309 entries, 1 to 1309\n",
      "Data columns (total 11 columns):\n",
      "Survived    891 non-null float64\n",
      "Pclass      1309 non-null int64\n",
      "Name        1309 non-null object\n",
      "Sex         1309 non-null object\n",
      "Age         1046 non-null float64\n",
      "SibSp       1309 non-null int64\n",
      "Parch       1309 non-null int64\n",
      "Ticket      1309 non-null object\n",
      "Fare        1308 non-null float64\n",
      "Cabin       295 non-null object\n",
      "Embarked    1307 non-null object\n",
      "dtypes: float64(3), int64(3), object(5)\n",
      "memory usage: 122.7+ KB\n"
     ]
    }
   ],
   "source": [
    "data_all.info()"
   ]
  },
  {
   "cell_type": "code",
   "execution_count": 7,
   "id": "sunset-liabilities",
   "metadata": {
    "execution": {
     "iopub.execute_input": "2021-06-10T09:48:44.147932Z",
     "iopub.status.busy": "2021-06-10T09:48:44.147207Z",
     "iopub.status.idle": "2021-06-10T09:48:44.168076Z",
     "shell.execute_reply": "2021-06-10T09:48:44.167515Z",
     "shell.execute_reply.started": "2021-06-10T08:44:02.904822Z"
    },
    "papermill": {
     "duration": 0.06991,
     "end_time": "2021-06-10T09:48:44.168228",
     "exception": false,
     "start_time": "2021-06-10T09:48:44.098318",
     "status": "completed"
    },
    "tags": []
   },
   "outputs": [
    {
     "data": {
      "text/plain": [
       "Survived    31.932773\n",
       "Pclass       0.000000\n",
       "Name         0.000000\n",
       "Sex          0.000000\n",
       "Age         20.091673\n",
       "SibSp        0.000000\n",
       "Parch        0.000000\n",
       "Ticket       0.000000\n",
       "Fare         0.076394\n",
       "Cabin       77.463713\n",
       "Embarked     0.152788\n",
       "dtype: float64"
      ]
     },
     "execution_count": 7,
     "metadata": {},
     "output_type": "execute_result"
    }
   ],
   "source": [
    "data_all.isnull().sum()/len(data_all)*100"
   ]
  },
  {
   "cell_type": "code",
   "execution_count": 8,
   "id": "grand-charter",
   "metadata": {
    "execution": {
     "iopub.execute_input": "2021-06-10T09:48:44.257026Z",
     "iopub.status.busy": "2021-06-10T09:48:44.256109Z",
     "iopub.status.idle": "2021-06-10T09:48:44.261796Z",
     "shell.execute_reply": "2021-06-10T09:48:44.261192Z",
     "shell.execute_reply.started": "2021-06-10T08:44:07.460723Z"
    },
    "papermill": {
     "duration": 0.051808,
     "end_time": "2021-06-10T09:48:44.261930",
     "exception": false,
     "start_time": "2021-06-10T09:48:44.210122",
     "status": "completed"
    },
    "tags": []
   },
   "outputs": [
    {
     "data": {
      "text/plain": [
       "array(['male', 'female'], dtype=object)"
      ]
     },
     "execution_count": 8,
     "metadata": {},
     "output_type": "execute_result"
    }
   ],
   "source": [
    "pd.unique(data_all.Sex)"
   ]
  },
  {
   "cell_type": "code",
   "execution_count": 9,
   "id": "dedicated-subscriber",
   "metadata": {
    "execution": {
     "iopub.execute_input": "2021-06-10T09:48:44.353185Z",
     "iopub.status.busy": "2021-06-10T09:48:44.352462Z",
     "iopub.status.idle": "2021-06-10T09:48:44.355359Z",
     "shell.execute_reply": "2021-06-10T09:48:44.355844Z",
     "shell.execute_reply.started": "2021-06-10T08:44:12.187033Z"
    },
    "papermill": {
     "duration": 0.05199,
     "end_time": "2021-06-10T09:48:44.356017",
     "exception": false,
     "start_time": "2021-06-10T09:48:44.304027",
     "status": "completed"
    },
    "tags": []
   },
   "outputs": [],
   "source": [
    "Sex_dict = {'female':0, 'male':1}\n",
    "data_all.Sex = data_all.Sex.map(Sex_dict)"
   ]
  },
  {
   "cell_type": "code",
   "execution_count": 10,
   "id": "intended-arizona",
   "metadata": {
    "execution": {
     "iopub.execute_input": "2021-06-10T09:48:44.452123Z",
     "iopub.status.busy": "2021-06-10T09:48:44.451124Z",
     "iopub.status.idle": "2021-06-10T09:48:44.454822Z",
     "shell.execute_reply": "2021-06-10T09:48:44.455490Z",
     "shell.execute_reply.started": "2021-06-10T08:44:14.213630Z"
    },
    "papermill": {
     "duration": 0.057602,
     "end_time": "2021-06-10T09:48:44.455682",
     "exception": false,
     "start_time": "2021-06-10T09:48:44.398080",
     "status": "completed"
    },
    "tags": []
   },
   "outputs": [
    {
     "data": {
      "text/plain": [
       "array(['S', 'C', 'Q', nan], dtype=object)"
      ]
     },
     "execution_count": 10,
     "metadata": {},
     "output_type": "execute_result"
    }
   ],
   "source": [
    "pd.unique(data_all.Embarked)"
   ]
  },
  {
   "cell_type": "code",
   "execution_count": 11,
   "id": "civilian-murder",
   "metadata": {
    "execution": {
     "iopub.execute_input": "2021-06-10T09:48:44.568355Z",
     "iopub.status.busy": "2021-06-10T09:48:44.567336Z",
     "iopub.status.idle": "2021-06-10T09:48:44.574365Z",
     "shell.execute_reply": "2021-06-10T09:48:44.573799Z",
     "shell.execute_reply.started": "2021-06-10T08:44:16.793326Z"
    },
    "papermill": {
     "duration": 0.059423,
     "end_time": "2021-06-10T09:48:44.574515",
     "exception": false,
     "start_time": "2021-06-10T09:48:44.515092",
     "status": "completed"
    },
    "tags": []
   },
   "outputs": [],
   "source": [
    "Embarked_dict = {'S':0,'C':1,'Q':2}\n",
    "data_all.Embarked = data_all.Embarked.map(Embarked_dict)"
   ]
  },
  {
   "cell_type": "code",
   "execution_count": 12,
   "id": "regional-sphere",
   "metadata": {
    "execution": {
     "iopub.execute_input": "2021-06-10T09:48:44.670701Z",
     "iopub.status.busy": "2021-06-10T09:48:44.669811Z",
     "iopub.status.idle": "2021-06-10T09:48:46.552823Z",
     "shell.execute_reply": "2021-06-10T09:48:46.552277Z",
     "shell.execute_reply.started": "2021-06-10T08:44:19.554521Z"
    },
    "papermill": {
     "duration": 1.935735,
     "end_time": "2021-06-10T09:48:46.552972",
     "exception": false,
     "start_time": "2021-06-10T09:48:44.617237",
     "status": "completed"
    },
    "tags": []
   },
   "outputs": [
    {
     "data": {
      "image/png": "[encoded data removed]",
      "text/plain": [
       "<Figure size 1152x1008 with 6 Axes>"
      ]
     },
     "metadata": {
      "needs_background": "light"
     },
     "output_type": "display_data"
    }
   ],
   "source": [
    "%matplotlib inline\n",
    "import matplotlib.pyplot as plt\n",
    "import seaborn as sns\n",
    "\n",
    "columns = ['Pclass', 'Sex','Embarked','SibSp', 'Parch','Survived']\n",
    "\n",
    "plt.figure(figsize=(16, 14))\n",
    "sns.set(font_scale= 1.2)\n",
    "sns.set_style('ticks')\n",
    "\n",
    "for i, feature in enumerate(columns):\n",
    "    plt.subplot(3, 3, i+1)\n",
    "    sns.countplot(data=data_all, x=feature, hue='Survived', palette='Paired')\n",
    "    \n",
    "sns.despine()"
   ]
  },
  {
   "cell_type": "code",
   "execution_count": 13,
   "id": "scientific-cursor",
   "metadata": {
    "execution": {
     "iopub.execute_input": "2021-06-10T09:48:46.663817Z",
     "iopub.status.busy": "2021-06-10T09:48:46.663136Z",
     "iopub.status.idle": "2021-06-10T09:48:47.722285Z",
     "shell.execute_reply": "2021-06-10T09:48:47.721746Z",
     "shell.execute_reply.started": "2021-06-10T08:44:25.234179Z"
    },
    "papermill": {
     "duration": 1.125109,
     "end_time": "2021-06-10T09:48:47.722431",
     "exception": false,
     "start_time": "2021-06-10T09:48:46.597322",
     "status": "completed"
    },
    "tags": []
   },
   "outputs": [
    {
     "data": {
      "image/png": "[encoded data removed]",
      "text/plain": [
       "<Figure size 1152x1008 with 6 Axes>"
      ]
     },
     "metadata": {
      "needs_background": "light"
     },
     "output_type": "display_data"
    }
   ],
   "source": [
    "columns = ['Pclass', 'Sex','Embarked','SibSp', 'Parch','Survived']\n",
    "\n",
    "plt.figure(figsize=(16, 14))\n",
    "sns.set(font_scale= 1.2)\n",
    "sns.set_style('ticks')\n",
    "\n",
    "for i, feature in enumerate(columns):\n",
    "    plt.subplot(3, 3, i+1)\n",
    "    sns.countplot(data=data_all, x=feature, hue='Sex', palette='BrBG')\n",
    "    \n",
    "sns.despine()"
   ]
  },
  {
   "cell_type": "code",
   "execution_count": 14,
   "id": "moving-corruption",
   "metadata": {
    "execution": {
     "iopub.execute_input": "2021-06-10T09:48:47.820141Z",
     "iopub.status.busy": "2021-06-10T09:48:47.819454Z",
     "iopub.status.idle": "2021-06-10T09:48:47.836810Z",
     "shell.execute_reply": "2021-06-10T09:48:47.837332Z",
     "shell.execute_reply.started": "2021-06-10T08:44:30.224550Z"
    },
    "papermill": {
     "duration": 0.068108,
     "end_time": "2021-06-10T09:48:47.837513",
     "exception": false,
     "start_time": "2021-06-10T09:48:47.769405",
     "status": "completed"
    },
    "tags": []
   },
   "outputs": [
    {
     "data": {
      "text/html": [
       "<div>\n",
       "<style scoped>\n",
       "    .dataframe tbody tr th:only-of-type {\n",
       "        vertical-align: middle;\n",
       "    }\n",
       "\n",
       "    .dataframe tbody tr th {\n",
       "        vertical-align: top;\n",
       "    }\n",
       "\n",
       "    .dataframe thead th {\n",
       "        text-align: right;\n",
       "    }\n",
       "</style>\n",
       "<table border=\"1\" class=\"dataframe\">\n",
       "  <thead>\n",
       "    <tr style=\"text-align: right;\">\n",
       "      <th></th>\n",
       "      <th>Survived</th>\n",
       "      <th>Pclass</th>\n",
       "      <th>Sex</th>\n",
       "      <th>Age</th>\n",
       "      <th>SibSp</th>\n",
       "      <th>Parch</th>\n",
       "      <th>Fare</th>\n",
       "      <th>Embarked</th>\n",
       "    </tr>\n",
       "  </thead>\n",
       "  <tbody>\n",
       "    <tr>\n",
       "      <th>Survived</th>\n",
       "      <td>1.000000</td>\n",
       "      <td>-0.338481</td>\n",
       "      <td>-0.543351</td>\n",
       "      <td>-0.077221</td>\n",
       "      <td>-0.035322</td>\n",
       "      <td>0.081629</td>\n",
       "      <td>0.257307</td>\n",
       "      <td>0.108669</td>\n",
       "    </tr>\n",
       "    <tr>\n",
       "      <th>Pclass</th>\n",
       "      <td>-0.338481</td>\n",
       "      <td>1.000000</td>\n",
       "      <td>0.124617</td>\n",
       "      <td>-0.408106</td>\n",
       "      <td>0.060832</td>\n",
       "      <td>0.018322</td>\n",
       "      <td>-0.558629</td>\n",
       "      <td>0.037527</td>\n",
       "    </tr>\n",
       "    <tr>\n",
       "      <th>Sex</th>\n",
       "      <td>-0.543351</td>\n",
       "      <td>0.124617</td>\n",
       "      <td>1.000000</td>\n",
       "      <td>0.063645</td>\n",
       "      <td>-0.109609</td>\n",
       "      <td>-0.213125</td>\n",
       "      <td>-0.185523</td>\n",
       "      <td>-0.121868</td>\n",
       "    </tr>\n",
       "    <tr>\n",
       "      <th>Age</th>\n",
       "      <td>-0.077221</td>\n",
       "      <td>-0.408106</td>\n",
       "      <td>0.063645</td>\n",
       "      <td>1.000000</td>\n",
       "      <td>-0.243699</td>\n",
       "      <td>-0.150917</td>\n",
       "      <td>0.178740</td>\n",
       "      <td>0.048993</td>\n",
       "    </tr>\n",
       "    <tr>\n",
       "      <th>SibSp</th>\n",
       "      <td>-0.035322</td>\n",
       "      <td>0.060832</td>\n",
       "      <td>-0.109609</td>\n",
       "      <td>-0.243699</td>\n",
       "      <td>1.000000</td>\n",
       "      <td>0.373587</td>\n",
       "      <td>0.160238</td>\n",
       "      <td>-0.073937</td>\n",
       "    </tr>\n",
       "    <tr>\n",
       "      <th>Parch</th>\n",
       "      <td>0.081629</td>\n",
       "      <td>0.018322</td>\n",
       "      <td>-0.213125</td>\n",
       "      <td>-0.150917</td>\n",
       "      <td>0.373587</td>\n",
       "      <td>1.000000</td>\n",
       "      <td>0.221539</td>\n",
       "      <td>-0.095975</td>\n",
       "    </tr>\n",
       "    <tr>\n",
       "      <th>Fare</th>\n",
       "      <td>0.257307</td>\n",
       "      <td>-0.558629</td>\n",
       "      <td>-0.185523</td>\n",
       "      <td>0.178740</td>\n",
       "      <td>0.160238</td>\n",
       "      <td>0.221539</td>\n",
       "      <td>1.000000</td>\n",
       "      <td>0.062017</td>\n",
       "    </tr>\n",
       "    <tr>\n",
       "      <th>Embarked</th>\n",
       "      <td>0.108669</td>\n",
       "      <td>0.037527</td>\n",
       "      <td>-0.121868</td>\n",
       "      <td>0.048993</td>\n",
       "      <td>-0.073937</td>\n",
       "      <td>-0.095975</td>\n",
       "      <td>0.062017</td>\n",
       "      <td>1.000000</td>\n",
       "    </tr>\n",
       "  </tbody>\n",
       "</table>\n",
       "</div>"
      ],
      "text/plain": [
       "          Survived    Pclass       Sex       Age     SibSp     Parch  \\\n",
       "Survived  1.000000 -0.338481 -0.543351 -0.077221 -0.035322  0.081629   \n",
       "Pclass   -0.338481  1.000000  0.124617 -0.408106  0.060832  0.018322   \n",
       "Sex      -0.543351  0.124617  1.000000  0.063645 -0.109609 -0.213125   \n",
       "Age      -0.077221 -0.408106  0.063645  1.000000 -0.243699 -0.150917   \n",
       "SibSp    -0.035322  0.060832 -0.109609 -0.243699  1.000000  0.373587   \n",
       "Parch     0.081629  0.018322 -0.213125 -0.150917  0.373587  1.000000   \n",
       "Fare      0.257307 -0.558629 -0.185523  0.178740  0.160238  0.221539   \n",
       "Embarked  0.108669  0.037527 -0.121868  0.048993 -0.073937 -0.095975   \n",
       "\n",
       "              Fare  Embarked  \n",
       "Survived  0.257307  0.108669  \n",
       "Pclass   -0.558629  0.037527  \n",
       "Sex      -0.185523 -0.121868  \n",
       "Age       0.178740  0.048993  \n",
       "SibSp     0.160238 -0.073937  \n",
       "Parch     0.221539 -0.095975  \n",
       "Fare      1.000000  0.062017  \n",
       "Embarked  0.062017  1.000000  "
      ]
     },
     "execution_count": 14,
     "metadata": {},
     "output_type": "execute_result"
    }
   ],
   "source": [
    "data_all.corr()"
   ]
  },
  {
   "cell_type": "code",
   "execution_count": 15,
   "id": "difficult-active",
   "metadata": {
    "execution": {
     "iopub.execute_input": "2021-06-10T09:48:47.939451Z",
     "iopub.status.busy": "2021-06-10T09:48:47.938747Z",
     "iopub.status.idle": "2021-06-10T09:48:48.310273Z",
     "shell.execute_reply": "2021-06-10T09:48:48.310720Z",
     "shell.execute_reply.started": "2021-06-10T08:44:44.635004Z"
    },
    "papermill": {
     "duration": 0.427243,
     "end_time": "2021-06-10T09:48:48.310899",
     "exception": false,
     "start_time": "2021-06-10T09:48:47.883656",
     "status": "completed"
    },
    "tags": []
   },
   "outputs": [
    {
     "data": {
      "image/png": "[encoded data removed]",
      "text/plain": [
       "<Figure size 576x432 with 2 Axes>"
      ]
     },
     "metadata": {},
     "output_type": "display_data"
    }
   ],
   "source": [
    "corr_all = data_all.corr()\n",
    "fig, axs = plt.subplots(figsize=(8, 6))\n",
    "sns.heatmap(corr_all).set_title(\"Correlation Map\",fontdict= { 'fontsize': 20, 'fontweight':'bold'});"
   ]
  },
  {
   "cell_type": "code",
   "execution_count": 16,
   "id": "cheap-manitoba",
   "metadata": {
    "execution": {
     "iopub.execute_input": "2021-06-10T09:48:48.411449Z",
     "iopub.status.busy": "2021-06-10T09:48:48.409816Z",
     "iopub.status.idle": "2021-06-10T09:48:48.414771Z",
     "shell.execute_reply": "2021-06-10T09:48:48.414236Z",
     "shell.execute_reply.started": "2021-06-10T08:44:48.932824Z"
    },
    "papermill": {
     "duration": 0.056898,
     "end_time": "2021-06-10T09:48:48.414910",
     "exception": false,
     "start_time": "2021-06-10T09:48:48.358012",
     "status": "completed"
    },
    "tags": []
   },
   "outputs": [],
   "source": [
    "freq_port = data_all['Embarked'].dropna().mode()[0]\n",
    "data_all['Embarked'] = data_all['Embarked'].fillna(freq_port)"
   ]
  },
  {
   "cell_type": "code",
   "execution_count": 17,
   "id": "postal-switzerland",
   "metadata": {
    "execution": {
     "iopub.execute_input": "2021-06-10T09:48:48.513777Z",
     "iopub.status.busy": "2021-06-10T09:48:48.512937Z",
     "iopub.status.idle": "2021-06-10T09:48:48.523806Z",
     "shell.execute_reply": "2021-06-10T09:48:48.524391Z",
     "shell.execute_reply.started": "2021-06-10T08:44:52.050405Z"
    },
    "papermill": {
     "duration": 0.062588,
     "end_time": "2021-06-10T09:48:48.524590",
     "exception": false,
     "start_time": "2021-06-10T09:48:48.462002",
     "status": "completed"
    },
    "tags": []
   },
   "outputs": [
    {
     "data": {
      "text/plain": [
       "Pclass  SibSp\n",
       "1       0        39.033333\n",
       "        1        39.943178\n",
       "        2        39.125000\n",
       "        3        23.500000\n",
       "2       0        31.104398\n",
       "        1        27.767317\n",
       "        2        19.250000\n",
       "        3        30.000000\n",
       "3       0        27.055311\n",
       "        1        23.576044\n",
       "        2        19.031250\n",
       "        3        12.454545\n",
       "        4         8.772727\n",
       "        5        10.166667\n",
       "        8        14.500000\n",
       "Name: Age, dtype: float64"
      ]
     },
     "execution_count": 17,
     "metadata": {},
     "output_type": "execute_result"
    }
   ],
   "source": [
    "data_all.groupby(['Pclass','SibSp'])['Age'].mean()"
   ]
  },
  {
   "cell_type": "code",
   "execution_count": 18,
   "id": "intermediate-paper",
   "metadata": {
    "execution": {
     "iopub.execute_input": "2021-06-10T09:48:48.625398Z",
     "iopub.status.busy": "2021-06-10T09:48:48.624744Z",
     "iopub.status.idle": "2021-06-10T09:48:48.631470Z",
     "shell.execute_reply": "2021-06-10T09:48:48.631964Z",
     "shell.execute_reply.started": "2021-06-10T08:44:55.244388Z"
    },
    "papermill": {
     "duration": 0.057974,
     "end_time": "2021-06-10T09:48:48.632161",
     "exception": false,
     "start_time": "2021-06-10T09:48:48.574187",
     "status": "completed"
    },
    "tags": []
   },
   "outputs": [],
   "source": [
    "data_all[\"Age\"].fillna(data_all.groupby(['Pclass','SibSp'])['Age'].transform(\"mean\"), inplace=True)"
   ]
  },
  {
   "cell_type": "code",
   "execution_count": 19,
   "id": "centered-sheffield",
   "metadata": {
    "execution": {
     "iopub.execute_input": "2021-06-10T09:48:48.764848Z",
     "iopub.status.busy": "2021-06-10T09:48:48.764204Z",
     "iopub.status.idle": "2021-06-10T09:48:48.978021Z",
     "shell.execute_reply": "2021-06-10T09:48:48.978523Z",
     "shell.execute_reply.started": "2021-06-10T08:44:58.059259Z"
    },
    "papermill": {
     "duration": 0.297338,
     "end_time": "2021-06-10T09:48:48.978718",
     "exception": false,
     "start_time": "2021-06-10T09:48:48.681380",
     "status": "completed"
    },
    "tags": []
   },
   "outputs": [
    {
     "data": {
      "image/png": "[encoded data removed]",
      "text/plain": [
       "<Figure size 720x360 with 1 Axes>"
      ]
     },
     "metadata": {},
     "output_type": "display_data"
    }
   ],
   "source": [
    "fig, axs = plt.subplots(figsize=(10, 5))\n",
    "sns.distplot(data_all['Age']).set_title(\"Age distribution\",fontdict= { 'fontsize': 20, 'fontweight':'bold'});\n",
    "sns.despine()"
   ]
  },
  {
   "cell_type": "code",
   "execution_count": 20,
   "id": "professional-colombia",
   "metadata": {
    "execution": {
     "iopub.execute_input": "2021-06-10T09:48:49.080448Z",
     "iopub.status.busy": "2021-06-10T09:48:49.079796Z",
     "iopub.status.idle": "2021-06-10T09:48:49.329324Z",
     "shell.execute_reply": "2021-06-10T09:48:49.329803Z",
     "shell.execute_reply.started": "2021-06-10T08:45:02.809614Z"
    },
    "papermill": {
     "duration": 0.302522,
     "end_time": "2021-06-10T09:48:49.329999",
     "exception": false,
     "start_time": "2021-06-10T09:48:49.027477",
     "status": "completed"
    },
    "tags": []
   },
   "outputs": [
    {
     "data": {
      "image/png": "[encoded data removed]",
      "text/plain": [
       "<Figure size 1080x360 with 1 Axes>"
      ]
     },
     "metadata": {},
     "output_type": "display_data"
    }
   ],
   "source": [
    "auxage = pd.cut(data_all['Age'], 4)\n",
    "fig, axs = plt.subplots(figsize=(15, 5))\n",
    "sns.countplot(x=auxage, hue='Survived', data=data_all).set_title(\"Age Bins\",fontdict= { 'fontsize': 20, 'fontweight':'bold'});\n",
    "sns.despine()"
   ]
  },
  {
   "cell_type": "code",
   "execution_count": 21,
   "id": "former-aircraft",
   "metadata": {
    "execution": {
     "iopub.execute_input": "2021-06-10T09:48:49.431575Z",
     "iopub.status.busy": "2021-06-10T09:48:49.430905Z",
     "iopub.status.idle": "2021-06-10T09:48:49.585922Z",
     "shell.execute_reply": "2021-06-10T09:48:49.585307Z",
     "shell.execute_reply.started": "2021-06-10T08:45:06.752550Z"
    },
    "papermill": {
     "duration": 0.207014,
     "end_time": "2021-06-10T09:48:49.586083",
     "exception": false,
     "start_time": "2021-06-10T09:48:49.379069",
     "status": "completed"
    },
    "tags": []
   },
   "outputs": [],
   "source": [
    "from sklearn.preprocessing import LabelEncoder, OneHotEncoder\n",
    "\n",
    "data_all['Age'] = LabelEncoder().fit_transform(auxage) "
   ]
  },
  {
   "cell_type": "code",
   "execution_count": 22,
   "id": "emerging-white",
   "metadata": {
    "execution": {
     "iopub.execute_input": "2021-06-10T09:48:49.695849Z",
     "iopub.status.busy": "2021-06-10T09:48:49.694724Z",
     "iopub.status.idle": "2021-06-10T09:48:49.723508Z",
     "shell.execute_reply": "2021-06-10T09:48:49.724030Z",
     "shell.execute_reply.started": "2021-06-10T08:45:09.502393Z"
    },
    "papermill": {
     "duration": 0.088621,
     "end_time": "2021-06-10T09:48:49.724235",
     "exception": false,
     "start_time": "2021-06-10T09:48:49.635614",
     "status": "completed"
    },
    "tags": []
   },
   "outputs": [
    {
     "data": {
      "text/html": [
       "<div>\n",
       "<style scoped>\n",
       "    .dataframe tbody tr th:only-of-type {\n",
       "        vertical-align: middle;\n",
       "    }\n",
       "\n",
       "    .dataframe tbody tr th {\n",
       "        vertical-align: top;\n",
       "    }\n",
       "\n",
       "    .dataframe thead th {\n",
       "        text-align: right;\n",
       "    }\n",
       "</style>\n",
       "<table border=\"1\" class=\"dataframe\">\n",
       "  <thead>\n",
       "    <tr style=\"text-align: right;\">\n",
       "      <th>Survived</th>\n",
       "      <th>0.0</th>\n",
       "      <th>1.0</th>\n",
       "    </tr>\n",
       "    <tr>\n",
       "      <th>Age</th>\n",
       "      <th></th>\n",
       "      <th></th>\n",
       "    </tr>\n",
       "  </thead>\n",
       "  <tbody>\n",
       "    <tr>\n",
       "      <th>0</th>\n",
       "      <td>109</td>\n",
       "      <td>84</td>\n",
       "    </tr>\n",
       "    <tr>\n",
       "      <th>1</th>\n",
       "      <td>345</td>\n",
       "      <td>203</td>\n",
       "    </tr>\n",
       "    <tr>\n",
       "      <th>2</th>\n",
       "      <td>78</td>\n",
       "      <td>50</td>\n",
       "    </tr>\n",
       "    <tr>\n",
       "      <th>3</th>\n",
       "      <td>17</td>\n",
       "      <td>5</td>\n",
       "    </tr>\n",
       "  </tbody>\n",
       "</table>\n",
       "</div>"
      ],
      "text/plain": [
       "Survived  0.0  1.0\n",
       "Age               \n",
       "0         109   84\n",
       "1         345  203\n",
       "2          78   50\n",
       "3          17    5"
      ]
     },
     "execution_count": 22,
     "metadata": {},
     "output_type": "execute_result"
    }
   ],
   "source": [
    "pd.crosstab(data_all['Age'], data_all['Survived'])"
   ]
  },
  {
   "cell_type": "code",
   "execution_count": 23,
   "id": "through-spare",
   "metadata": {
    "execution": {
     "iopub.execute_input": "2021-06-10T09:48:49.828256Z",
     "iopub.status.busy": "2021-06-10T09:48:49.827585Z",
     "iopub.status.idle": "2021-06-10T09:48:49.837636Z",
     "shell.execute_reply": "2021-06-10T09:48:49.837072Z",
     "shell.execute_reply.started": "2021-06-10T08:45:13.777141Z"
    },
    "papermill": {
     "duration": 0.062393,
     "end_time": "2021-06-10T09:48:49.837775",
     "exception": false,
     "start_time": "2021-06-10T09:48:49.775382",
     "status": "completed"
    },
    "tags": []
   },
   "outputs": [],
   "source": [
    "data_all[\"Fare\"].fillna(data_all.groupby(['Pclass', 'Sex'])['Fare'].transform(\"median\"), inplace=True)"
   ]
  },
  {
   "cell_type": "code",
   "execution_count": 24,
   "id": "public-consensus",
   "metadata": {
    "execution": {
     "iopub.execute_input": "2021-06-10T09:48:49.946295Z",
     "iopub.status.busy": "2021-06-10T09:48:49.945576Z",
     "iopub.status.idle": "2021-06-10T09:48:50.185828Z",
     "shell.execute_reply": "2021-06-10T09:48:50.186302Z",
     "shell.execute_reply.started": "2021-06-10T08:45:17.872433Z"
    },
    "papermill": {
     "duration": 0.298465,
     "end_time": "2021-06-10T09:48:50.186483",
     "exception": false,
     "start_time": "2021-06-10T09:48:49.888018",
     "status": "completed"
    },
    "tags": []
   },
   "outputs": [
    {
     "data": {
      "image/png": "[encoded data removed]",
      "text/plain": [
       "<Figure size 1080x360 with 1 Axes>"
      ]
     },
     "metadata": {},
     "output_type": "display_data"
    }
   ],
   "source": [
    "auxfare = pd.cut(data_all['Fare'],5)\n",
    "fig, axs = plt.subplots(figsize=(15, 5))\n",
    "sns.countplot(x=auxfare, hue='Survived', data=data_all).set_title(\"Fare Bins\",fontdict= { 'fontsize': 20, 'fontweight':'bold'});\n",
    "sns.despine()"
   ]
  },
  {
   "cell_type": "code",
   "execution_count": 25,
   "id": "champion-relationship",
   "metadata": {
    "execution": {
     "iopub.execute_input": "2021-06-10T09:48:50.291126Z",
     "iopub.status.busy": "2021-06-10T09:48:50.290460Z",
     "iopub.status.idle": "2021-06-10T09:48:50.299510Z",
     "shell.execute_reply": "2021-06-10T09:48:50.299997Z",
     "shell.execute_reply.started": "2021-06-10T08:45:23.359257Z"
    },
    "papermill": {
     "duration": 0.063235,
     "end_time": "2021-06-10T09:48:50.300205",
     "exception": false,
     "start_time": "2021-06-10T09:48:50.236970",
     "status": "completed"
    },
    "tags": []
   },
   "outputs": [],
   "source": [
    "data_all['Fare'] = LabelEncoder().fit_transform(auxfare) "
   ]
  },
  {
   "cell_type": "code",
   "execution_count": 26,
   "id": "pursuant-prospect",
   "metadata": {
    "execution": {
     "iopub.execute_input": "2021-06-10T09:48:50.408207Z",
     "iopub.status.busy": "2021-06-10T09:48:50.407551Z",
     "iopub.status.idle": "2021-06-10T09:48:50.431357Z",
     "shell.execute_reply": "2021-06-10T09:48:50.431813Z",
     "shell.execute_reply.started": "2021-06-10T08:45:27.153856Z"
    },
    "papermill": {
     "duration": 0.07893,
     "end_time": "2021-06-10T09:48:50.432005",
     "exception": false,
     "start_time": "2021-06-10T09:48:50.353075",
     "status": "completed"
    },
    "tags": []
   },
   "outputs": [
    {
     "data": {
      "text/html": [
       "<div>\n",
       "<style scoped>\n",
       "    .dataframe tbody tr th:only-of-type {\n",
       "        vertical-align: middle;\n",
       "    }\n",
       "\n",
       "    .dataframe tbody tr th {\n",
       "        vertical-align: top;\n",
       "    }\n",
       "\n",
       "    .dataframe thead th {\n",
       "        text-align: right;\n",
       "    }\n",
       "</style>\n",
       "<table border=\"1\" class=\"dataframe\">\n",
       "  <thead>\n",
       "    <tr style=\"text-align: right;\">\n",
       "      <th>Survived</th>\n",
       "      <th>0.0</th>\n",
       "      <th>1.0</th>\n",
       "    </tr>\n",
       "    <tr>\n",
       "      <th>Fare</th>\n",
       "      <th></th>\n",
       "      <th></th>\n",
       "    </tr>\n",
       "  </thead>\n",
       "  <tbody>\n",
       "    <tr>\n",
       "      <th>0</th>\n",
       "      <td>535</td>\n",
       "      <td>303</td>\n",
       "    </tr>\n",
       "    <tr>\n",
       "      <th>1</th>\n",
       "      <td>8</td>\n",
       "      <td>25</td>\n",
       "    </tr>\n",
       "    <tr>\n",
       "      <th>2</th>\n",
       "      <td>6</td>\n",
       "      <td>11</td>\n",
       "    </tr>\n",
       "    <tr>\n",
       "      <th>3</th>\n",
       "      <td>0</td>\n",
       "      <td>3</td>\n",
       "    </tr>\n",
       "  </tbody>\n",
       "</table>\n",
       "</div>"
      ],
      "text/plain": [
       "Survived  0.0  1.0\n",
       "Fare              \n",
       "0         535  303\n",
       "1           8   25\n",
       "2           6   11\n",
       "3           0    3"
      ]
     },
     "execution_count": 26,
     "metadata": {},
     "output_type": "execute_result"
    }
   ],
   "source": [
    "pd.crosstab(data_all['Fare'], data_all['Survived'])"
   ]
  },
  {
   "cell_type": "code",
   "execution_count": 27,
   "id": "close-light",
   "metadata": {
    "execution": {
     "iopub.execute_input": "2021-06-10T09:48:50.538351Z",
     "iopub.status.busy": "2021-06-10T09:48:50.537691Z",
     "iopub.status.idle": "2021-06-10T09:48:50.543274Z",
     "shell.execute_reply": "2021-06-10T09:48:50.543745Z",
     "shell.execute_reply.started": "2021-06-10T08:45:30.475486Z"
    },
    "papermill": {
     "duration": 0.060227,
     "end_time": "2021-06-10T09:48:50.543930",
     "exception": false,
     "start_time": "2021-06-10T09:48:50.483703",
     "status": "completed"
    },
    "tags": []
   },
   "outputs": [],
   "source": [
    "data_all.drop(['Cabin'], axis = 1, inplace = True)"
   ]
  },
  {
   "cell_type": "code",
   "execution_count": 28,
   "id": "overall-population",
   "metadata": {
    "execution": {
     "iopub.execute_input": "2021-06-10T09:48:50.650390Z",
     "iopub.status.busy": "2021-06-10T09:48:50.649648Z",
     "iopub.status.idle": "2021-06-10T09:48:50.659836Z",
     "shell.execute_reply": "2021-06-10T09:48:50.660326Z",
     "shell.execute_reply.started": "2021-06-10T08:45:35.210285Z"
    },
    "papermill": {
     "duration": 0.064885,
     "end_time": "2021-06-10T09:48:50.660515",
     "exception": false,
     "start_time": "2021-06-10T09:48:50.595630",
     "status": "completed"
    },
    "tags": []
   },
   "outputs": [],
   "source": [
    "data_all['Title'] = data_all.Name.str.extract('([A-Za-z]+)\\.', expand = False)"
   ]
  },
  {
   "cell_type": "code",
   "execution_count": 29,
   "id": "legendary-cleaner",
   "metadata": {
    "execution": {
     "iopub.execute_input": "2021-06-10T09:48:50.768361Z",
     "iopub.status.busy": "2021-06-10T09:48:50.767642Z",
     "iopub.status.idle": "2021-06-10T09:48:50.776133Z",
     "shell.execute_reply": "2021-06-10T09:48:50.776666Z",
     "shell.execute_reply.started": "2021-06-10T08:45:40.080881Z"
    },
    "papermill": {
     "duration": 0.063551,
     "end_time": "2021-06-10T09:48:50.776835",
     "exception": false,
     "start_time": "2021-06-10T09:48:50.713284",
     "status": "completed"
    },
    "tags": []
   },
   "outputs": [
    {
     "data": {
      "text/plain": [
       "Mr          757\n",
       "Miss        260\n",
       "Mrs         197\n",
       "Master       61\n",
       "Dr            8\n",
       "Rev           8\n",
       "Col           4\n",
       "Major         2\n",
       "Ms            2\n",
       "Mlle          2\n",
       "Capt          1\n",
       "Dona          1\n",
       "Sir           1\n",
       "Mme           1\n",
       "Countess      1\n",
       "Don           1\n",
       "Jonkheer      1\n",
       "Lady          1\n",
       "Name: Title, dtype: int64"
      ]
     },
     "execution_count": 29,
     "metadata": {},
     "output_type": "execute_result"
    }
   ],
   "source": [
    "data_all.Title.value_counts()"
   ]
  },
  {
   "cell_type": "code",
   "execution_count": 30,
   "id": "cheap-magic",
   "metadata": {
    "execution": {
     "iopub.execute_input": "2021-06-10T09:48:50.884837Z",
     "iopub.status.busy": "2021-06-10T09:48:50.884206Z",
     "iopub.status.idle": "2021-06-10T09:48:50.897353Z",
     "shell.execute_reply": "2021-06-10T09:48:50.897858Z",
     "shell.execute_reply.started": "2021-06-10T08:45:46.307794Z"
    },
    "papermill": {
     "duration": 0.069464,
     "end_time": "2021-06-10T09:48:50.898052",
     "exception": false,
     "start_time": "2021-06-10T09:48:50.828588",
     "status": "completed"
    },
    "tags": []
   },
   "outputs": [
    {
     "data": {
      "text/plain": [
       "array(['Mr', 'Mrs', 'Miss', 'Master', 'Rare'], dtype=object)"
      ]
     },
     "execution_count": 30,
     "metadata": {},
     "output_type": "execute_result"
    }
   ],
   "source": [
    "least_occuring = ['Rev','Dr','Major', 'Col', 'Capt','Jonkheer','Countess']\n",
    "\n",
    "data_all.Title = data_all.Title.replace(['Ms', 'Mlle','Mme','Lady'], 'Miss')\n",
    "data_all.Title = data_all.Title.replace(['Countess','Dona'], 'Mrs')\n",
    "data_all.Title = data_all.Title.replace(['Don','Sir'], 'Mr')\n",
    "\n",
    "data_all.Title = data_all.Title.replace(least_occuring,'Rare')\n",
    "\n",
    "data_all.Title.unique()"
   ]
  },
  {
   "cell_type": "code",
   "execution_count": 31,
   "id": "authorized-atlas",
   "metadata": {
    "execution": {
     "iopub.execute_input": "2021-06-10T09:48:51.007081Z",
     "iopub.status.busy": "2021-06-10T09:48:51.006434Z",
     "iopub.status.idle": "2021-06-10T09:48:51.030198Z",
     "shell.execute_reply": "2021-06-10T09:48:51.030748Z",
     "shell.execute_reply.started": "2021-06-10T08:45:51.422613Z"
    },
    "papermill": {
     "duration": 0.079564,
     "end_time": "2021-06-10T09:48:51.030924",
     "exception": false,
     "start_time": "2021-06-10T09:48:50.951360",
     "status": "completed"
    },
    "tags": []
   },
   "outputs": [
    {
     "data": {
      "text/html": [
       "<div>\n",
       "<style scoped>\n",
       "    .dataframe tbody tr th:only-of-type {\n",
       "        vertical-align: middle;\n",
       "    }\n",
       "\n",
       "    .dataframe tbody tr th {\n",
       "        vertical-align: top;\n",
       "    }\n",
       "\n",
       "    .dataframe thead th {\n",
       "        text-align: right;\n",
       "    }\n",
       "</style>\n",
       "<table border=\"1\" class=\"dataframe\">\n",
       "  <thead>\n",
       "    <tr style=\"text-align: right;\">\n",
       "      <th>Survived</th>\n",
       "      <th>0.0</th>\n",
       "      <th>1.0</th>\n",
       "    </tr>\n",
       "    <tr>\n",
       "      <th>Title</th>\n",
       "      <th></th>\n",
       "      <th></th>\n",
       "    </tr>\n",
       "  </thead>\n",
       "  <tbody>\n",
       "    <tr>\n",
       "      <th>Master</th>\n",
       "      <td>17</td>\n",
       "      <td>23</td>\n",
       "    </tr>\n",
       "    <tr>\n",
       "      <th>Miss</th>\n",
       "      <td>55</td>\n",
       "      <td>132</td>\n",
       "    </tr>\n",
       "    <tr>\n",
       "      <th>Mr</th>\n",
       "      <td>437</td>\n",
       "      <td>82</td>\n",
       "    </tr>\n",
       "    <tr>\n",
       "      <th>Mrs</th>\n",
       "      <td>26</td>\n",
       "      <td>100</td>\n",
       "    </tr>\n",
       "    <tr>\n",
       "      <th>Rare</th>\n",
       "      <td>14</td>\n",
       "      <td>5</td>\n",
       "    </tr>\n",
       "  </tbody>\n",
       "</table>\n",
       "</div>"
      ],
      "text/plain": [
       "Survived  0.0  1.0\n",
       "Title             \n",
       "Master     17   23\n",
       "Miss       55  132\n",
       "Mr        437   82\n",
       "Mrs        26  100\n",
       "Rare       14    5"
      ]
     },
     "execution_count": 31,
     "metadata": {},
     "output_type": "execute_result"
    }
   ],
   "source": [
    "pd.crosstab(data_all['Title'], data_all['Survived'])"
   ]
  },
  {
   "cell_type": "code",
   "execution_count": 32,
   "id": "spanish-marketplace",
   "metadata": {
    "execution": {
     "iopub.execute_input": "2021-06-10T09:48:51.141605Z",
     "iopub.status.busy": "2021-06-10T09:48:51.140851Z",
     "iopub.status.idle": "2021-06-10T09:48:51.147433Z",
     "shell.execute_reply": "2021-06-10T09:48:51.146811Z",
     "shell.execute_reply.started": "2021-06-10T08:45:55.681349Z"
    },
    "papermill": {
     "duration": 0.062071,
     "end_time": "2021-06-10T09:48:51.147590",
     "exception": false,
     "start_time": "2021-06-10T09:48:51.085519",
     "status": "completed"
    },
    "tags": []
   },
   "outputs": [],
   "source": [
    "data_all['Title'] = LabelEncoder().fit_transform(data_all['Title']) "
   ]
  },
  {
   "cell_type": "code",
   "execution_count": 33,
   "id": "prostate-breath",
   "metadata": {
    "execution": {
     "iopub.execute_input": "2021-06-10T09:48:51.262015Z",
     "iopub.status.busy": "2021-06-10T09:48:51.261368Z",
     "iopub.status.idle": "2021-06-10T09:48:51.263303Z",
     "shell.execute_reply": "2021-06-10T09:48:51.263759Z",
     "shell.execute_reply.started": "2021-06-10T08:46:00.541534Z"
    },
    "papermill": {
     "duration": 0.062837,
     "end_time": "2021-06-10T09:48:51.263930",
     "exception": false,
     "start_time": "2021-06-10T09:48:51.201093",
     "status": "completed"
    },
    "tags": []
   },
   "outputs": [],
   "source": [
    "data_all['FamilySize'] = data_all['SibSp'] + data_all['Parch']+1\n",
    "data_all.drop(['SibSp','Parch'], axis = 1, inplace = True)"
   ]
  },
  {
   "cell_type": "code",
   "execution_count": 34,
   "id": "random-flower",
   "metadata": {
    "execution": {
     "iopub.execute_input": "2021-06-10T09:48:51.391600Z",
     "iopub.status.busy": "2021-06-10T09:48:51.390916Z",
     "iopub.status.idle": "2021-06-10T09:48:51.644885Z",
     "shell.execute_reply": "2021-06-10T09:48:51.645584Z",
     "shell.execute_reply.started": "2021-06-10T08:46:03.831038Z"
    },
    "papermill": {
     "duration": 0.328954,
     "end_time": "2021-06-10T09:48:51.645765",
     "exception": false,
     "start_time": "2021-06-10T09:48:51.316811",
     "status": "completed"
    },
    "tags": []
   },
   "outputs": [
    {
     "data": {
      "image/png": "[encoded data removed]",
      "text/plain": [
       "<Figure size 1080x360 with 1 Axes>"
      ]
     },
     "metadata": {},
     "output_type": "display_data"
    }
   ],
   "source": [
    "fig, axs = plt.subplots(figsize=(15, 5))\n",
    "sns.countplot(x='FamilySize', hue='Survived', data=data_all).set_title(\"Raw Column\",fontdict= { 'fontsize': 20, 'fontweight':'bold'});\n",
    "sns.despine()"
   ]
  },
  {
   "cell_type": "code",
   "execution_count": 35,
   "id": "suspended-mediterranean",
   "metadata": {
    "execution": {
     "iopub.execute_input": "2021-06-10T09:48:51.756336Z",
     "iopub.status.busy": "2021-06-10T09:48:51.755679Z",
     "iopub.status.idle": "2021-06-10T09:48:51.762175Z",
     "shell.execute_reply": "2021-06-10T09:48:51.762701Z",
     "shell.execute_reply.started": "2021-06-10T08:46:08.654484Z"
    },
    "papermill": {
     "duration": 0.06376,
     "end_time": "2021-06-10T09:48:51.762877",
     "exception": false,
     "start_time": "2021-06-10T09:48:51.699117",
     "status": "completed"
    },
    "tags": []
   },
   "outputs": [],
   "source": [
    "def family(x):\n",
    "    if x < 2:\n",
    "        return 0\n",
    "    elif x <= 4:\n",
    "        return 1\n",
    "    elif x <= 6:\n",
    "        return 2\n",
    "    else:\n",
    "        return 3\n",
    "    \n",
    "data_all['FamilySize'] = data_all['FamilySize'].apply(family)"
   ]
  },
  {
   "cell_type": "code",
   "execution_count": 36,
   "id": "considered-baking",
   "metadata": {
    "execution": {
     "iopub.execute_input": "2021-06-10T09:48:51.875118Z",
     "iopub.status.busy": "2021-06-10T09:48:51.874367Z",
     "iopub.status.idle": "2021-06-10T09:48:52.082304Z",
     "shell.execute_reply": "2021-06-10T09:48:52.082802Z",
     "shell.execute_reply.started": "2021-06-10T08:46:11.927379Z"
    },
    "papermill": {
     "duration": 0.265361,
     "end_time": "2021-06-10T09:48:52.082971",
     "exception": false,
     "start_time": "2021-06-10T09:48:51.817610",
     "status": "completed"
    },
    "tags": []
   },
   "outputs": [
    {
     "data": {
      "image/png": "[encoded data removed]",
      "text/plain": [
       "<Figure size 1080x360 with 1 Axes>"
      ]
     },
     "metadata": {},
     "output_type": "display_data"
    }
   ],
   "source": [
    "fig, axs = plt.subplots(figsize=(15, 5))\n",
    "sns.countplot(x='FamilySize', hue='Survived', data=data_all).set_title(\"Variable Bined\",fontdict= { 'fontsize': 20, 'fontweight':'bold'});\n",
    "sns.despine()"
   ]
  },
  {
   "cell_type": "code",
   "execution_count": 37,
   "id": "pressed-singing",
   "metadata": {
    "execution": {
     "iopub.execute_input": "2021-06-10T09:48:52.194719Z",
     "iopub.status.busy": "2021-06-10T09:48:52.194076Z",
     "iopub.status.idle": "2021-06-10T09:48:52.199314Z",
     "shell.execute_reply": "2021-06-10T09:48:52.199823Z",
     "shell.execute_reply.started": "2021-06-10T08:46:16.304333Z"
    },
    "papermill": {
     "duration": 0.062449,
     "end_time": "2021-06-10T09:48:52.200003",
     "exception": false,
     "start_time": "2021-06-10T09:48:52.137554",
     "status": "completed"
    },
    "tags": []
   },
   "outputs": [],
   "source": [
    "data_all.drop(['Name', 'Ticket'], axis = 1, inplace = True)"
   ]
  },
  {
   "cell_type": "code",
   "execution_count": 38,
   "id": "different-tamil",
   "metadata": {
    "_kg_hide-input": true,
    "execution": {
     "iopub.execute_input": "2021-06-10T09:48:52.313816Z",
     "iopub.status.busy": "2021-06-10T09:48:52.313142Z",
     "iopub.status.idle": "2021-06-10T09:48:52.319375Z",
     "shell.execute_reply": "2021-06-10T09:48:52.318741Z",
     "shell.execute_reply.started": "2021-06-10T08:46:20.614762Z"
    },
    "papermill": {
     "duration": 0.064319,
     "end_time": "2021-06-10T09:48:52.319524",
     "exception": false,
     "start_time": "2021-06-10T09:48:52.255205",
     "status": "completed"
    },
    "tags": []
   },
   "outputs": [],
   "source": [
    "train, test = data_all.loc[train_data.index], data_all.loc[test_data.index]"
   ]
  },
  {
   "cell_type": "code",
   "execution_count": 39,
   "id": "aggressive-colonial",
   "metadata": {
    "execution": {
     "iopub.execute_input": "2021-06-10T09:48:52.433941Z",
     "iopub.status.busy": "2021-06-10T09:48:52.433012Z",
     "iopub.status.idle": "2021-06-10T09:48:52.445550Z",
     "shell.execute_reply": "2021-06-10T09:48:52.446294Z",
     "shell.execute_reply.started": "2021-06-10T09:09:20.027250Z"
    },
    "papermill": {
     "duration": 0.07227,
     "end_time": "2021-06-10T09:48:52.446560",
     "exception": false,
     "start_time": "2021-06-10T09:48:52.374290",
     "status": "completed"
    },
    "tags": []
   },
   "outputs": [],
   "source": [
    "mask  = np.random.rand(len(train)) < 0.9\n",
    "train_X = train.drop(['Survived'], axis=1)[mask]\n",
    "train_y = train['Survived'][mask]\n",
    "valid_X = train.drop(['Survived'], axis=1)[~mask]\n",
    "valid_y = train['Survived'][~mask]"
   ]
  },
  {
   "cell_type": "code",
   "execution_count": 40,
   "id": "exterior-capital",
   "metadata": {
    "execution": {
     "iopub.execute_input": "2021-06-10T09:48:52.561501Z",
     "iopub.status.busy": "2021-06-10T09:48:52.560821Z",
     "iopub.status.idle": "2021-06-10T09:48:53.789812Z",
     "shell.execute_reply": "2021-06-10T09:48:53.789077Z",
     "shell.execute_reply.started": "2021-06-10T09:09:36.181803Z"
    },
    "papermill": {
     "duration": 1.285932,
     "end_time": "2021-06-10T09:48:53.789951",
     "exception": false,
     "start_time": "2021-06-10T09:48:52.504019",
     "status": "completed"
    },
    "tags": []
   },
   "outputs": [],
   "source": [
    "import torch\n",
    "\n",
    "train_X = torch.Tensor(train_X.to_numpy())\n",
    "train_y = torch.Tensor(train_y.to_numpy()).type(torch.LongTensor)\n",
    "valid_X = torch.Tensor(valid_X.to_numpy())\n",
    "valid_y = torch.Tensor(valid_y.to_numpy()).type(torch.LongTensor)"
   ]
  },
  {
   "cell_type": "code",
   "execution_count": 41,
   "id": "aerial-genesis",
   "metadata": {
    "execution": {
     "iopub.execute_input": "2021-06-10T09:48:53.915053Z",
     "iopub.status.busy": "2021-06-10T09:48:53.913993Z",
     "iopub.status.idle": "2021-06-10T09:48:53.916332Z",
     "shell.execute_reply": "2021-06-10T09:48:53.916783Z",
     "shell.execute_reply.started": "2021-06-10T09:05:33.040833Z"
    },
    "papermill": {
     "duration": 0.072685,
     "end_time": "2021-06-10T09:48:53.916972",
     "exception": false,
     "start_time": "2021-06-10T09:48:53.844287",
     "status": "completed"
    },
    "tags": []
   },
   "outputs": [],
   "source": [
    "from torch import nn\n",
    "\n",
    "drpout = 0.1\n",
    "\n",
    "inputs = len(train_X[0])\n",
    "\n",
    "def set_weight_bias(layer):\n",
    "    layer.bias.data.fill_(0)\n",
    "    layer.weight.data.normal_(std=0.01)\n",
    "\n",
    "def model_construct(inputs, n=[16], outputs=2,\n",
    "                    activ=nn.ReLU):\n",
    "    n.append(outputs)\n",
    "    \n",
    "    layers = []\n",
    "    layers.append(nn.Linear(inputs, n[0]))\n",
    "    set_weight_bias(layers[-1])\n",
    "    layers.append( nn.Dropout(p=drpout) )\n",
    "    layers.append(activ())\n",
    "    \n",
    "    for i in range(len(n)-1):\n",
    "        layers.append(nn.Linear(n[i], n[i+1]))\n",
    "        set_weight_bias(layers[-1])\n",
    "        layers.append( nn.Dropout(p=drpout) )\n",
    "        layers.append(activ())\n",
    "        \n",
    "    layers.pop()\n",
    "    layers.pop()\n",
    "    \n",
    "    return nn.Sequential(*layers)\n",
    "\n"
   ]
  },
  {
   "cell_type": "code",
   "execution_count": 42,
   "id": "dirty-burning",
   "metadata": {
    "execution": {
     "iopub.execute_input": "2021-06-10T09:48:54.030552Z",
     "iopub.status.busy": "2021-06-10T09:48:54.029807Z",
     "iopub.status.idle": "2021-06-10T09:48:54.042525Z",
     "shell.execute_reply": "2021-06-10T09:48:54.043008Z",
     "shell.execute_reply.started": "2021-06-10T09:21:17.393398Z"
    },
    "papermill": {
     "duration": 0.071776,
     "end_time": "2021-06-10T09:48:54.043222",
     "exception": false,
     "start_time": "2021-06-10T09:48:53.971446",
     "status": "completed"
    },
    "tags": []
   },
   "outputs": [],
   "source": [
    "from torch import optim\n",
    "from sklearn.utils import shuffle\n",
    "from torch.autograd import Variable\n",
    "\n",
    "def train_model(model, train_data, test_data, epochs=5, verbose=False):\n",
    "    \n",
    "    criterion = nn.CrossEntropyLoss()\n",
    "    optimizer = optim.Adam(model.parameters(), lr=0.01)\n",
    "    \n",
    "    train_losses, test_losses = [0]*epochs, [0]*epochs\n",
    "    accuracy = [0]*epochs\n",
    "    for e in range(epochs):\n",
    "        optimizer.zero_grad()\n",
    "        ps = model(train_data[0])\n",
    "        loss = criterion(ps, train_data[1])\n",
    "        loss.backward()\n",
    "        optimizer.step()\n",
    "        train_losses[e] = loss.item()\n",
    "\n",
    "        with torch.no_grad():\n",
    "            model.eval()\n",
    "            \n",
    "            ps = model(test_data[0])\n",
    "            loss = criterion(ps, test_data[1])\n",
    "            test_losses[e] = loss.item()\n",
    "            \n",
    "            top_p, top_class = ps.topk(1, dim=1)\n",
    "            equals = (top_class == test_data[1].view(*top_class.shape))\n",
    "            accuracy[e] = torch.mean(equals.type(torch.FloatTensor))\n",
    "            \n",
    "        model.train()\n",
    "        \n",
    "    print('   Accuracy: {:.2f}%'.format(100*accuracy[-1].item()))\n",
    "    print('   Train loss: {train_losses[-1]}')\n",
    "    print('   Test loss: {test_losses[-1]}')\n",
    "        \n",
    "    plt.subplot(211)\n",
    "    plt.ylabel('Accuracy')\n",
    "    plt.plot(accuracy)\n",
    "    plt.subplot(212)\n",
    "    plt.ylabel('Loss')\n",
    "    plt.plot(train_losses, label='train')\n",
    "    plt.plot(test_losses, label='test')\n",
    "    plt.legend();\n",
    "    return"
   ]
  },
  {
   "cell_type": "code",
   "execution_count": 43,
   "id": "illegal-farmer",
   "metadata": {
    "execution": {
     "iopub.execute_input": "2021-06-10T09:48:54.157226Z",
     "iopub.status.busy": "2021-06-10T09:48:54.156549Z",
     "iopub.status.idle": "2021-06-10T09:48:54.875903Z",
     "shell.execute_reply": "2021-06-10T09:48:54.875244Z",
     "shell.execute_reply.started": "2021-06-10T09:28:54.404183Z"
    },
    "papermill": {
     "duration": 0.777396,
     "end_time": "2021-06-10T09:48:54.876147",
     "exception": false,
     "start_time": "2021-06-10T09:48:54.098751",
     "status": "completed"
    },
    "tags": []
   },
   "outputs": [
    {
     "name": "stdout",
     "output_type": "stream",
     "text": [
      "Test 1:\n",
      "Sequential(\n",
      "  (0): Linear(in_features=7, out_features=256, bias=True)\n",
      "  (1): Dropout(p=0.1, inplace=False)\n",
      "  (2): ReLU()\n",
      "  (3): Linear(in_features=256, out_features=2, bias=True)\n",
      ")\n",
      "   Accuracy: 80.95%\n",
      "   Train loss: {train_losses[-1]}\n",
      "   Test loss: {test_losses[-1]}\n"
     ]
    },
    {
     "data": {
      "image/png": "[encoded data removed]",
      "text/plain": [
       "<Figure size 432x288 with 2 Axes>"
      ]
     },
     "metadata": {},
     "output_type": "display_data"
    }
   ],
   "source": [
    "print(\"Test 1:\")\n",
    "model = model_construct(inputs, n=[256])\n",
    "print(model)\n",
    "train_model(model, epochs=100,\n",
    "            train_data=(train_X,train_y), test_data=(valid_X,valid_y))"
   ]
  },
  {
   "cell_type": "code",
   "execution_count": 44,
   "id": "signed-destiny",
   "metadata": {
    "execution": {
     "iopub.execute_input": "2021-06-10T09:48:54.995303Z",
     "iopub.status.busy": "2021-06-10T09:48:54.994598Z",
     "iopub.status.idle": "2021-06-10T09:48:56.158914Z",
     "shell.execute_reply": "2021-06-10T09:48:56.158390Z",
     "shell.execute_reply.started": "2021-06-10T09:21:51.372674Z"
    },
    "papermill": {
     "duration": 1.226458,
     "end_time": "2021-06-10T09:48:56.159073",
     "exception": false,
     "start_time": "2021-06-10T09:48:54.932615",
     "status": "completed"
    },
    "tags": []
   },
   "outputs": [
    {
     "name": "stdout",
     "output_type": "stream",
     "text": [
      "Test 2:\n",
      "Sequential(\n",
      "  (0): Linear(in_features=7, out_features=256, bias=True)\n",
      "  (1): Dropout(p=0.1, inplace=False)\n",
      "  (2): ReLU()\n",
      "  (3): Linear(in_features=256, out_features=48, bias=True)\n",
      "  (4): Dropout(p=0.1, inplace=False)\n",
      "  (5): ReLU()\n",
      "  (6): Linear(in_features=48, out_features=2, bias=True)\n",
      ")\n",
      "   Accuracy: 79.76%\n",
      "   Train loss: {train_losses[-1]}\n",
      "   Test loss: {test_losses[-1]}\n"
     ]
    },
    {
     "data": {
      "image/png": "[encoded data removed]",
      "text/plain": [
       "<Figure size 432x288 with 2 Axes>"
      ]
     },
     "metadata": {},
     "output_type": "display_data"
    }
   ],
   "source": [
    "print(\"Test 2:\")\n",
    "model = model_construct(inputs, n=[256, 48])\n",
    "print(model)\n",
    "train_model(model, epochs=200,\n",
    "            train_data=(train_X,train_y), test_data=(valid_X,valid_y))"
   ]
  },
  {
   "cell_type": "code",
   "execution_count": 45,
   "id": "passive-contract",
   "metadata": {
    "execution": {
     "iopub.execute_input": "2021-06-10T09:48:56.280380Z",
     "iopub.status.busy": "2021-06-10T09:48:56.279603Z",
     "iopub.status.idle": "2021-06-10T09:48:56.790634Z",
     "shell.execute_reply": "2021-06-10T09:48:56.789881Z",
     "shell.execute_reply.started": "2021-06-10T09:30:35.737961Z"
    },
    "papermill": {
     "duration": 0.573695,
     "end_time": "2021-06-10T09:48:56.790792",
     "exception": false,
     "start_time": "2021-06-10T09:48:56.217097",
     "status": "completed"
    },
    "tags": []
   },
   "outputs": [
    {
     "name": "stdout",
     "output_type": "stream",
     "text": [
      "Test 3:\n",
      "Sequential(\n",
      "  (0): Linear(in_features=7, out_features=96, bias=True)\n",
      "  (1): Dropout(p=0.1, inplace=False)\n",
      "  (2): ReLU()\n",
      "  (3): Linear(in_features=96, out_features=2, bias=True)\n",
      ")\n",
      "   Accuracy: 83.33%\n",
      "   Train loss: {train_losses[-1]}\n",
      "   Test loss: {test_losses[-1]}\n"
     ]
    },
    {
     "data": {
      "image/png": "[encoded data removed]",
      "text/plain": [
       "<Figure size 432x288 with 2 Axes>"
      ]
     },
     "metadata": {},
     "output_type": "display_data"
    }
   ],
   "source": [
    "print(\"Test 3:\")\n",
    "model = model_construct(inputs, n=[96])\n",
    "print(model)\n",
    "train_model(model, epochs=100,\n",
    "            train_data=(train_X,train_y), test_data=(valid_X,valid_y))"
   ]
  },
  {
   "cell_type": "code",
   "execution_count": 46,
   "id": "rocky-attribute",
   "metadata": {
    "execution": {
     "iopub.execute_input": "2021-06-10T09:48:56.920196Z",
     "iopub.status.busy": "2021-06-10T09:48:56.919167Z",
     "iopub.status.idle": "2021-06-10T09:48:56.922337Z",
     "shell.execute_reply": "2021-06-10T09:48:56.921778Z",
     "shell.execute_reply.started": "2021-06-10T09:35:32.601317Z"
    },
    "papermill": {
     "duration": 0.071658,
     "end_time": "2021-06-10T09:48:56.922511",
     "exception": false,
     "start_time": "2021-06-10T09:48:56.850853",
     "status": "completed"
    },
    "tags": []
   },
   "outputs": [],
   "source": [
    "def gen_model():\n",
    "    model = model_construct(inputs, n=[96])\n",
    "    train_model(model, epochs=100,\n",
    "                train_data=(train_X,train_y), test_data=(valid_X,valid_y))\n",
    "    \n",
    "    return model"
   ]
  },
  {
   "cell_type": "code",
   "execution_count": 47,
   "id": "surprised-detector",
   "metadata": {
    "execution": {
     "iopub.execute_input": "2021-06-10T09:48:57.052283Z",
     "iopub.status.busy": "2021-06-10T09:48:57.051179Z",
     "iopub.status.idle": "2021-06-10T09:48:57.054358Z",
     "shell.execute_reply": "2021-06-10T09:48:57.053720Z",
     "shell.execute_reply.started": "2021-06-10T09:36:18.114168Z"
    },
    "papermill": {
     "duration": 0.070334,
     "end_time": "2021-06-10T09:48:57.054503",
     "exception": false,
     "start_time": "2021-06-10T09:48:56.984169",
     "status": "completed"
    },
    "tags": []
   },
   "outputs": [],
   "source": [
    "def combined_pred(models, data):\n",
    "    prob = np.array([[0.0]*2]*len(data))\n",
    "    with torch.no_grad():\n",
    "        for model in models:\n",
    "            model.eval()\n",
    "            prob += torch.exp(model(data)).numpy()\n",
    "            model.train()\n",
    "    return prob/len(models)"
   ]
  },
  {
   "cell_type": "code",
   "execution_count": 48,
   "id": "increasing-philip",
   "metadata": {
    "execution": {
     "iopub.execute_input": "2021-06-10T09:48:57.183499Z",
     "iopub.status.busy": "2021-06-10T09:48:57.182711Z",
     "iopub.status.idle": "2021-06-10T09:48:58.552291Z",
     "shell.execute_reply": "2021-06-10T09:48:58.552792Z",
     "shell.execute_reply.started": "2021-06-10T09:40:00.820378Z"
    },
    "papermill": {
     "duration": 1.436327,
     "end_time": "2021-06-10T09:48:58.552978",
     "exception": false,
     "start_time": "2021-06-10T09:48:57.116651",
     "status": "completed"
    },
    "tags": []
   },
   "outputs": [
    {
     "name": "stdout",
     "output_type": "stream",
     "text": [
      "   Accuracy: 82.14%\n",
      "   Train loss: {train_losses[-1]}\n",
      "   Test loss: {test_losses[-1]}\n",
      "   Accuracy: 82.14%\n",
      "   Train loss: {train_losses[-1]}\n",
      "   Test loss: {test_losses[-1]}\n"
     ]
    },
    {
     "name": "stderr",
     "output_type": "stream",
     "text": [
      "d:\\pyenv\\ml3\\lib\\site-packages\\matplotlib\\figure.py:98: MatplotlibDeprecationWarning: \n",
      "Adding an axes using the same arguments as a previous axes currently reuses the earlier instance.  In a future version, a new instance will always be created and returned.  Meanwhile, this warning can be suppressed, and the future behavior ensured, by passing a unique label to each axes instance.\n",
      "  \"Adding an axes using the same arguments as a previous axes \"\n"
     ]
    },
    {
     "name": "stdout",
     "output_type": "stream",
     "text": [
      "   Accuracy: 83.33%\n",
      "   Train loss: {train_losses[-1]}\n",
      "   Test loss: {test_losses[-1]}\n",
      "   Accuracy: 83.33%\n",
      "   Train loss: {train_losses[-1]}\n",
      "   Test loss: {test_losses[-1]}\n",
      "83.33333333333334\n"
     ]
    },
    {
     "data": {
      "image/png": "[encoded data removed]",
      "text/plain": [
       "<Figure size 432x288 with 2 Axes>"
      ]
     },
     "metadata": {},
     "output_type": "display_data"
    }
   ],
   "source": [
    "models = []\n",
    "for i in range(4):\n",
    "    models.append(gen_model())\n",
    "preds = combined_pred(models, valid_X)\n",
    "top_class = np.argmax(preds, axis=1)\n",
    "equals = (top_class == valid_y.numpy())\n",
    "print(100*np.mean(equals))"
   ]
  },
  {
   "cell_type": "code",
   "execution_count": 53,
   "id": "normal-course",
   "metadata": {
    "execution": {
     "iopub.execute_input": "2021-06-10T09:48:58.945258Z",
     "iopub.status.busy": "2021-06-10T09:48:58.943816Z",
     "iopub.status.idle": "2021-06-10T09:48:58.968724Z",
     "shell.execute_reply": "2021-06-10T09:48:58.968102Z",
     "shell.execute_reply.started": "2021-06-10T09:43:48.601270Z"
    },
    "papermill": {
     "duration": 0.101599,
     "end_time": "2021-06-10T09:48:58.968862",
     "exception": false,
     "start_time": "2021-06-10T09:48:58.867263",
     "status": "completed"
    },
    "tags": []
   },
   "outputs": [
    {
     "name": "stdout",
     "output_type": "stream",
     "text": [
      "[0 0 0 0 1 0 1 0 1 0 0 0 1 0 1 1 0 0 0 1 0 1 1 0 1 0 1 0 0 0 0 0 1 1 0 0 1\n",
      " 1 0 0 0 0 0 1 1 0 0 0 1 1 0 0 1 1 0 0 0 0 0 1 0 0 0 1 1 1 1 0 0 1 1 0 1 0\n",
      " 1 1 0 1 0 1 1 0 0 0 0 0 1 1 1 1 1 0 1 0 0 0 1 0 1 0 1 0 0 0 1 0 0 0 0 0 0\n",
      " 1 1 1 1 0 0 1 0 1 1 0 1 0 0 1 0 1 0 0 0 0 0 0 0 0 0 0 1 0 0 1 0 0 0 0 0 0\n",
      " 0 0 1 0 0 1 0 0 1 1 0 1 1 1 1 0 0 1 0 0 1 1 0 0 0 0 0 1 1 0 1 1 0 0 1 0 1\n",
      " 0 1 0 0 0 0 0 1 0 1 0 1 1 0 1 1 1 0 1 0 0 1 0 1 0 0 0 0 1 0 0 1 0 1 0 1 0\n",
      " 1 0 1 1 0 1 0 0 0 1 0 0 0 0 0 0 1 1 1 1 0 0 1 0 1 0 1 1 1 0 0 0 0 0 0 0 1\n",
      " 0 0 0 1 1 0 0 0 0 1 0 0 0 1 1 0 1 0 0 0 0 1 1 1 1 1 0 0 0 0 0 0 1 0 0 0 0\n",
      " 1 0 0 0 0 0 0 0 1 1 0 1 0 0 0 0 0 1 1 1 0 0 0 0 0 0 0 0 1 0 1 0 0 0 1 0 0\n",
      " 1 0 0 0 0 0 1 0 0 0 1 1 1 0 1 0 1 1 0 0 0 1 0 1 0 0 1 0 1 1 0 1 0 0 1 1 0\n",
      " 0 1 0 0 1 1 0 0 0 0 0 0 1 1 0 1 0 0 0 0 0 1 1 0 0 1 0 1 0 0 1 0 1 0 0 0 0\n",
      " 0 1 1 1 1 1 0 1 0 0 1]\n"
     ]
    },
    {
     "data": {
      "text/html": [
       "<div>\n",
       "<style scoped>\n",
       "    .dataframe tbody tr th:only-of-type {\n",
       "        vertical-align: middle;\n",
       "    }\n",
       "\n",
       "    .dataframe tbody tr th {\n",
       "        vertical-align: top;\n",
       "    }\n",
       "\n",
       "    .dataframe thead th {\n",
       "        text-align: right;\n",
       "    }\n",
       "</style>\n",
       "<table border=\"1\" class=\"dataframe\">\n",
       "  <thead>\n",
       "    <tr style=\"text-align: right;\">\n",
       "      <th></th>\n",
       "      <th>PassengerId</th>\n",
       "      <th>Survived</th>\n",
       "    </tr>\n",
       "  </thead>\n",
       "  <tbody>\n",
       "    <tr>\n",
       "      <th>count</th>\n",
       "      <td>418.000000</td>\n",
       "      <td>418.000000</td>\n",
       "    </tr>\n",
       "    <tr>\n",
       "      <th>mean</th>\n",
       "      <td>1100.500000</td>\n",
       "      <td>0.382775</td>\n",
       "    </tr>\n",
       "    <tr>\n",
       "      <th>std</th>\n",
       "      <td>120.810458</td>\n",
       "      <td>0.486647</td>\n",
       "    </tr>\n",
       "    <tr>\n",
       "      <th>min</th>\n",
       "      <td>892.000000</td>\n",
       "      <td>0.000000</td>\n",
       "    </tr>\n",
       "    <tr>\n",
       "      <th>25%</th>\n",
       "      <td>996.250000</td>\n",
       "      <td>0.000000</td>\n",
       "    </tr>\n",
       "    <tr>\n",
       "      <th>50%</th>\n",
       "      <td>1100.500000</td>\n",
       "      <td>0.000000</td>\n",
       "    </tr>\n",
       "    <tr>\n",
       "      <th>75%</th>\n",
       "      <td>1204.750000</td>\n",
       "      <td>1.000000</td>\n",
       "    </tr>\n",
       "    <tr>\n",
       "      <th>max</th>\n",
       "      <td>1309.000000</td>\n",
       "      <td>1.000000</td>\n",
       "    </tr>\n",
       "  </tbody>\n",
       "</table>\n",
       "</div>"
      ],
      "text/plain": [
       "       PassengerId    Survived\n",
       "count   418.000000  418.000000\n",
       "mean   1100.500000    0.382775\n",
       "std     120.810458    0.486647\n",
       "min     892.000000    0.000000\n",
       "25%     996.250000    0.000000\n",
       "50%    1100.500000    0.000000\n",
       "75%    1204.750000    1.000000\n",
       "max    1309.000000    1.000000"
      ]
     },
     "execution_count": 53,
     "metadata": {},
     "output_type": "execute_result"
    }
   ],
   "source": [
    "test_X = test.drop(['Survived'], axis=1)\n",
    "test_X = torch.Tensor(test_X.to_numpy())\n",
    "\n",
    "results = combined_pred(models, test_X)\n",
    "top_class = np.argmax(results, axis=1)\n",
    "print(top_class)\n",
    "\n",
    "submission_df = pd.DataFrame({'PassengerId': test_data.index, \n",
    "                              'Survived': top_class})\n",
    "submission_df.describe()"
   ]
  },
  {
   "cell_type": "code",
   "execution_count": 52,
   "id": "hidden-forward",
   "metadata": {},
   "outputs": [
    {
     "data": {
      "text/html": [
       "<div>\n",
       "<style scoped>\n",
       "    .dataframe tbody tr th:only-of-type {\n",
       "        vertical-align: middle;\n",
       "    }\n",
       "\n",
       "    .dataframe tbody tr th {\n",
       "        vertical-align: top;\n",
       "    }\n",
       "\n",
       "    .dataframe thead th {\n",
       "        text-align: right;\n",
       "    }\n",
       "</style>\n",
       "<table border=\"1\" class=\"dataframe\">\n",
       "  <thead>\n",
       "    <tr style=\"text-align: right;\">\n",
       "      <th></th>\n",
       "      <th>Pclass</th>\n",
       "      <th>Name</th>\n",
       "      <th>Sex</th>\n",
       "      <th>Age</th>\n",
       "      <th>SibSp</th>\n",
       "      <th>Parch</th>\n",
       "      <th>Ticket</th>\n",
       "      <th>Fare</th>\n",
       "      <th>Cabin</th>\n",
       "      <th>Embarked</th>\n",
       "    </tr>\n",
       "    <tr>\n",
       "      <th>PassengerId</th>\n",
       "      <th></th>\n",
       "      <th></th>\n",
       "      <th></th>\n",
       "      <th></th>\n",
       "      <th></th>\n",
       "      <th></th>\n",
       "      <th></th>\n",
       "      <th></th>\n",
       "      <th></th>\n",
       "      <th></th>\n",
       "    </tr>\n",
       "  </thead>\n",
       "  <tbody>\n",
       "    <tr>\n",
       "      <th>892</th>\n",
       "      <td>3</td>\n",
       "      <td>Kelly, Mr. James</td>\n",
       "      <td>male</td>\n",
       "      <td>34.5</td>\n",
       "      <td>0</td>\n",
       "      <td>0</td>\n",
       "      <td>330911</td>\n",
       "      <td>7.8292</td>\n",
       "      <td>NaN</td>\n",
       "      <td>Q</td>\n",
       "    </tr>\n",
       "    <tr>\n",
       "      <th>893</th>\n",
       "      <td>3</td>\n",
       "      <td>Wilkes, Mrs. James (Ellen Needs)</td>\n",
       "      <td>female</td>\n",
       "      <td>47.0</td>\n",
       "      <td>1</td>\n",
       "      <td>0</td>\n",
       "      <td>363272</td>\n",
       "      <td>7.0000</td>\n",
       "      <td>NaN</td>\n",
       "      <td>S</td>\n",
       "    </tr>\n",
       "    <tr>\n",
       "      <th>894</th>\n",
       "      <td>2</td>\n",
       "      <td>Myles, Mr. Thomas Francis</td>\n",
       "      <td>male</td>\n",
       "      <td>62.0</td>\n",
       "      <td>0</td>\n",
       "      <td>0</td>\n",
       "      <td>240276</td>\n",
       "      <td>9.6875</td>\n",
       "      <td>NaN</td>\n",
       "      <td>Q</td>\n",
       "    </tr>\n",
       "    <tr>\n",
       "      <th>895</th>\n",
       "      <td>3</td>\n",
       "      <td>Wirz, Mr. Albert</td>\n",
       "      <td>male</td>\n",
       "      <td>27.0</td>\n",
       "      <td>0</td>\n",
       "      <td>0</td>\n",
       "      <td>315154</td>\n",
       "      <td>8.6625</td>\n",
       "      <td>NaN</td>\n",
       "      <td>S</td>\n",
       "    </tr>\n",
       "    <tr>\n",
       "      <th>896</th>\n",
       "      <td>3</td>\n",
       "      <td>Hirvonen, Mrs. Alexander (Helga E Lindqvist)</td>\n",
       "      <td>female</td>\n",
       "      <td>22.0</td>\n",
       "      <td>1</td>\n",
       "      <td>1</td>\n",
       "      <td>3101298</td>\n",
       "      <td>12.2875</td>\n",
       "      <td>NaN</td>\n",
       "      <td>S</td>\n",
       "    </tr>\n",
       "    <tr>\n",
       "      <th>897</th>\n",
       "      <td>3</td>\n",
       "      <td>Svensson, Mr. Johan Cervin</td>\n",
       "      <td>male</td>\n",
       "      <td>14.0</td>\n",
       "      <td>0</td>\n",
       "      <td>0</td>\n",
       "      <td>7538</td>\n",
       "      <td>9.2250</td>\n",
       "      <td>NaN</td>\n",
       "      <td>S</td>\n",
       "    </tr>\n",
       "    <tr>\n",
       "      <th>898</th>\n",
       "      <td>3</td>\n",
       "      <td>Connolly, Miss. Kate</td>\n",
       "      <td>female</td>\n",
       "      <td>30.0</td>\n",
       "      <td>0</td>\n",
       "      <td>0</td>\n",
       "      <td>330972</td>\n",
       "      <td>7.6292</td>\n",
       "      <td>NaN</td>\n",
       "      <td>Q</td>\n",
       "    </tr>\n",
       "    <tr>\n",
       "      <th>899</th>\n",
       "      <td>2</td>\n",
       "      <td>Caldwell, Mr. Albert Francis</td>\n",
       "      <td>male</td>\n",
       "      <td>26.0</td>\n",
       "      <td>1</td>\n",
       "      <td>1</td>\n",
       "      <td>248738</td>\n",
       "      <td>29.0000</td>\n",
       "      <td>NaN</td>\n",
       "      <td>S</td>\n",
       "    </tr>\n",
       "    <tr>\n",
       "      <th>900</th>\n",
       "      <td>3</td>\n",
       "      <td>Abrahim, Mrs. Joseph (Sophie Halaut Easu)</td>\n",
       "      <td>female</td>\n",
       "      <td>18.0</td>\n",
       "      <td>0</td>\n",
       "      <td>0</td>\n",
       "      <td>2657</td>\n",
       "      <td>7.2292</td>\n",
       "      <td>NaN</td>\n",
       "      <td>C</td>\n",
       "    </tr>\n",
       "    <tr>\n",
       "      <th>901</th>\n",
       "      <td>3</td>\n",
       "      <td>Davies, Mr. John Samuel</td>\n",
       "      <td>male</td>\n",
       "      <td>21.0</td>\n",
       "      <td>2</td>\n",
       "      <td>0</td>\n",
       "      <td>A/4 48871</td>\n",
       "      <td>24.1500</td>\n",
       "      <td>NaN</td>\n",
       "      <td>S</td>\n",
       "    </tr>\n",
       "    <tr>\n",
       "      <th>902</th>\n",
       "      <td>3</td>\n",
       "      <td>Ilieff, Mr. Ylio</td>\n",
       "      <td>male</td>\n",
       "      <td>NaN</td>\n",
       "      <td>0</td>\n",
       "      <td>0</td>\n",
       "      <td>349220</td>\n",
       "      <td>7.8958</td>\n",
       "      <td>NaN</td>\n",
       "      <td>S</td>\n",
       "    </tr>\n",
       "    <tr>\n",
       "      <th>903</th>\n",
       "      <td>1</td>\n",
       "      <td>Jones, Mr. Charles Cresson</td>\n",
       "      <td>male</td>\n",
       "      <td>46.0</td>\n",
       "      <td>0</td>\n",
       "      <td>0</td>\n",
       "      <td>694</td>\n",
       "      <td>26.0000</td>\n",
       "      <td>NaN</td>\n",
       "      <td>S</td>\n",
       "    </tr>\n",
       "    <tr>\n",
       "      <th>904</th>\n",
       "      <td>1</td>\n",
       "      <td>Snyder, Mrs. John Pillsbury (Nelle Stevenson)</td>\n",
       "      <td>female</td>\n",
       "      <td>23.0</td>\n",
       "      <td>1</td>\n",
       "      <td>0</td>\n",
       "      <td>21228</td>\n",
       "      <td>82.2667</td>\n",
       "      <td>B45</td>\n",
       "      <td>S</td>\n",
       "    </tr>\n",
       "    <tr>\n",
       "      <th>905</th>\n",
       "      <td>2</td>\n",
       "      <td>Howard, Mr. Benjamin</td>\n",
       "      <td>male</td>\n",
       "      <td>63.0</td>\n",
       "      <td>1</td>\n",
       "      <td>0</td>\n",
       "      <td>24065</td>\n",
       "      <td>26.0000</td>\n",
       "      <td>NaN</td>\n",
       "      <td>S</td>\n",
       "    </tr>\n",
       "    <tr>\n",
       "      <th>906</th>\n",
       "      <td>1</td>\n",
       "      <td>Chaffee, Mrs. Herbert Fuller (Carrie Constance...</td>\n",
       "      <td>female</td>\n",
       "      <td>47.0</td>\n",
       "      <td>1</td>\n",
       "      <td>0</td>\n",
       "      <td>W.E.P. 5734</td>\n",
       "      <td>61.1750</td>\n",
       "      <td>E31</td>\n",
       "      <td>S</td>\n",
       "    </tr>\n",
       "    <tr>\n",
       "      <th>907</th>\n",
       "      <td>2</td>\n",
       "      <td>del Carlo, Mrs. Sebastiano (Argenia Genovesi)</td>\n",
       "      <td>female</td>\n",
       "      <td>24.0</td>\n",
       "      <td>1</td>\n",
       "      <td>0</td>\n",
       "      <td>SC/PARIS 2167</td>\n",
       "      <td>27.7208</td>\n",
       "      <td>NaN</td>\n",
       "      <td>C</td>\n",
       "    </tr>\n",
       "    <tr>\n",
       "      <th>908</th>\n",
       "      <td>2</td>\n",
       "      <td>Keane, Mr. Daniel</td>\n",
       "      <td>male</td>\n",
       "      <td>35.0</td>\n",
       "      <td>0</td>\n",
       "      <td>0</td>\n",
       "      <td>233734</td>\n",
       "      <td>12.3500</td>\n",
       "      <td>NaN</td>\n",
       "      <td>Q</td>\n",
       "    </tr>\n",
       "    <tr>\n",
       "      <th>909</th>\n",
       "      <td>3</td>\n",
       "      <td>Assaf, Mr. Gerios</td>\n",
       "      <td>male</td>\n",
       "      <td>21.0</td>\n",
       "      <td>0</td>\n",
       "      <td>0</td>\n",
       "      <td>2692</td>\n",
       "      <td>7.2250</td>\n",
       "      <td>NaN</td>\n",
       "      <td>C</td>\n",
       "    </tr>\n",
       "    <tr>\n",
       "      <th>910</th>\n",
       "      <td>3</td>\n",
       "      <td>Ilmakangas, Miss. Ida Livija</td>\n",
       "      <td>female</td>\n",
       "      <td>27.0</td>\n",
       "      <td>1</td>\n",
       "      <td>0</td>\n",
       "      <td>STON/O2. 3101270</td>\n",
       "      <td>7.9250</td>\n",
       "      <td>NaN</td>\n",
       "      <td>S</td>\n",
       "    </tr>\n",
       "    <tr>\n",
       "      <th>911</th>\n",
       "      <td>3</td>\n",
       "      <td>Assaf Khalil, Mrs. Mariana (Miriam\")\"</td>\n",
       "      <td>female</td>\n",
       "      <td>45.0</td>\n",
       "      <td>0</td>\n",
       "      <td>0</td>\n",
       "      <td>2696</td>\n",
       "      <td>7.2250</td>\n",
       "      <td>NaN</td>\n",
       "      <td>C</td>\n",
       "    </tr>\n",
       "    <tr>\n",
       "      <th>912</th>\n",
       "      <td>1</td>\n",
       "      <td>Rothschild, Mr. Martin</td>\n",
       "      <td>male</td>\n",
       "      <td>55.0</td>\n",
       "      <td>1</td>\n",
       "      <td>0</td>\n",
       "      <td>PC 17603</td>\n",
       "      <td>59.4000</td>\n",
       "      <td>NaN</td>\n",
       "      <td>C</td>\n",
       "    </tr>\n",
       "    <tr>\n",
       "      <th>913</th>\n",
       "      <td>3</td>\n",
       "      <td>Olsen, Master. Artur Karl</td>\n",
       "      <td>male</td>\n",
       "      <td>9.0</td>\n",
       "      <td>0</td>\n",
       "      <td>1</td>\n",
       "      <td>C 17368</td>\n",
       "      <td>3.1708</td>\n",
       "      <td>NaN</td>\n",
       "      <td>S</td>\n",
       "    </tr>\n",
       "    <tr>\n",
       "      <th>914</th>\n",
       "      <td>1</td>\n",
       "      <td>Flegenheim, Mrs. Alfred (Antoinette)</td>\n",
       "      <td>female</td>\n",
       "      <td>NaN</td>\n",
       "      <td>0</td>\n",
       "      <td>0</td>\n",
       "      <td>PC 17598</td>\n",
       "      <td>31.6833</td>\n",
       "      <td>NaN</td>\n",
       "      <td>S</td>\n",
       "    </tr>\n",
       "    <tr>\n",
       "      <th>915</th>\n",
       "      <td>1</td>\n",
       "      <td>Williams, Mr. Richard Norris II</td>\n",
       "      <td>male</td>\n",
       "      <td>21.0</td>\n",
       "      <td>0</td>\n",
       "      <td>1</td>\n",
       "      <td>PC 17597</td>\n",
       "      <td>61.3792</td>\n",
       "      <td>NaN</td>\n",
       "      <td>C</td>\n",
       "    </tr>\n",
       "    <tr>\n",
       "      <th>916</th>\n",
       "      <td>1</td>\n",
       "      <td>Ryerson, Mrs. Arthur Larned (Emily Maria Borie)</td>\n",
       "      <td>female</td>\n",
       "      <td>48.0</td>\n",
       "      <td>1</td>\n",
       "      <td>3</td>\n",
       "      <td>PC 17608</td>\n",
       "      <td>262.3750</td>\n",
       "      <td>B57 B59 B63 B66</td>\n",
       "      <td>C</td>\n",
       "    </tr>\n",
       "    <tr>\n",
       "      <th>917</th>\n",
       "      <td>3</td>\n",
       "      <td>Robins, Mr. Alexander A</td>\n",
       "      <td>male</td>\n",
       "      <td>50.0</td>\n",
       "      <td>1</td>\n",
       "      <td>0</td>\n",
       "      <td>A/5. 3337</td>\n",
       "      <td>14.5000</td>\n",
       "      <td>NaN</td>\n",
       "      <td>S</td>\n",
       "    </tr>\n",
       "    <tr>\n",
       "      <th>918</th>\n",
       "      <td>1</td>\n",
       "      <td>Ostby, Miss. Helene Ragnhild</td>\n",
       "      <td>female</td>\n",
       "      <td>22.0</td>\n",
       "      <td>0</td>\n",
       "      <td>1</td>\n",
       "      <td>113509</td>\n",
       "      <td>61.9792</td>\n",
       "      <td>B36</td>\n",
       "      <td>C</td>\n",
       "    </tr>\n",
       "    <tr>\n",
       "      <th>919</th>\n",
       "      <td>3</td>\n",
       "      <td>Daher, Mr. Shedid</td>\n",
       "      <td>male</td>\n",
       "      <td>22.5</td>\n",
       "      <td>0</td>\n",
       "      <td>0</td>\n",
       "      <td>2698</td>\n",
       "      <td>7.2250</td>\n",
       "      <td>NaN</td>\n",
       "      <td>C</td>\n",
       "    </tr>\n",
       "    <tr>\n",
       "      <th>920</th>\n",
       "      <td>1</td>\n",
       "      <td>Brady, Mr. John Bertram</td>\n",
       "      <td>male</td>\n",
       "      <td>41.0</td>\n",
       "      <td>0</td>\n",
       "      <td>0</td>\n",
       "      <td>113054</td>\n",
       "      <td>30.5000</td>\n",
       "      <td>A21</td>\n",
       "      <td>S</td>\n",
       "    </tr>\n",
       "    <tr>\n",
       "      <th>921</th>\n",
       "      <td>3</td>\n",
       "      <td>Samaan, Mr. Elias</td>\n",
       "      <td>male</td>\n",
       "      <td>NaN</td>\n",
       "      <td>2</td>\n",
       "      <td>0</td>\n",
       "      <td>2662</td>\n",
       "      <td>21.6792</td>\n",
       "      <td>NaN</td>\n",
       "      <td>C</td>\n",
       "    </tr>\n",
       "    <tr>\n",
       "      <th>...</th>\n",
       "      <td>...</td>\n",
       "      <td>...</td>\n",
       "      <td>...</td>\n",
       "      <td>...</td>\n",
       "      <td>...</td>\n",
       "      <td>...</td>\n",
       "      <td>...</td>\n",
       "      <td>...</td>\n",
       "      <td>...</td>\n",
       "      <td>...</td>\n",
       "    </tr>\n",
       "    <tr>\n",
       "      <th>1280</th>\n",
       "      <td>3</td>\n",
       "      <td>Canavan, Mr. Patrick</td>\n",
       "      <td>male</td>\n",
       "      <td>21.0</td>\n",
       "      <td>0</td>\n",
       "      <td>0</td>\n",
       "      <td>364858</td>\n",
       "      <td>7.7500</td>\n",
       "      <td>NaN</td>\n",
       "      <td>Q</td>\n",
       "    </tr>\n",
       "    <tr>\n",
       "      <th>1281</th>\n",
       "      <td>3</td>\n",
       "      <td>Palsson, Master. Paul Folke</td>\n",
       "      <td>male</td>\n",
       "      <td>6.0</td>\n",
       "      <td>3</td>\n",
       "      <td>1</td>\n",
       "      <td>349909</td>\n",
       "      <td>21.0750</td>\n",
       "      <td>NaN</td>\n",
       "      <td>S</td>\n",
       "    </tr>\n",
       "    <tr>\n",
       "      <th>1282</th>\n",
       "      <td>1</td>\n",
       "      <td>Payne, Mr. Vivian Ponsonby</td>\n",
       "      <td>male</td>\n",
       "      <td>23.0</td>\n",
       "      <td>0</td>\n",
       "      <td>0</td>\n",
       "      <td>12749</td>\n",
       "      <td>93.5000</td>\n",
       "      <td>B24</td>\n",
       "      <td>S</td>\n",
       "    </tr>\n",
       "    <tr>\n",
       "      <th>1283</th>\n",
       "      <td>1</td>\n",
       "      <td>Lines, Mrs. Ernest H (Elizabeth Lindsey James)</td>\n",
       "      <td>female</td>\n",
       "      <td>51.0</td>\n",
       "      <td>0</td>\n",
       "      <td>1</td>\n",
       "      <td>PC 17592</td>\n",
       "      <td>39.4000</td>\n",
       "      <td>D28</td>\n",
       "      <td>S</td>\n",
       "    </tr>\n",
       "    <tr>\n",
       "      <th>1284</th>\n",
       "      <td>3</td>\n",
       "      <td>Abbott, Master. Eugene Joseph</td>\n",
       "      <td>male</td>\n",
       "      <td>13.0</td>\n",
       "      <td>0</td>\n",
       "      <td>2</td>\n",
       "      <td>C.A. 2673</td>\n",
       "      <td>20.2500</td>\n",
       "      <td>NaN</td>\n",
       "      <td>S</td>\n",
       "    </tr>\n",
       "    <tr>\n",
       "      <th>1285</th>\n",
       "      <td>2</td>\n",
       "      <td>Gilbert, Mr. William</td>\n",
       "      <td>male</td>\n",
       "      <td>47.0</td>\n",
       "      <td>0</td>\n",
       "      <td>0</td>\n",
       "      <td>C.A. 30769</td>\n",
       "      <td>10.5000</td>\n",
       "      <td>NaN</td>\n",
       "      <td>S</td>\n",
       "    </tr>\n",
       "    <tr>\n",
       "      <th>1286</th>\n",
       "      <td>3</td>\n",
       "      <td>Kink-Heilmann, Mr. Anton</td>\n",
       "      <td>male</td>\n",
       "      <td>29.0</td>\n",
       "      <td>3</td>\n",
       "      <td>1</td>\n",
       "      <td>315153</td>\n",
       "      <td>22.0250</td>\n",
       "      <td>NaN</td>\n",
       "      <td>S</td>\n",
       "    </tr>\n",
       "    <tr>\n",
       "      <th>1287</th>\n",
       "      <td>1</td>\n",
       "      <td>Smith, Mrs. Lucien Philip (Mary Eloise Hughes)</td>\n",
       "      <td>female</td>\n",
       "      <td>18.0</td>\n",
       "      <td>1</td>\n",
       "      <td>0</td>\n",
       "      <td>13695</td>\n",
       "      <td>60.0000</td>\n",
       "      <td>C31</td>\n",
       "      <td>S</td>\n",
       "    </tr>\n",
       "    <tr>\n",
       "      <th>1288</th>\n",
       "      <td>3</td>\n",
       "      <td>Colbert, Mr. Patrick</td>\n",
       "      <td>male</td>\n",
       "      <td>24.0</td>\n",
       "      <td>0</td>\n",
       "      <td>0</td>\n",
       "      <td>371109</td>\n",
       "      <td>7.2500</td>\n",
       "      <td>NaN</td>\n",
       "      <td>Q</td>\n",
       "    </tr>\n",
       "    <tr>\n",
       "      <th>1289</th>\n",
       "      <td>1</td>\n",
       "      <td>Frolicher-Stehli, Mrs. Maxmillian (Margaretha ...</td>\n",
       "      <td>female</td>\n",
       "      <td>48.0</td>\n",
       "      <td>1</td>\n",
       "      <td>1</td>\n",
       "      <td>13567</td>\n",
       "      <td>79.2000</td>\n",
       "      <td>B41</td>\n",
       "      <td>C</td>\n",
       "    </tr>\n",
       "    <tr>\n",
       "      <th>1290</th>\n",
       "      <td>3</td>\n",
       "      <td>Larsson-Rondberg, Mr. Edvard A</td>\n",
       "      <td>male</td>\n",
       "      <td>22.0</td>\n",
       "      <td>0</td>\n",
       "      <td>0</td>\n",
       "      <td>347065</td>\n",
       "      <td>7.7750</td>\n",
       "      <td>NaN</td>\n",
       "      <td>S</td>\n",
       "    </tr>\n",
       "    <tr>\n",
       "      <th>1291</th>\n",
       "      <td>3</td>\n",
       "      <td>Conlon, Mr. Thomas Henry</td>\n",
       "      <td>male</td>\n",
       "      <td>31.0</td>\n",
       "      <td>0</td>\n",
       "      <td>0</td>\n",
       "      <td>21332</td>\n",
       "      <td>7.7333</td>\n",
       "      <td>NaN</td>\n",
       "      <td>Q</td>\n",
       "    </tr>\n",
       "    <tr>\n",
       "      <th>1292</th>\n",
       "      <td>1</td>\n",
       "      <td>Bonnell, Miss. Caroline</td>\n",
       "      <td>female</td>\n",
       "      <td>30.0</td>\n",
       "      <td>0</td>\n",
       "      <td>0</td>\n",
       "      <td>36928</td>\n",
       "      <td>164.8667</td>\n",
       "      <td>C7</td>\n",
       "      <td>S</td>\n",
       "    </tr>\n",
       "    <tr>\n",
       "      <th>1293</th>\n",
       "      <td>2</td>\n",
       "      <td>Gale, Mr. Harry</td>\n",
       "      <td>male</td>\n",
       "      <td>38.0</td>\n",
       "      <td>1</td>\n",
       "      <td>0</td>\n",
       "      <td>28664</td>\n",
       "      <td>21.0000</td>\n",
       "      <td>NaN</td>\n",
       "      <td>S</td>\n",
       "    </tr>\n",
       "    <tr>\n",
       "      <th>1294</th>\n",
       "      <td>1</td>\n",
       "      <td>Gibson, Miss. Dorothy Winifred</td>\n",
       "      <td>female</td>\n",
       "      <td>22.0</td>\n",
       "      <td>0</td>\n",
       "      <td>1</td>\n",
       "      <td>112378</td>\n",
       "      <td>59.4000</td>\n",
       "      <td>NaN</td>\n",
       "      <td>C</td>\n",
       "    </tr>\n",
       "    <tr>\n",
       "      <th>1295</th>\n",
       "      <td>1</td>\n",
       "      <td>Carrau, Mr. Jose Pedro</td>\n",
       "      <td>male</td>\n",
       "      <td>17.0</td>\n",
       "      <td>0</td>\n",
       "      <td>0</td>\n",
       "      <td>113059</td>\n",
       "      <td>47.1000</td>\n",
       "      <td>NaN</td>\n",
       "      <td>S</td>\n",
       "    </tr>\n",
       "    <tr>\n",
       "      <th>1296</th>\n",
       "      <td>1</td>\n",
       "      <td>Frauenthal, Mr. Isaac Gerald</td>\n",
       "      <td>male</td>\n",
       "      <td>43.0</td>\n",
       "      <td>1</td>\n",
       "      <td>0</td>\n",
       "      <td>17765</td>\n",
       "      <td>27.7208</td>\n",
       "      <td>D40</td>\n",
       "      <td>C</td>\n",
       "    </tr>\n",
       "    <tr>\n",
       "      <th>1297</th>\n",
       "      <td>2</td>\n",
       "      <td>Nourney, Mr. Alfred (Baron von Drachstedt\")\"</td>\n",
       "      <td>male</td>\n",
       "      <td>20.0</td>\n",
       "      <td>0</td>\n",
       "      <td>0</td>\n",
       "      <td>SC/PARIS 2166</td>\n",
       "      <td>13.8625</td>\n",
       "      <td>D38</td>\n",
       "      <td>C</td>\n",
       "    </tr>\n",
       "    <tr>\n",
       "      <th>1298</th>\n",
       "      <td>2</td>\n",
       "      <td>Ware, Mr. William Jeffery</td>\n",
       "      <td>male</td>\n",
       "      <td>23.0</td>\n",
       "      <td>1</td>\n",
       "      <td>0</td>\n",
       "      <td>28666</td>\n",
       "      <td>10.5000</td>\n",
       "      <td>NaN</td>\n",
       "      <td>S</td>\n",
       "    </tr>\n",
       "    <tr>\n",
       "      <th>1299</th>\n",
       "      <td>1</td>\n",
       "      <td>Widener, Mr. George Dunton</td>\n",
       "      <td>male</td>\n",
       "      <td>50.0</td>\n",
       "      <td>1</td>\n",
       "      <td>1</td>\n",
       "      <td>113503</td>\n",
       "      <td>211.5000</td>\n",
       "      <td>C80</td>\n",
       "      <td>C</td>\n",
       "    </tr>\n",
       "    <tr>\n",
       "      <th>1300</th>\n",
       "      <td>3</td>\n",
       "      <td>Riordan, Miss. Johanna Hannah\"\"</td>\n",
       "      <td>female</td>\n",
       "      <td>NaN</td>\n",
       "      <td>0</td>\n",
       "      <td>0</td>\n",
       "      <td>334915</td>\n",
       "      <td>7.7208</td>\n",
       "      <td>NaN</td>\n",
       "      <td>Q</td>\n",
       "    </tr>\n",
       "    <tr>\n",
       "      <th>1301</th>\n",
       "      <td>3</td>\n",
       "      <td>Peacock, Miss. Treasteall</td>\n",
       "      <td>female</td>\n",
       "      <td>3.0</td>\n",
       "      <td>1</td>\n",
       "      <td>1</td>\n",
       "      <td>SOTON/O.Q. 3101315</td>\n",
       "      <td>13.7750</td>\n",
       "      <td>NaN</td>\n",
       "      <td>S</td>\n",
       "    </tr>\n",
       "    <tr>\n",
       "      <th>1302</th>\n",
       "      <td>3</td>\n",
       "      <td>Naughton, Miss. Hannah</td>\n",
       "      <td>female</td>\n",
       "      <td>NaN</td>\n",
       "      <td>0</td>\n",
       "      <td>0</td>\n",
       "      <td>365237</td>\n",
       "      <td>7.7500</td>\n",
       "      <td>NaN</td>\n",
       "      <td>Q</td>\n",
       "    </tr>\n",
       "    <tr>\n",
       "      <th>1303</th>\n",
       "      <td>1</td>\n",
       "      <td>Minahan, Mrs. William Edward (Lillian E Thorpe)</td>\n",
       "      <td>female</td>\n",
       "      <td>37.0</td>\n",
       "      <td>1</td>\n",
       "      <td>0</td>\n",
       "      <td>19928</td>\n",
       "      <td>90.0000</td>\n",
       "      <td>C78</td>\n",
       "      <td>Q</td>\n",
       "    </tr>\n",
       "    <tr>\n",
       "      <th>1304</th>\n",
       "      <td>3</td>\n",
       "      <td>Henriksson, Miss. Jenny Lovisa</td>\n",
       "      <td>female</td>\n",
       "      <td>28.0</td>\n",
       "      <td>0</td>\n",
       "      <td>0</td>\n",
       "      <td>347086</td>\n",
       "      <td>7.7750</td>\n",
       "      <td>NaN</td>\n",
       "      <td>S</td>\n",
       "    </tr>\n",
       "    <tr>\n",
       "      <th>1305</th>\n",
       "      <td>3</td>\n",
       "      <td>Spector, Mr. Woolf</td>\n",
       "      <td>male</td>\n",
       "      <td>NaN</td>\n",
       "      <td>0</td>\n",
       "      <td>0</td>\n",
       "      <td>A.5. 3236</td>\n",
       "      <td>8.0500</td>\n",
       "      <td>NaN</td>\n",
       "      <td>S</td>\n",
       "    </tr>\n",
       "    <tr>\n",
       "      <th>1306</th>\n",
       "      <td>1</td>\n",
       "      <td>Oliva y Ocana, Dona. Fermina</td>\n",
       "      <td>female</td>\n",
       "      <td>39.0</td>\n",
       "      <td>0</td>\n",
       "      <td>0</td>\n",
       "      <td>PC 17758</td>\n",
       "      <td>108.9000</td>\n",
       "      <td>C105</td>\n",
       "      <td>C</td>\n",
       "    </tr>\n",
       "    <tr>\n",
       "      <th>1307</th>\n",
       "      <td>3</td>\n",
       "      <td>Saether, Mr. Simon Sivertsen</td>\n",
       "      <td>male</td>\n",
       "      <td>38.5</td>\n",
       "      <td>0</td>\n",
       "      <td>0</td>\n",
       "      <td>SOTON/O.Q. 3101262</td>\n",
       "      <td>7.2500</td>\n",
       "      <td>NaN</td>\n",
       "      <td>S</td>\n",
       "    </tr>\n",
       "    <tr>\n",
       "      <th>1308</th>\n",
       "      <td>3</td>\n",
       "      <td>Ware, Mr. Frederick</td>\n",
       "      <td>male</td>\n",
       "      <td>NaN</td>\n",
       "      <td>0</td>\n",
       "      <td>0</td>\n",
       "      <td>359309</td>\n",
       "      <td>8.0500</td>\n",
       "      <td>NaN</td>\n",
       "      <td>S</td>\n",
       "    </tr>\n",
       "    <tr>\n",
       "      <th>1309</th>\n",
       "      <td>3</td>\n",
       "      <td>Peter, Master. Michael J</td>\n",
       "      <td>male</td>\n",
       "      <td>NaN</td>\n",
       "      <td>1</td>\n",
       "      <td>1</td>\n",
       "      <td>2668</td>\n",
       "      <td>22.3583</td>\n",
       "      <td>NaN</td>\n",
       "      <td>C</td>\n",
       "    </tr>\n",
       "  </tbody>\n",
       "</table>\n",
       "<p>418 rows × 10 columns</p>\n",
       "</div>"
      ],
      "text/plain": [
       "             Pclass                                               Name  \\\n",
       "PassengerId                                                              \n",
       "892               3                                   Kelly, Mr. James   \n",
       "893               3                   Wilkes, Mrs. James (Ellen Needs)   \n",
       "894               2                          Myles, Mr. Thomas Francis   \n",
       "895               3                                   Wirz, Mr. Albert   \n",
       "896               3       Hirvonen, Mrs. Alexander (Helga E Lindqvist)   \n",
       "897               3                         Svensson, Mr. Johan Cervin   \n",
       "898               3                               Connolly, Miss. Kate   \n",
       "899               2                       Caldwell, Mr. Albert Francis   \n",
       "900               3          Abrahim, Mrs. Joseph (Sophie Halaut Easu)   \n",
       "901               3                            Davies, Mr. John Samuel   \n",
       "902               3                                   Ilieff, Mr. Ylio   \n",
       "903               1                         Jones, Mr. Charles Cresson   \n",
       "904               1      Snyder, Mrs. John Pillsbury (Nelle Stevenson)   \n",
       "905               2                               Howard, Mr. Benjamin   \n",
       "906               1  Chaffee, Mrs. Herbert Fuller (Carrie Constance...   \n",
       "907               2      del Carlo, Mrs. Sebastiano (Argenia Genovesi)   \n",
       "908               2                                  Keane, Mr. Daniel   \n",
       "909               3                                  Assaf, Mr. Gerios   \n",
       "910               3                       Ilmakangas, Miss. Ida Livija   \n",
       "911               3              Assaf Khalil, Mrs. Mariana (Miriam\")\"   \n",
       "912               1                             Rothschild, Mr. Martin   \n",
       "913               3                          Olsen, Master. Artur Karl   \n",
       "914               1               Flegenheim, Mrs. Alfred (Antoinette)   \n",
       "915               1                    Williams, Mr. Richard Norris II   \n",
       "916               1    Ryerson, Mrs. Arthur Larned (Emily Maria Borie)   \n",
       "917               3                            Robins, Mr. Alexander A   \n",
       "918               1                       Ostby, Miss. Helene Ragnhild   \n",
       "919               3                                  Daher, Mr. Shedid   \n",
       "920               1                            Brady, Mr. John Bertram   \n",
       "921               3                                  Samaan, Mr. Elias   \n",
       "...             ...                                                ...   \n",
       "1280              3                               Canavan, Mr. Patrick   \n",
       "1281              3                        Palsson, Master. Paul Folke   \n",
       "1282              1                         Payne, Mr. Vivian Ponsonby   \n",
       "1283              1     Lines, Mrs. Ernest H (Elizabeth Lindsey James)   \n",
       "1284              3                      Abbott, Master. Eugene Joseph   \n",
       "1285              2                               Gilbert, Mr. William   \n",
       "1286              3                           Kink-Heilmann, Mr. Anton   \n",
       "1287              1     Smith, Mrs. Lucien Philip (Mary Eloise Hughes)   \n",
       "1288              3                               Colbert, Mr. Patrick   \n",
       "1289              1  Frolicher-Stehli, Mrs. Maxmillian (Margaretha ...   \n",
       "1290              3                     Larsson-Rondberg, Mr. Edvard A   \n",
       "1291              3                           Conlon, Mr. Thomas Henry   \n",
       "1292              1                            Bonnell, Miss. Caroline   \n",
       "1293              2                                    Gale, Mr. Harry   \n",
       "1294              1                     Gibson, Miss. Dorothy Winifred   \n",
       "1295              1                             Carrau, Mr. Jose Pedro   \n",
       "1296              1                       Frauenthal, Mr. Isaac Gerald   \n",
       "1297              2       Nourney, Mr. Alfred (Baron von Drachstedt\")\"   \n",
       "1298              2                          Ware, Mr. William Jeffery   \n",
       "1299              1                         Widener, Mr. George Dunton   \n",
       "1300              3                    Riordan, Miss. Johanna Hannah\"\"   \n",
       "1301              3                          Peacock, Miss. Treasteall   \n",
       "1302              3                             Naughton, Miss. Hannah   \n",
       "1303              1    Minahan, Mrs. William Edward (Lillian E Thorpe)   \n",
       "1304              3                     Henriksson, Miss. Jenny Lovisa   \n",
       "1305              3                                 Spector, Mr. Woolf   \n",
       "1306              1                       Oliva y Ocana, Dona. Fermina   \n",
       "1307              3                       Saether, Mr. Simon Sivertsen   \n",
       "1308              3                                Ware, Mr. Frederick   \n",
       "1309              3                           Peter, Master. Michael J   \n",
       "\n",
       "                Sex   Age  SibSp  Parch              Ticket      Fare  \\\n",
       "PassengerId                                                             \n",
       "892            male  34.5      0      0              330911    7.8292   \n",
       "893          female  47.0      1      0              363272    7.0000   \n",
       "894            male  62.0      0      0              240276    9.6875   \n",
       "895            male  27.0      0      0              315154    8.6625   \n",
       "896          female  22.0      1      1             3101298   12.2875   \n",
       "897            male  14.0      0      0                7538    9.2250   \n",
       "898          female  30.0      0      0              330972    7.6292   \n",
       "899            male  26.0      1      1              248738   29.0000   \n",
       "900          female  18.0      0      0                2657    7.2292   \n",
       "901            male  21.0      2      0           A/4 48871   24.1500   \n",
       "902            male   NaN      0      0              349220    7.8958   \n",
       "903            male  46.0      0      0                 694   26.0000   \n",
       "904          female  23.0      1      0               21228   82.2667   \n",
       "905            male  63.0      1      0               24065   26.0000   \n",
       "906          female  47.0      1      0         W.E.P. 5734   61.1750   \n",
       "907          female  24.0      1      0       SC/PARIS 2167   27.7208   \n",
       "908            male  35.0      0      0              233734   12.3500   \n",
       "909            male  21.0      0      0                2692    7.2250   \n",
       "910          female  27.0      1      0    STON/O2. 3101270    7.9250   \n",
       "911          female  45.0      0      0                2696    7.2250   \n",
       "912            male  55.0      1      0            PC 17603   59.4000   \n",
       "913            male   9.0      0      1             C 17368    3.1708   \n",
       "914          female   NaN      0      0            PC 17598   31.6833   \n",
       "915            male  21.0      0      1            PC 17597   61.3792   \n",
       "916          female  48.0      1      3            PC 17608  262.3750   \n",
       "917            male  50.0      1      0           A/5. 3337   14.5000   \n",
       "918          female  22.0      0      1              113509   61.9792   \n",
       "919            male  22.5      0      0                2698    7.2250   \n",
       "920            male  41.0      0      0              113054   30.5000   \n",
       "921            male   NaN      2      0                2662   21.6792   \n",
       "...             ...   ...    ...    ...                 ...       ...   \n",
       "1280           male  21.0      0      0              364858    7.7500   \n",
       "1281           male   6.0      3      1              349909   21.0750   \n",
       "1282           male  23.0      0      0               12749   93.5000   \n",
       "1283         female  51.0      0      1            PC 17592   39.4000   \n",
       "1284           male  13.0      0      2           C.A. 2673   20.2500   \n",
       "1285           male  47.0      0      0          C.A. 30769   10.5000   \n",
       "1286           male  29.0      3      1              315153   22.0250   \n",
       "1287         female  18.0      1      0               13695   60.0000   \n",
       "1288           male  24.0      0      0              371109    7.2500   \n",
       "1289         female  48.0      1      1               13567   79.2000   \n",
       "1290           male  22.0      0      0              347065    7.7750   \n",
       "1291           male  31.0      0      0               21332    7.7333   \n",
       "1292         female  30.0      0      0               36928  164.8667   \n",
       "1293           male  38.0      1      0               28664   21.0000   \n",
       "1294         female  22.0      0      1              112378   59.4000   \n",
       "1295           male  17.0      0      0              113059   47.1000   \n",
       "1296           male  43.0      1      0               17765   27.7208   \n",
       "1297           male  20.0      0      0       SC/PARIS 2166   13.8625   \n",
       "1298           male  23.0      1      0               28666   10.5000   \n",
       "1299           male  50.0      1      1              113503  211.5000   \n",
       "1300         female   NaN      0      0              334915    7.7208   \n",
       "1301         female   3.0      1      1  SOTON/O.Q. 3101315   13.7750   \n",
       "1302         female   NaN      0      0              365237    7.7500   \n",
       "1303         female  37.0      1      0               19928   90.0000   \n",
       "1304         female  28.0      0      0              347086    7.7750   \n",
       "1305           male   NaN      0      0           A.5. 3236    8.0500   \n",
       "1306         female  39.0      0      0            PC 17758  108.9000   \n",
       "1307           male  38.5      0      0  SOTON/O.Q. 3101262    7.2500   \n",
       "1308           male   NaN      0      0              359309    8.0500   \n",
       "1309           male   NaN      1      1                2668   22.3583   \n",
       "\n",
       "                       Cabin Embarked  \n",
       "PassengerId                            \n",
       "892                      NaN        Q  \n",
       "893                      NaN        S  \n",
       "894                      NaN        Q  \n",
       "895                      NaN        S  \n",
       "896                      NaN        S  \n",
       "897                      NaN        S  \n",
       "898                      NaN        Q  \n",
       "899                      NaN        S  \n",
       "900                      NaN        C  \n",
       "901                      NaN        S  \n",
       "902                      NaN        S  \n",
       "903                      NaN        S  \n",
       "904                      B45        S  \n",
       "905                      NaN        S  \n",
       "906                      E31        S  \n",
       "907                      NaN        C  \n",
       "908                      NaN        Q  \n",
       "909                      NaN        C  \n",
       "910                      NaN        S  \n",
       "911                      NaN        C  \n",
       "912                      NaN        C  \n",
       "913                      NaN        S  \n",
       "914                      NaN        S  \n",
       "915                      NaN        C  \n",
       "916          B57 B59 B63 B66        C  \n",
       "917                      NaN        S  \n",
       "918                      B36        C  \n",
       "919                      NaN        C  \n",
       "920                      A21        S  \n",
       "921                      NaN        C  \n",
       "...                      ...      ...  \n",
       "1280                     NaN        Q  \n",
       "1281                     NaN        S  \n",
       "1282                     B24        S  \n",
       "1283                     D28        S  \n",
       "1284                     NaN        S  \n",
       "1285                     NaN        S  \n",
       "1286                     NaN        S  \n",
       "1287                     C31        S  \n",
       "1288                     NaN        Q  \n",
       "1289                     B41        C  \n",
       "1290                     NaN        S  \n",
       "1291                     NaN        Q  \n",
       "1292                      C7        S  \n",
       "1293                     NaN        S  \n",
       "1294                     NaN        C  \n",
       "1295                     NaN        S  \n",
       "1296                     D40        C  \n",
       "1297                     D38        C  \n",
       "1298                     NaN        S  \n",
       "1299                     C80        C  \n",
       "1300                     NaN        Q  \n",
       "1301                     NaN        S  \n",
       "1302                     NaN        Q  \n",
       "1303                     C78        Q  \n",
       "1304                     NaN        S  \n",
       "1305                     NaN        S  \n",
       "1306                    C105        C  \n",
       "1307                     NaN        S  \n",
       "1308                     NaN        S  \n",
       "1309                     NaN        C  \n",
       "\n",
       "[418 rows x 10 columns]"
      ]
     },
     "execution_count": 52,
     "metadata": {},
     "output_type": "execute_result"
    }
   ],
   "source": [
    "test_data"
   ]
  },
  {
   "cell_type": "code",
   "execution_count": 54,
   "id": "excited-march",
   "metadata": {
    "execution": {
     "iopub.execute_input": "2021-06-10T09:48:59.105367Z",
     "iopub.status.busy": "2021-06-10T09:48:59.104601Z",
     "iopub.status.idle": "2021-06-10T09:48:59.111232Z",
     "shell.execute_reply": "2021-06-10T09:48:59.111731Z",
     "shell.execute_reply.started": "2021-06-10T09:47:56.474847Z"
    },
    "papermill": {
     "duration": 0.077299,
     "end_time": "2021-06-10T09:48:59.111910",
     "exception": false,
     "start_time": "2021-06-10T09:48:59.034611",
     "status": "completed"
    },
    "tags": []
   },
   "outputs": [],
   "source": [
    "submission_df.to_csv('submission.csv', index=False)"
   ]
  },
  {
   "cell_type": "code",
   "execution_count": null,
   "id": "drawn-county",
   "metadata": {},
   "outputs": [],
   "source": []
  }
 ],
 "metadata": {
  "kernelspec": {
   "display_name": "Python 3",
   "language": "python",
   "name": "python3"
  },
  "language_info": {
   "codemirror_mode": {
    "name": "ipython",
    "version": 3
   },
   "file_extension": ".py",
   "mimetype": "text/x-python",
   "name": "python",
   "nbconvert_exporter": "python",
   "pygments_lexer": "ipython3",
   "version": "3.5.2"
  },
  "papermill": {
   "default_parameters": {},
   "duration": 24.903881,
   "end_time": "2021-06-10T09:49:00.087801",
   "environment_variables": {},
   "exception": null,
   "input_path": "__notebook__.ipynb",
   "output_path": "__notebook__.ipynb",
   "parameters": {},
   "start_time": "2021-06-10T09:48:35.183920",
   "version": "2.3.3"
  }
 },
 "nbformat": 4,
 "nbformat_minor": 5
}
