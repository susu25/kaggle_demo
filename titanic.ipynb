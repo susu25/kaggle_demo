{
 "cells": [
  {
   "cell_type": "code",
   "execution_count": 1,
   "id": "underlying-drill",
   "metadata": {
    "_cell_guid": "b1076dfc-b9ad-4769-8c92-a6c4dae69d19",
    "_uuid": "8f2839f25d086af736a60e9eeb907d3b93b6e0e5",
    "execution": {
     "iopub.execute_input": "2023-04-11T10:05:55.345763Z",
     "iopub.status.busy": "2023-04-11T10:05:55.344904Z",
     "iopub.status.idle": "2023-04-11T10:05:55.350250Z",
     "shell.execute_reply": "2023-04-11T10:05:55.349471Z",
     "shell.execute_reply.started": "2023-04-11T09:20:25.365032Z"
    },
    "papermill": {
     "duration": 0.056458,
     "end_time": "2023-04-11T10:05:55.350462",
     "exception": false,
     "start_time": "2023-04-11T10:05:55.294004",
     "status": "completed"
    },
    "tags": []
   },
   "outputs": [],
   "source": [
    "import os\n",
    "import numpy as np\n",
    "import pandas as pd"
   ]
  },
  {
   "cell_type": "code",
   "execution_count": 2,
   "id": "loose-white",
   "metadata": {
    "execution": {
     "iopub.execute_input": "2023-04-11T10:05:55.458002Z",
     "iopub.status.busy": "2023-04-11T10:05:55.457032Z",
     "iopub.status.idle": "2023-04-11T10:05:55.465099Z",
     "shell.execute_reply": "2023-04-11T10:05:55.465735Z",
     "shell.execute_reply.started": "2023-04-11T09:24:47.832589Z"
    },
    "papermill": {
     "duration": 0.066932,
     "end_time": "2023-04-11T10:05:55.466153",
     "exception": false,
     "start_time": "2023-04-11T10:05:55.399221",
     "status": "completed"
    },
    "tags": []
   },
   "outputs": [
    {
     "name": "stdout",
     "output_type": "stream",
     "text": [
      "['titanic']\n",
      "[]\n",
      "/kaggle/input/titanic/train.csv\n",
      "/kaggle/input/titanic/test.csv\n",
      "/kaggle/input/titanic/gender_submission.csv\n"
     ]
    }
   ],
   "source": [
    "for dirname, folder, filenames in os.walk('/kaggle/input'):\n",
    "    print(folder)\n",
    "    for filename in filenames:\n",
    "        print(os.path.join(dirname, filename))"
   ]
  },
  {
   "cell_type": "code",
   "execution_count": 3,
   "id": "genuine-stuart",
   "metadata": {
    "execution": {
     "iopub.execute_input": "2023-04-11T10:05:55.560496Z",
     "iopub.status.busy": "2023-04-11T10:05:55.559473Z",
     "iopub.status.idle": "2023-04-11T10:05:55.596061Z",
     "shell.execute_reply": "2023-04-11T10:05:55.595416Z",
     "shell.execute_reply.started": "2023-04-11T09:25:57.593009Z"
    },
    "papermill": {
     "duration": 0.081959,
     "end_time": "2023-04-11T10:05:55.596255",
     "exception": false,
     "start_time": "2023-04-11T10:05:55.514296",
     "status": "completed"
    },
    "tags": []
   },
   "outputs": [],
   "source": [
    "data_path = \"/kaggle/input/titanic/\"\n",
    "\n",
    "train_data = pd.read_csv(data_path + \"train.csv\", index_col='PassengerId')\n",
    "test_data = pd.read_csv(data_path + \"test.csv\", index_col='PassengerId')"
   ]
  },
  {
   "cell_type": "code",
   "execution_count": 4,
   "id": "adult-municipality",
   "metadata": {
    "execution": {
     "iopub.execute_input": "2023-04-11T10:05:55.688910Z",
     "iopub.status.busy": "2023-04-11T10:05:55.687551Z",
     "iopub.status.idle": "2023-04-11T10:05:55.708984Z",
     "shell.execute_reply": "2023-04-11T10:05:55.709546Z",
     "shell.execute_reply.started": "2023-04-11T09:26:05.078611Z"
    },
    "papermill": {
     "duration": 0.071468,
     "end_time": "2023-04-11T10:05:55.709733",
     "exception": false,
     "start_time": "2023-04-11T10:05:55.638265",
     "status": "completed"
    },
    "tags": []
   },
   "outputs": [
    {
     "data": {
      "text/html": [
       "<div>\n",
       "<style scoped>\n",
       "    .dataframe tbody tr th:only-of-type {\n",
       "        vertical-align: middle;\n",
       "    }\n",
       "\n",
       "    .dataframe tbody tr th {\n",
       "        vertical-align: top;\n",
       "    }\n",
       "\n",
       "    .dataframe thead th {\n",
       "        text-align: right;\n",
       "    }\n",
       "</style>\n",
       "<table border=\"1\" class=\"dataframe\">\n",
       "  <thead>\n",
       "    <tr style=\"text-align: right;\">\n",
       "      <th></th>\n",
       "      <th>Survived</th>\n",
       "      <th>Pclass</th>\n",
       "      <th>Name</th>\n",
       "      <th>Sex</th>\n",
       "      <th>Age</th>\n",
       "      <th>SibSp</th>\n",
       "      <th>Parch</th>\n",
       "      <th>Ticket</th>\n",
       "      <th>Fare</th>\n",
       "      <th>Cabin</th>\n",
       "      <th>Embarked</th>\n",
       "    </tr>\n",
       "    <tr>\n",
       "      <th>PassengerId</th>\n",
       "      <th></th>\n",
       "      <th></th>\n",
       "      <th></th>\n",
       "      <th></th>\n",
       "      <th></th>\n",
       "      <th></th>\n",
       "      <th></th>\n",
       "      <th></th>\n",
       "      <th></th>\n",
       "      <th></th>\n",
       "      <th></th>\n",
       "    </tr>\n",
       "  </thead>\n",
       "  <tbody>\n",
       "    <tr>\n",
       "      <th>1</th>\n",
       "      <td>0</td>\n",
       "      <td>3</td>\n",
       "      <td>Braund, Mr. Owen Harris</td>\n",
       "      <td>male</td>\n",
       "      <td>22.0</td>\n",
       "      <td>1</td>\n",
       "      <td>0</td>\n",
       "      <td>A/5 21171</td>\n",
       "      <td>7.2500</td>\n",
       "      <td>NaN</td>\n",
       "      <td>S</td>\n",
       "    </tr>\n",
       "    <tr>\n",
       "      <th>2</th>\n",
       "      <td>1</td>\n",
       "      <td>1</td>\n",
       "      <td>Cumings, Mrs. John Bradley (Florence Briggs Th...</td>\n",
       "      <td>female</td>\n",
       "      <td>38.0</td>\n",
       "      <td>1</td>\n",
       "      <td>0</td>\n",
       "      <td>PC 17599</td>\n",
       "      <td>71.2833</td>\n",
       "      <td>C85</td>\n",
       "      <td>C</td>\n",
       "    </tr>\n",
       "    <tr>\n",
       "      <th>3</th>\n",
       "      <td>1</td>\n",
       "      <td>3</td>\n",
       "      <td>Heikkinen, Miss. Laina</td>\n",
       "      <td>female</td>\n",
       "      <td>26.0</td>\n",
       "      <td>0</td>\n",
       "      <td>0</td>\n",
       "      <td>STON/O2. 3101282</td>\n",
       "      <td>7.9250</td>\n",
       "      <td>NaN</td>\n",
       "      <td>S</td>\n",
       "    </tr>\n",
       "    <tr>\n",
       "      <th>4</th>\n",
       "      <td>1</td>\n",
       "      <td>1</td>\n",
       "      <td>Futrelle, Mrs. Jacques Heath (Lily May Peel)</td>\n",
       "      <td>female</td>\n",
       "      <td>35.0</td>\n",
       "      <td>1</td>\n",
       "      <td>0</td>\n",
       "      <td>113803</td>\n",
       "      <td>53.1000</td>\n",
       "      <td>C123</td>\n",
       "      <td>S</td>\n",
       "    </tr>\n",
       "    <tr>\n",
       "      <th>5</th>\n",
       "      <td>0</td>\n",
       "      <td>3</td>\n",
       "      <td>Allen, Mr. William Henry</td>\n",
       "      <td>male</td>\n",
       "      <td>35.0</td>\n",
       "      <td>0</td>\n",
       "      <td>0</td>\n",
       "      <td>373450</td>\n",
       "      <td>8.0500</td>\n",
       "      <td>NaN</td>\n",
       "      <td>S</td>\n",
       "    </tr>\n",
       "  </tbody>\n",
       "</table>\n",
       "</div>"
      ],
      "text/plain": [
       "             Survived  Pclass  \\\n",
       "PassengerId                     \n",
       "1                   0       3   \n",
       "2                   1       1   \n",
       "3                   1       3   \n",
       "4                   1       1   \n",
       "5                   0       3   \n",
       "\n",
       "                                                          Name     Sex   Age  \\\n",
       "PassengerId                                                                    \n",
       "1                                      Braund, Mr. Owen Harris    male  22.0   \n",
       "2            Cumings, Mrs. John Bradley (Florence Briggs Th...  female  38.0   \n",
       "3                                       Heikkinen, Miss. Laina  female  26.0   \n",
       "4                 Futrelle, Mrs. Jacques Heath (Lily May Peel)  female  35.0   \n",
       "5                                     Allen, Mr. William Henry    male  35.0   \n",
       "\n",
       "             SibSp  Parch            Ticket     Fare Cabin Embarked  \n",
       "PassengerId                                                          \n",
       "1                1      0         A/5 21171   7.2500   NaN        S  \n",
       "2                1      0          PC 17599  71.2833   C85        C  \n",
       "3                0      0  STON/O2. 3101282   7.9250   NaN        S  \n",
       "4                1      0            113803  53.1000  C123        S  \n",
       "5                0      0            373450   8.0500   NaN        S  "
      ]
     },
     "execution_count": 4,
     "metadata": {},
     "output_type": "execute_result"
    }
   ],
   "source": [
    "train_data.head(5)"
   ]
  },
  {
   "cell_type": "code",
   "execution_count": 5,
   "id": "informative-batman",
   "metadata": {
    "execution": {
     "iopub.execute_input": "2023-04-11T10:05:55.801061Z",
     "iopub.status.busy": "2023-04-11T10:05:55.800308Z",
     "iopub.status.idle": "2023-04-11T10:05:55.814579Z",
     "shell.execute_reply": "2023-04-11T10:05:55.813815Z",
     "shell.execute_reply.started": "2023-04-11T09:26:12.406325Z"
    },
    "papermill": {
     "duration": 0.062893,
     "end_time": "2023-04-11T10:05:55.814774",
     "exception": false,
     "start_time": "2023-04-11T10:05:55.751881",
     "status": "completed"
    },
    "tags": []
   },
   "outputs": [
    {
     "data": {
      "text/html": [
       "<div>\n",
       "<style scoped>\n",
       "    .dataframe tbody tr th:only-of-type {\n",
       "        vertical-align: middle;\n",
       "    }\n",
       "\n",
       "    .dataframe tbody tr th {\n",
       "        vertical-align: top;\n",
       "    }\n",
       "\n",
       "    .dataframe thead th {\n",
       "        text-align: right;\n",
       "    }\n",
       "</style>\n",
       "<table border=\"1\" class=\"dataframe\">\n",
       "  <thead>\n",
       "    <tr style=\"text-align: right;\">\n",
       "      <th></th>\n",
       "      <th>Pclass</th>\n",
       "      <th>Name</th>\n",
       "      <th>Sex</th>\n",
       "      <th>Age</th>\n",
       "      <th>SibSp</th>\n",
       "      <th>Parch</th>\n",
       "      <th>Ticket</th>\n",
       "      <th>Fare</th>\n",
       "      <th>Cabin</th>\n",
       "      <th>Embarked</th>\n",
       "    </tr>\n",
       "    <tr>\n",
       "      <th>PassengerId</th>\n",
       "      <th></th>\n",
       "      <th></th>\n",
       "      <th></th>\n",
       "      <th></th>\n",
       "      <th></th>\n",
       "      <th></th>\n",
       "      <th></th>\n",
       "      <th></th>\n",
       "      <th></th>\n",
       "      <th></th>\n",
       "    </tr>\n",
       "  </thead>\n",
       "  <tbody>\n",
       "    <tr>\n",
       "      <th>892</th>\n",
       "      <td>3</td>\n",
       "      <td>Kelly, Mr. James</td>\n",
       "      <td>male</td>\n",
       "      <td>34.5</td>\n",
       "      <td>0</td>\n",
       "      <td>0</td>\n",
       "      <td>330911</td>\n",
       "      <td>7.8292</td>\n",
       "      <td>NaN</td>\n",
       "      <td>Q</td>\n",
       "    </tr>\n",
       "    <tr>\n",
       "      <th>893</th>\n",
       "      <td>3</td>\n",
       "      <td>Wilkes, Mrs. James (Ellen Needs)</td>\n",
       "      <td>female</td>\n",
       "      <td>47.0</td>\n",
       "      <td>1</td>\n",
       "      <td>0</td>\n",
       "      <td>363272</td>\n",
       "      <td>7.0000</td>\n",
       "      <td>NaN</td>\n",
       "      <td>S</td>\n",
       "    </tr>\n",
       "    <tr>\n",
       "      <th>894</th>\n",
       "      <td>2</td>\n",
       "      <td>Myles, Mr. Thomas Francis</td>\n",
       "      <td>male</td>\n",
       "      <td>62.0</td>\n",
       "      <td>0</td>\n",
       "      <td>0</td>\n",
       "      <td>240276</td>\n",
       "      <td>9.6875</td>\n",
       "      <td>NaN</td>\n",
       "      <td>Q</td>\n",
       "    </tr>\n",
       "    <tr>\n",
       "      <th>895</th>\n",
       "      <td>3</td>\n",
       "      <td>Wirz, Mr. Albert</td>\n",
       "      <td>male</td>\n",
       "      <td>27.0</td>\n",
       "      <td>0</td>\n",
       "      <td>0</td>\n",
       "      <td>315154</td>\n",
       "      <td>8.6625</td>\n",
       "      <td>NaN</td>\n",
       "      <td>S</td>\n",
       "    </tr>\n",
       "    <tr>\n",
       "      <th>896</th>\n",
       "      <td>3</td>\n",
       "      <td>Hirvonen, Mrs. Alexander (Helga E Lindqvist)</td>\n",
       "      <td>female</td>\n",
       "      <td>22.0</td>\n",
       "      <td>1</td>\n",
       "      <td>1</td>\n",
       "      <td>3101298</td>\n",
       "      <td>12.2875</td>\n",
       "      <td>NaN</td>\n",
       "      <td>S</td>\n",
       "    </tr>\n",
       "  </tbody>\n",
       "</table>\n",
       "</div>"
      ],
      "text/plain": [
       "             Pclass                                          Name     Sex  \\\n",
       "PassengerId                                                                 \n",
       "892               3                              Kelly, Mr. James    male   \n",
       "893               3              Wilkes, Mrs. James (Ellen Needs)  female   \n",
       "894               2                     Myles, Mr. Thomas Francis    male   \n",
       "895               3                              Wirz, Mr. Albert    male   \n",
       "896               3  Hirvonen, Mrs. Alexander (Helga E Lindqvist)  female   \n",
       "\n",
       "              Age  SibSp  Parch   Ticket     Fare Cabin Embarked  \n",
       "PassengerId                                                       \n",
       "892          34.5      0      0   330911   7.8292   NaN        Q  \n",
       "893          47.0      1      0   363272   7.0000   NaN        S  \n",
       "894          62.0      0      0   240276   9.6875   NaN        Q  \n",
       "895          27.0      0      0   315154   8.6625   NaN        S  \n",
       "896          22.0      1      1  3101298  12.2875   NaN        S  "
      ]
     },
     "execution_count": 5,
     "metadata": {},
     "output_type": "execute_result"
    }
   ],
   "source": [
    "test_data.head(5)"
   ]
  },
  {
   "cell_type": "code",
   "execution_count": 6,
   "id": "fancy-price",
   "metadata": {
    "execution": {
     "iopub.execute_input": "2023-04-11T10:05:55.910382Z",
     "iopub.status.busy": "2023-04-11T10:05:55.907386Z",
     "iopub.status.idle": "2023-04-11T10:05:55.915102Z",
     "shell.execute_reply": "2023-04-11T10:05:55.914491Z",
     "shell.execute_reply.started": "2023-04-11T09:31:06.157748Z"
    },
    "papermill": {
     "duration": 0.057772,
     "end_time": "2023-04-11T10:05:55.915325",
     "exception": false,
     "start_time": "2023-04-11T10:05:55.857553",
     "status": "completed"
    },
    "tags": []
   },
   "outputs": [],
   "source": [
    "data_all = pd.concat([train_data, test_data], axis=0, sort=False)"
   ]
  },
  {
   "cell_type": "code",
   "execution_count": 7,
   "id": "valuable-reading",
   "metadata": {
    "execution": {
     "iopub.execute_input": "2023-04-11T10:05:56.005581Z",
     "iopub.status.busy": "2023-04-11T10:05:56.004786Z",
     "iopub.status.idle": "2023-04-11T10:05:56.020961Z",
     "shell.execute_reply": "2023-04-11T10:05:56.021466Z",
     "shell.execute_reply.started": "2023-04-11T09:31:07.194402Z"
    },
    "papermill": {
     "duration": 0.064123,
     "end_time": "2023-04-11T10:05:56.021712",
     "exception": false,
     "start_time": "2023-04-11T10:05:55.957589",
     "status": "completed"
    },
    "tags": []
   },
   "outputs": [
    {
     "data": {
      "text/html": [
       "<div>\n",
       "<style scoped>\n",
       "    .dataframe tbody tr th:only-of-type {\n",
       "        vertical-align: middle;\n",
       "    }\n",
       "\n",
       "    .dataframe tbody tr th {\n",
       "        vertical-align: top;\n",
       "    }\n",
       "\n",
       "    .dataframe thead th {\n",
       "        text-align: right;\n",
       "    }\n",
       "</style>\n",
       "<table border=\"1\" class=\"dataframe\">\n",
       "  <thead>\n",
       "    <tr style=\"text-align: right;\">\n",
       "      <th></th>\n",
       "      <th>Survived</th>\n",
       "      <th>Pclass</th>\n",
       "      <th>Name</th>\n",
       "      <th>Sex</th>\n",
       "      <th>Age</th>\n",
       "      <th>SibSp</th>\n",
       "      <th>Parch</th>\n",
       "      <th>Ticket</th>\n",
       "      <th>Fare</th>\n",
       "      <th>Cabin</th>\n",
       "      <th>Embarked</th>\n",
       "    </tr>\n",
       "    <tr>\n",
       "      <th>PassengerId</th>\n",
       "      <th></th>\n",
       "      <th></th>\n",
       "      <th></th>\n",
       "      <th></th>\n",
       "      <th></th>\n",
       "      <th></th>\n",
       "      <th></th>\n",
       "      <th></th>\n",
       "      <th></th>\n",
       "      <th></th>\n",
       "      <th></th>\n",
       "    </tr>\n",
       "  </thead>\n",
       "  <tbody>\n",
       "    <tr>\n",
       "      <th>1305</th>\n",
       "      <td>NaN</td>\n",
       "      <td>3</td>\n",
       "      <td>Spector, Mr. Woolf</td>\n",
       "      <td>male</td>\n",
       "      <td>NaN</td>\n",
       "      <td>0</td>\n",
       "      <td>0</td>\n",
       "      <td>A.5. 3236</td>\n",
       "      <td>8.0500</td>\n",
       "      <td>NaN</td>\n",
       "      <td>S</td>\n",
       "    </tr>\n",
       "    <tr>\n",
       "      <th>1306</th>\n",
       "      <td>NaN</td>\n",
       "      <td>1</td>\n",
       "      <td>Oliva y Ocana, Dona. Fermina</td>\n",
       "      <td>female</td>\n",
       "      <td>39.0</td>\n",
       "      <td>0</td>\n",
       "      <td>0</td>\n",
       "      <td>PC 17758</td>\n",
       "      <td>108.9000</td>\n",
       "      <td>C105</td>\n",
       "      <td>C</td>\n",
       "    </tr>\n",
       "    <tr>\n",
       "      <th>1307</th>\n",
       "      <td>NaN</td>\n",
       "      <td>3</td>\n",
       "      <td>Saether, Mr. Simon Sivertsen</td>\n",
       "      <td>male</td>\n",
       "      <td>38.5</td>\n",
       "      <td>0</td>\n",
       "      <td>0</td>\n",
       "      <td>SOTON/O.Q. 3101262</td>\n",
       "      <td>7.2500</td>\n",
       "      <td>NaN</td>\n",
       "      <td>S</td>\n",
       "    </tr>\n",
       "    <tr>\n",
       "      <th>1308</th>\n",
       "      <td>NaN</td>\n",
       "      <td>3</td>\n",
       "      <td>Ware, Mr. Frederick</td>\n",
       "      <td>male</td>\n",
       "      <td>NaN</td>\n",
       "      <td>0</td>\n",
       "      <td>0</td>\n",
       "      <td>359309</td>\n",
       "      <td>8.0500</td>\n",
       "      <td>NaN</td>\n",
       "      <td>S</td>\n",
       "    </tr>\n",
       "    <tr>\n",
       "      <th>1309</th>\n",
       "      <td>NaN</td>\n",
       "      <td>3</td>\n",
       "      <td>Peter, Master. Michael J</td>\n",
       "      <td>male</td>\n",
       "      <td>NaN</td>\n",
       "      <td>1</td>\n",
       "      <td>1</td>\n",
       "      <td>2668</td>\n",
       "      <td>22.3583</td>\n",
       "      <td>NaN</td>\n",
       "      <td>C</td>\n",
       "    </tr>\n",
       "  </tbody>\n",
       "</table>\n",
       "</div>"
      ],
      "text/plain": [
       "             Survived  Pclass                          Name     Sex   Age  \\\n",
       "PassengerId                                                                 \n",
       "1305              NaN       3            Spector, Mr. Woolf    male   NaN   \n",
       "1306              NaN       1  Oliva y Ocana, Dona. Fermina  female  39.0   \n",
       "1307              NaN       3  Saether, Mr. Simon Sivertsen    male  38.5   \n",
       "1308              NaN       3           Ware, Mr. Frederick    male   NaN   \n",
       "1309              NaN       3      Peter, Master. Michael J    male   NaN   \n",
       "\n",
       "             SibSp  Parch              Ticket      Fare Cabin Embarked  \n",
       "PassengerId                                                             \n",
       "1305             0      0           A.5. 3236    8.0500   NaN        S  \n",
       "1306             0      0            PC 17758  108.9000  C105        C  \n",
       "1307             0      0  SOTON/O.Q. 3101262    7.2500   NaN        S  \n",
       "1308             0      0              359309    8.0500   NaN        S  \n",
       "1309             1      1                2668   22.3583   NaN        C  "
      ]
     },
     "execution_count": 7,
     "metadata": {},
     "output_type": "execute_result"
    }
   ],
   "source": [
    "data_all.tail()"
   ]
  },
  {
   "cell_type": "code",
   "execution_count": 8,
   "id": "surrounded-matter",
   "metadata": {
    "execution": {
     "iopub.execute_input": "2023-04-11T10:05:56.129639Z",
     "iopub.status.busy": "2023-04-11T10:05:56.128534Z",
     "iopub.status.idle": "2023-04-11T10:05:56.132384Z",
     "shell.execute_reply": "2023-04-11T10:05:56.132947Z",
     "shell.execute_reply.started": "2023-04-11T09:31:12.527302Z"
    },
    "papermill": {
     "duration": 0.068518,
     "end_time": "2023-04-11T10:05:56.133156",
     "exception": false,
     "start_time": "2023-04-11T10:05:56.064638",
     "status": "completed"
    },
    "tags": []
   },
   "outputs": [
    {
     "name": "stdout",
     "output_type": "stream",
     "text": [
      "<class 'pandas.core.frame.DataFrame'>\n",
      "Int64Index: 1309 entries, 1 to 1309\n",
      "Data columns (total 11 columns):\n",
      " #   Column    Non-Null Count  Dtype  \n",
      "---  ------    --------------  -----  \n",
      " 0   Survived  891 non-null    float64\n",
      " 1   Pclass    1309 non-null   int64  \n",
      " 2   Name      1309 non-null   object \n",
      " 3   Sex       1309 non-null   object \n",
      " 4   Age       1046 non-null   float64\n",
      " 5   SibSp     1309 non-null   int64  \n",
      " 6   Parch     1309 non-null   int64  \n",
      " 7   Ticket    1309 non-null   object \n",
      " 8   Fare      1308 non-null   float64\n",
      " 9   Cabin     295 non-null    object \n",
      " 10  Embarked  1307 non-null   object \n",
      "dtypes: float64(3), int64(3), object(5)\n",
      "memory usage: 122.7+ KB\n"
     ]
    }
   ],
   "source": [
    "data_all.info()"
   ]
  },
  {
   "cell_type": "code",
   "execution_count": 9,
   "id": "universal-africa",
   "metadata": {
    "execution": {
     "iopub.execute_input": "2023-04-11T10:05:56.227818Z",
     "iopub.status.busy": "2023-04-11T10:05:56.226022Z",
     "iopub.status.idle": "2023-04-11T10:05:56.250552Z",
     "shell.execute_reply": "2023-04-11T10:05:56.251147Z",
     "shell.execute_reply.started": "2023-04-11T09:31:14.506191Z"
    },
    "papermill": {
     "duration": 0.074252,
     "end_time": "2023-04-11T10:05:56.251339",
     "exception": false,
     "start_time": "2023-04-11T10:05:56.177087",
     "status": "completed"
    },
    "tags": []
   },
   "outputs": [
    {
     "data": {
      "text/plain": [
       "Survived    31.932773\n",
       "Pclass       0.000000\n",
       "Name         0.000000\n",
       "Sex          0.000000\n",
       "Age         20.091673\n",
       "SibSp        0.000000\n",
       "Parch        0.000000\n",
       "Ticket       0.000000\n",
       "Fare         0.076394\n",
       "Cabin       77.463713\n",
       "Embarked     0.152788\n",
       "dtype: float64"
      ]
     },
     "execution_count": 9,
     "metadata": {},
     "output_type": "execute_result"
    }
   ],
   "source": [
    "data_all.isnull().sum()/len(data_all)*100"
   ]
  },
  {
   "cell_type": "code",
   "execution_count": 10,
   "id": "nonprofit-hampshire",
   "metadata": {
    "execution": {
     "iopub.execute_input": "2023-04-11T10:05:56.342938Z",
     "iopub.status.busy": "2023-04-11T10:05:56.342218Z",
     "iopub.status.idle": "2023-04-11T10:05:56.347560Z",
     "shell.execute_reply": "2023-04-11T10:05:56.348238Z",
     "shell.execute_reply.started": "2023-04-11T09:31:16.446366Z"
    },
    "papermill": {
     "duration": 0.051947,
     "end_time": "2023-04-11T10:05:56.348432",
     "exception": false,
     "start_time": "2023-04-11T10:05:56.296485",
     "status": "completed"
    },
    "tags": []
   },
   "outputs": [
    {
     "data": {
      "text/plain": [
       "array(['male', 'female'], dtype=object)"
      ]
     },
     "execution_count": 10,
     "metadata": {},
     "output_type": "execute_result"
    }
   ],
   "source": [
    "pd.unique(data_all.Sex)"
   ]
  },
  {
   "cell_type": "code",
   "execution_count": 11,
   "id": "biological-share",
   "metadata": {
    "execution": {
     "iopub.execute_input": "2023-04-11T10:05:56.441477Z",
     "iopub.status.busy": "2023-04-11T10:05:56.440709Z",
     "iopub.status.idle": "2023-04-11T10:05:56.447344Z",
     "shell.execute_reply": "2023-04-11T10:05:56.447990Z",
     "shell.execute_reply.started": "2023-04-11T09:31:18.286016Z"
    },
    "papermill": {
     "duration": 0.055829,
     "end_time": "2023-04-11T10:05:56.448207",
     "exception": false,
     "start_time": "2023-04-11T10:05:56.392378",
     "status": "completed"
    },
    "tags": []
   },
   "outputs": [],
   "source": [
    "# 对离散的文本数据进行编码\n",
    "Sex_dict = {'female':0, 'male':1}\n",
    "data_all.Sex = data_all.Sex.map(Sex_dict)"
   ]
  },
  {
   "cell_type": "code",
   "execution_count": 12,
   "id": "beautiful-audience",
   "metadata": {
    "execution": {
     "iopub.execute_input": "2023-04-11T10:05:56.544069Z",
     "iopub.status.busy": "2023-04-11T10:05:56.543315Z",
     "iopub.status.idle": "2023-04-11T10:05:56.546959Z",
     "shell.execute_reply": "2023-04-11T10:05:56.547613Z",
     "shell.execute_reply.started": "2023-04-11T09:31:19.448133Z"
    },
    "papermill": {
     "duration": 0.053653,
     "end_time": "2023-04-11T10:05:56.547808",
     "exception": false,
     "start_time": "2023-04-11T10:05:56.494155",
     "status": "completed"
    },
    "tags": []
   },
   "outputs": [
    {
     "data": {
      "text/plain": [
       "array(['S', 'C', 'Q', nan], dtype=object)"
      ]
     },
     "execution_count": 12,
     "metadata": {},
     "output_type": "execute_result"
    }
   ],
   "source": [
    "pd.unique(data_all.Embarked)"
   ]
  },
  {
   "cell_type": "code",
   "execution_count": 13,
   "id": "cubic-feelings",
   "metadata": {
    "execution": {
     "iopub.execute_input": "2023-04-11T10:05:56.642550Z",
     "iopub.status.busy": "2023-04-11T10:05:56.641734Z",
     "iopub.status.idle": "2023-04-11T10:05:56.644606Z",
     "shell.execute_reply": "2023-04-11T10:05:56.645164Z",
     "shell.execute_reply.started": "2023-04-11T09:31:20.486755Z"
    },
    "papermill": {
     "duration": 0.05394,
     "end_time": "2023-04-11T10:05:56.645374",
     "exception": false,
     "start_time": "2023-04-11T10:05:56.591434",
     "status": "completed"
    },
    "tags": []
   },
   "outputs": [],
   "source": [
    "Embarked_dict = {'S':0,'C':1,'Q':2}\n",
    "data_all.Embarked = data_all.Embarked.map(Embarked_dict)"
   ]
  },
  {
   "cell_type": "code",
   "execution_count": 14,
   "id": "commercial-introduction",
   "metadata": {
    "execution": {
     "iopub.execute_input": "2023-04-11T10:05:56.738034Z",
     "iopub.status.busy": "2023-04-11T10:05:56.737313Z",
     "iopub.status.idle": "2023-04-11T10:05:58.504148Z",
     "shell.execute_reply": "2023-04-11T10:05:58.503368Z",
     "shell.execute_reply.started": "2023-04-11T09:31:22.919071Z"
    },
    "papermill": {
     "duration": 1.813899,
     "end_time": "2023-04-11T10:05:58.504328",
     "exception": false,
     "start_time": "2023-04-11T10:05:56.690429",
     "status": "completed"
    },
    "tags": []
   },
   "outputs": [
    {
     "data": {
      "image/png": "[encoded data removed]",
      "text/plain": [
       "<Figure size 1152x1008 with 6 Axes>"
      ]
     },
     "metadata": {
      "needs_background": "light"
     },
     "output_type": "display_data"
    }
   ],
   "source": [
    "%matplotlib inline\n",
    "import matplotlib.pyplot as plt\n",
    "import seaborn as sns\n",
    "\n",
    "columns = ['Pclass', 'Sex','Embarked','SibSp', 'Parch','Survived']\n",
    "\n",
    "plt.figure(figsize=(16, 14))\n",
    "sns.set(font_scale= 1.2)\n",
    "sns.set_style('ticks')\n",
    "\n",
    "for i, feature in enumerate(columns):\n",
    "    plt.subplot(3, 3, i+1)\n",
    "    sns.countplot(data=data_all, x=feature, hue='Survived', palette='Paired')\n",
    "    \n",
    "sns.despine()"
   ]
  },
  {
   "cell_type": "code",
   "execution_count": 15,
   "id": "sharp-default",
   "metadata": {
    "execution": {
     "iopub.execute_input": "2023-04-11T10:05:58.623997Z",
     "iopub.status.busy": "2023-04-11T10:05:58.623267Z",
     "iopub.status.idle": "2023-04-11T10:05:59.630708Z",
     "shell.execute_reply": "2023-04-11T10:05:59.630021Z",
     "shell.execute_reply.started": "2023-04-11T09:32:46.026675Z"
    },
    "papermill": {
     "duration": 1.079176,
     "end_time": "2023-04-11T10:05:59.630889",
     "exception": false,
     "start_time": "2023-04-11T10:05:58.551713",
     "status": "completed"
    },
    "tags": []
   },
   "outputs": [
    {
     "data": {
      "image/png": "[encoded data removed]",
      "text/plain": [
       "<Figure size 1152x1008 with 6 Axes>"
      ]
     },
     "metadata": {},
     "output_type": "display_data"
    }
   ],
   "source": [
    "columns = ['Pclass', 'Sex','Embarked','SibSp', 'Parch','Survived']\n",
    "\n",
    "plt.figure(figsize=(16, 14))\n",
    "sns.set(font_scale= 1.2)\n",
    "sns.set_style('ticks')\n",
    "\n",
    "for i, feature in enumerate(columns):\n",
    "    plt.subplot(3, 3, i+1)\n",
    "    sns.countplot(data=data_all, x=feature, hue='Sex', palette='BrBG')\n",
    "    \n",
    "sns.despine()"
   ]
  },
  {
   "cell_type": "code",
   "execution_count": 16,
   "id": "discrete-president",
   "metadata": {
    "execution": {
     "iopub.execute_input": "2023-04-11T10:05:59.731358Z",
     "iopub.status.busy": "2023-04-11T10:05:59.730514Z",
     "iopub.status.idle": "2023-04-11T10:05:59.736419Z",
     "shell.execute_reply": "2023-04-11T10:05:59.736971Z",
     "shell.execute_reply.started": "2023-04-11T09:34:33.599989Z"
    },
    "papermill": {
     "duration": 0.05856,
     "end_time": "2023-04-11T10:05:59.737180",
     "exception": false,
     "start_time": "2023-04-11T10:05:59.678620",
     "status": "completed"
    },
    "tags": []
   },
   "outputs": [
    {
     "name": "stdout",
     "output_type": "stream",
     "text": [
      "Help on method corr in module pandas.core.frame:\n",
      "\n",
      "corr(method='pearson', min_periods=1) -> 'DataFrame' method of pandas.core.frame.DataFrame instance\n",
      "    Compute pairwise correlation of columns, excluding NA/null values.\n",
      "    \n",
      "    Parameters\n",
      "    ----------\n",
      "    method : {'pearson', 'kendall', 'spearman'} or callable\n",
      "        Method of correlation:\n",
      "    \n",
      "        * pearson : standard correlation coefficient\n",
      "        * kendall : Kendall Tau correlation coefficient\n",
      "        * spearman : Spearman rank correlation\n",
      "        * callable: callable with input two 1d ndarrays\n",
      "            and returning a float. Note that the returned matrix from corr\n",
      "            will have 1 along the diagonals and will be symmetric\n",
      "            regardless of the callable's behavior.\n",
      "    \n",
      "            .. versionadded:: 0.24.0\n",
      "    \n",
      "    min_periods : int, optional\n",
      "        Minimum number of observations required per pair of columns\n",
      "        to have a valid result. Currently only available for Pearson\n",
      "        and Spearman correlation.\n",
      "    \n",
      "    Returns\n",
      "    -------\n",
      "    DataFrame\n",
      "        Correlation matrix.\n",
      "    \n",
      "    See Also\n",
      "    --------\n",
      "    DataFrame.corrwith : Compute pairwise correlation with another\n",
      "        DataFrame or Series.\n",
      "    Series.corr : Compute the correlation between two Series.\n",
      "    \n",
      "    Examples\n",
      "    --------\n",
      "    >>> def histogram_intersection(a, b):\n",
      "    ...     v = np.minimum(a, b).sum().round(decimals=1)\n",
      "    ...     return v\n",
      "    >>> df = pd.DataFrame([(.2, .3), (.0, .6), (.6, .0), (.2, .1)],\n",
      "    ...                   columns=['dogs', 'cats'])\n",
      "    >>> df.corr(method=histogram_intersection)\n",
      "          dogs  cats\n",
      "    dogs   1.0   0.3\n",
      "    cats   0.3   1.0\n",
      "\n"
     ]
    }
   ],
   "source": [
    "# data_all.corr??\n",
    "help(data_all.corr)"
   ]
  },
  {
   "cell_type": "code",
   "execution_count": 17,
   "id": "furnished-feeding",
   "metadata": {
    "execution": {
     "iopub.execute_input": "2023-04-11T10:05:59.840770Z",
     "iopub.status.busy": "2023-04-11T10:05:59.839960Z",
     "iopub.status.idle": "2023-04-11T10:05:59.858036Z",
     "shell.execute_reply": "2023-04-11T10:05:59.857408Z",
     "shell.execute_reply.started": "2023-04-11T09:35:46.788149Z"
    },
    "papermill": {
     "duration": 0.073144,
     "end_time": "2023-04-11T10:05:59.858217",
     "exception": false,
     "start_time": "2023-04-11T10:05:59.785073",
     "status": "completed"
    },
    "tags": []
   },
   "outputs": [
    {
     "data": {
      "text/html": [
       "<div>\n",
       "<style scoped>\n",
       "    .dataframe tbody tr th:only-of-type {\n",
       "        vertical-align: middle;\n",
       "    }\n",
       "\n",
       "    .dataframe tbody tr th {\n",
       "        vertical-align: top;\n",
       "    }\n",
       "\n",
       "    .dataframe thead th {\n",
       "        text-align: right;\n",
       "    }\n",
       "</style>\n",
       "<table border=\"1\" class=\"dataframe\">\n",
       "  <thead>\n",
       "    <tr style=\"text-align: right;\">\n",
       "      <th></th>\n",
       "      <th>Survived</th>\n",
       "      <th>Pclass</th>\n",
       "      <th>Sex</th>\n",
       "      <th>Age</th>\n",
       "      <th>SibSp</th>\n",
       "      <th>Parch</th>\n",
       "      <th>Fare</th>\n",
       "      <th>Embarked</th>\n",
       "    </tr>\n",
       "  </thead>\n",
       "  <tbody>\n",
       "    <tr>\n",
       "      <th>Survived</th>\n",
       "      <td>1.000000</td>\n",
       "      <td>-0.338481</td>\n",
       "      <td>-0.543351</td>\n",
       "      <td>-0.077221</td>\n",
       "      <td>-0.035322</td>\n",
       "      <td>0.081629</td>\n",
       "      <td>0.257307</td>\n",
       "      <td>0.108669</td>\n",
       "    </tr>\n",
       "    <tr>\n",
       "      <th>Pclass</th>\n",
       "      <td>-0.338481</td>\n",
       "      <td>1.000000</td>\n",
       "      <td>0.124617</td>\n",
       "      <td>-0.408106</td>\n",
       "      <td>0.060832</td>\n",
       "      <td>0.018322</td>\n",
       "      <td>-0.558629</td>\n",
       "      <td>0.037527</td>\n",
       "    </tr>\n",
       "    <tr>\n",
       "      <th>Sex</th>\n",
       "      <td>-0.543351</td>\n",
       "      <td>0.124617</td>\n",
       "      <td>1.000000</td>\n",
       "      <td>0.063645</td>\n",
       "      <td>-0.109609</td>\n",
       "      <td>-0.213125</td>\n",
       "      <td>-0.185523</td>\n",
       "      <td>-0.121868</td>\n",
       "    </tr>\n",
       "    <tr>\n",
       "      <th>Age</th>\n",
       "      <td>-0.077221</td>\n",
       "      <td>-0.408106</td>\n",
       "      <td>0.063645</td>\n",
       "      <td>1.000000</td>\n",
       "      <td>-0.243699</td>\n",
       "      <td>-0.150917</td>\n",
       "      <td>0.178740</td>\n",
       "      <td>0.048993</td>\n",
       "    </tr>\n",
       "    <tr>\n",
       "      <th>SibSp</th>\n",
       "      <td>-0.035322</td>\n",
       "      <td>0.060832</td>\n",
       "      <td>-0.109609</td>\n",
       "      <td>-0.243699</td>\n",
       "      <td>1.000000</td>\n",
       "      <td>0.373587</td>\n",
       "      <td>0.160238</td>\n",
       "      <td>-0.073937</td>\n",
       "    </tr>\n",
       "    <tr>\n",
       "      <th>Parch</th>\n",
       "      <td>0.081629</td>\n",
       "      <td>0.018322</td>\n",
       "      <td>-0.213125</td>\n",
       "      <td>-0.150917</td>\n",
       "      <td>0.373587</td>\n",
       "      <td>1.000000</td>\n",
       "      <td>0.221539</td>\n",
       "      <td>-0.095975</td>\n",
       "    </tr>\n",
       "    <tr>\n",
       "      <th>Fare</th>\n",
       "      <td>0.257307</td>\n",
       "      <td>-0.558629</td>\n",
       "      <td>-0.185523</td>\n",
       "      <td>0.178740</td>\n",
       "      <td>0.160238</td>\n",
       "      <td>0.221539</td>\n",
       "      <td>1.000000</td>\n",
       "      <td>0.062017</td>\n",
       "    </tr>\n",
       "    <tr>\n",
       "      <th>Embarked</th>\n",
       "      <td>0.108669</td>\n",
       "      <td>0.037527</td>\n",
       "      <td>-0.121868</td>\n",
       "      <td>0.048993</td>\n",
       "      <td>-0.073937</td>\n",
       "      <td>-0.095975</td>\n",
       "      <td>0.062017</td>\n",
       "      <td>1.000000</td>\n",
       "    </tr>\n",
       "  </tbody>\n",
       "</table>\n",
       "</div>"
      ],
      "text/plain": [
       "          Survived    Pclass       Sex       Age     SibSp     Parch  \\\n",
       "Survived  1.000000 -0.338481 -0.543351 -0.077221 -0.035322  0.081629   \n",
       "Pclass   -0.338481  1.000000  0.124617 -0.408106  0.060832  0.018322   \n",
       "Sex      -0.543351  0.124617  1.000000  0.063645 -0.109609 -0.213125   \n",
       "Age      -0.077221 -0.408106  0.063645  1.000000 -0.243699 -0.150917   \n",
       "SibSp    -0.035322  0.060832 -0.109609 -0.243699  1.000000  0.373587   \n",
       "Parch     0.081629  0.018322 -0.213125 -0.150917  0.373587  1.000000   \n",
       "Fare      0.257307 -0.558629 -0.185523  0.178740  0.160238  0.221539   \n",
       "Embarked  0.108669  0.037527 -0.121868  0.048993 -0.073937 -0.095975   \n",
       "\n",
       "              Fare  Embarked  \n",
       "Survived  0.257307  0.108669  \n",
       "Pclass   -0.558629  0.037527  \n",
       "Sex      -0.185523 -0.121868  \n",
       "Age       0.178740  0.048993  \n",
       "SibSp     0.160238 -0.073937  \n",
       "Parch     0.221539 -0.095975  \n",
       "Fare      1.000000  0.062017  \n",
       "Embarked  0.062017  1.000000  "
      ]
     },
     "execution_count": 17,
     "metadata": {},
     "output_type": "execute_result"
    }
   ],
   "source": [
    "# 计算各列之间的相关系数，相关系数的局对值越大相关性越强\n",
    "data_all.corr()"
   ]
  },
  {
   "cell_type": "code",
   "execution_count": 18,
   "id": "collaborative-standard",
   "metadata": {
    "execution": {
     "iopub.execute_input": "2023-04-11T10:05:59.963270Z",
     "iopub.status.busy": "2023-04-11T10:05:59.961418Z",
     "iopub.status.idle": "2023-04-11T10:06:00.311868Z",
     "shell.execute_reply": "2023-04-11T10:06:00.312454Z",
     "shell.execute_reply.started": "2023-04-11T09:34:53.471633Z"
    },
    "papermill": {
     "duration": 0.406342,
     "end_time": "2023-04-11T10:06:00.312680",
     "exception": false,
     "start_time": "2023-04-11T10:05:59.906338",
     "status": "completed"
    },
    "tags": []
   },
   "outputs": [
    {
     "data": {
      "image/png": "[encoded data removed]",
      "text/plain": [
       "<Figure size 576x432 with 2 Axes>"
      ]
     },
     "metadata": {},
     "output_type": "display_data"
    }
   ],
   "source": [
    "# 根据相关系数画热力图\n",
    "corr_all = data_all.corr()\n",
    "fig, axs = plt.subplots(figsize=(8, 6))\n",
    "sns.heatmap(corr_all).set_title(\"Correlation Map\",fontdict= { 'fontsize': 20, 'fontweight':'bold'});"
   ]
  },
  {
   "cell_type": "code",
   "execution_count": 19,
   "id": "entertaining-passage",
   "metadata": {
    "execution": {
     "iopub.execute_input": "2023-04-11T10:06:00.418745Z",
     "iopub.status.busy": "2023-04-11T10:06:00.417410Z",
     "iopub.status.idle": "2023-04-11T10:06:00.424557Z",
     "shell.execute_reply": "2023-04-11T10:06:00.425059Z",
     "shell.execute_reply.started": "2023-04-11T09:44:44.004997Z"
    },
    "papermill": {
     "duration": 0.061556,
     "end_time": "2023-04-11T10:06:00.425292",
     "exception": false,
     "start_time": "2023-04-11T10:06:00.363736",
     "status": "completed"
    },
    "tags": []
   },
   "outputs": [],
   "source": [
    "# 处理缺失值\n",
    "freq_port = data_all['Embarked'].dropna().mode()[0]\n",
    "data_all['Embarked'] = data_all['Embarked'].fillna(freq_port)"
   ]
  },
  {
   "cell_type": "code",
   "execution_count": 20,
   "id": "hazardous-variance",
   "metadata": {
    "execution": {
     "iopub.execute_input": "2023-04-11T10:06:00.530851Z",
     "iopub.status.busy": "2023-04-11T10:06:00.530061Z",
     "iopub.status.idle": "2023-04-11T10:06:00.545272Z",
     "shell.execute_reply": "2023-04-11T10:06:00.544521Z",
     "shell.execute_reply.started": "2023-04-11T09:44:52.381962Z"
    },
    "papermill": {
     "duration": 0.070202,
     "end_time": "2023-04-11T10:06:00.545434",
     "exception": false,
     "start_time": "2023-04-11T10:06:00.475232",
     "status": "completed"
    },
    "tags": []
   },
   "outputs": [
    {
     "data": {
      "text/plain": [
       "Pclass  SibSp\n",
       "1       0        39.033333\n",
       "        1        39.943178\n",
       "        2        39.125000\n",
       "        3        23.500000\n",
       "2       0        31.104398\n",
       "        1        27.767317\n",
       "        2        19.250000\n",
       "        3        30.000000\n",
       "3       0        27.055311\n",
       "        1        23.576044\n",
       "        2        19.031250\n",
       "        3        12.454545\n",
       "        4         8.772727\n",
       "        5        10.166667\n",
       "        8        14.500000\n",
       "Name: Age, dtype: float64"
      ]
     },
     "execution_count": 20,
     "metadata": {},
     "output_type": "execute_result"
    }
   ],
   "source": [
    "data_all.groupby(['Pclass','SibSp'])['Age'].mean()"
   ]
  },
  {
   "cell_type": "code",
   "execution_count": 21,
   "id": "south-panic",
   "metadata": {
    "execution": {
     "iopub.execute_input": "2023-04-11T10:06:00.651358Z",
     "iopub.status.busy": "2023-04-11T10:06:00.650557Z",
     "iopub.status.idle": "2023-04-11T10:06:00.655643Z",
     "shell.execute_reply": "2023-04-11T10:06:00.656185Z",
     "shell.execute_reply.started": "2023-04-11T09:44:14.998441Z"
    },
    "papermill": {
     "duration": 0.061129,
     "end_time": "2023-04-11T10:06:00.656391",
     "exception": false,
     "start_time": "2023-04-11T10:06:00.595262",
     "status": "completed"
    },
    "tags": []
   },
   "outputs": [],
   "source": [
    "data_all[\"Age\"].fillna(data_all.groupby(['Pclass','SibSp'])['Age'].transform(\"mean\"), inplace=True)"
   ]
  },
  {
   "cell_type": "code",
   "execution_count": 22,
   "id": "ahead-profession",
   "metadata": {
    "execution": {
     "iopub.execute_input": "2023-04-11T10:06:00.760764Z",
     "iopub.status.busy": "2023-04-11T10:06:00.759991Z",
     "iopub.status.idle": "2023-04-11T10:06:00.993712Z",
     "shell.execute_reply": "2023-04-11T10:06:00.993072Z",
     "shell.execute_reply.started": "2023-04-11T09:45:04.371024Z"
    },
    "papermill": {
     "duration": 0.287377,
     "end_time": "2023-04-11T10:06:00.993881",
     "exception": false,
     "start_time": "2023-04-11T10:06:00.706504",
     "status": "completed"
    },
    "tags": []
   },
   "outputs": [
    {
     "data": {
      "image/png": "[encoded data removed]",
      "text/plain": [
       "<Figure size 720x360 with 1 Axes>"
      ]
     },
     "metadata": {},
     "output_type": "display_data"
    }
   ],
   "source": [
    "fig, axs = plt.subplots(figsize=(10, 5))\n",
    "sns.histplot(data=data_all, x='Age').set_title(\"Age distribution\",fontdict= { 'fontsize': 20, 'fontweight':'bold'});\n",
    "sns.despine()"
   ]
  },
  {
   "cell_type": "code",
   "execution_count": 23,
   "id": "entire-biodiversity",
   "metadata": {
    "execution": {
     "iopub.execute_input": "2023-04-11T10:06:01.115983Z",
     "iopub.status.busy": "2023-04-11T10:06:01.102604Z",
     "iopub.status.idle": "2023-04-11T10:06:01.349955Z",
     "shell.execute_reply": "2023-04-11T10:06:01.349338Z",
     "shell.execute_reply.started": "2023-04-11T09:45:42.299675Z"
    },
    "papermill": {
     "duration": 0.305512,
     "end_time": "2023-04-11T10:06:01.350114",
     "exception": false,
     "start_time": "2023-04-11T10:06:01.044602",
     "status": "completed"
    },
    "tags": []
   },
   "outputs": [
    {
     "data": {
      "image/png": "[encoded data removed]",
      "text/plain": [
       "<Figure size 1080x360 with 1 Axes>"
      ]
     },
     "metadata": {},
     "output_type": "display_data"
    }
   ],
   "source": [
    "# 对年龄进行分箱\n",
    "auxage = pd.cut(data_all['Age'], 4)\n",
    "fig, axs = plt.subplots(figsize=(15, 5))\n",
    "sns.countplot(x=auxage, hue='Survived', data=data_all).set_title(\"Age Bins\",fontdict= { 'fontsize': 20, 'fontweight':'bold'});\n",
    "sns.despine()"
   ]
  },
  {
   "cell_type": "code",
   "execution_count": 24,
   "id": "going-handbook",
   "metadata": {
    "execution": {
     "iopub.execute_input": "2023-04-11T10:06:01.463424Z",
     "iopub.status.busy": "2023-04-11T10:06:01.462625Z",
     "iopub.status.idle": "2023-04-11T10:06:01.611903Z",
     "shell.execute_reply": "2023-04-11T10:06:01.611105Z",
     "shell.execute_reply.started": "2023-04-11T09:45:47.966330Z"
    },
    "papermill": {
     "duration": 0.207217,
     "end_time": "2023-04-11T10:06:01.612075",
     "exception": false,
     "start_time": "2023-04-11T10:06:01.404858",
     "status": "completed"
    },
    "tags": []
   },
   "outputs": [],
   "source": [
    "from sklearn.preprocessing import LabelEncoder, OneHotEncoder\n",
    "\n",
    "data_all['Age'] = LabelEncoder().fit_transform(auxage) "
   ]
  },
  {
   "cell_type": "code",
   "execution_count": 25,
   "id": "simple-apartment",
   "metadata": {
    "execution": {
     "iopub.execute_input": "2023-04-11T10:06:01.728216Z",
     "iopub.status.busy": "2023-04-11T10:06:01.727359Z",
     "iopub.status.idle": "2023-04-11T10:06:01.752060Z",
     "shell.execute_reply": "2023-04-11T10:06:01.751342Z",
     "shell.execute_reply.started": "2023-04-11T09:47:15.972331Z"
    },
    "papermill": {
     "duration": 0.086672,
     "end_time": "2023-04-11T10:06:01.752237",
     "exception": false,
     "start_time": "2023-04-11T10:06:01.665565",
     "status": "completed"
    },
    "tags": []
   },
   "outputs": [
    {
     "data": {
      "text/html": [
       "<div>\n",
       "<style scoped>\n",
       "    .dataframe tbody tr th:only-of-type {\n",
       "        vertical-align: middle;\n",
       "    }\n",
       "\n",
       "    .dataframe tbody tr th {\n",
       "        vertical-align: top;\n",
       "    }\n",
       "\n",
       "    .dataframe thead th {\n",
       "        text-align: right;\n",
       "    }\n",
       "</style>\n",
       "<table border=\"1\" class=\"dataframe\">\n",
       "  <thead>\n",
       "    <tr style=\"text-align: right;\">\n",
       "      <th>Survived</th>\n",
       "      <th>0.0</th>\n",
       "      <th>1.0</th>\n",
       "    </tr>\n",
       "    <tr>\n",
       "      <th>Age</th>\n",
       "      <th></th>\n",
       "      <th></th>\n",
       "    </tr>\n",
       "  </thead>\n",
       "  <tbody>\n",
       "    <tr>\n",
       "      <th>0</th>\n",
       "      <td>109</td>\n",
       "      <td>84</td>\n",
       "    </tr>\n",
       "    <tr>\n",
       "      <th>1</th>\n",
       "      <td>345</td>\n",
       "      <td>203</td>\n",
       "    </tr>\n",
       "    <tr>\n",
       "      <th>2</th>\n",
       "      <td>78</td>\n",
       "      <td>50</td>\n",
       "    </tr>\n",
       "    <tr>\n",
       "      <th>3</th>\n",
       "      <td>17</td>\n",
       "      <td>5</td>\n",
       "    </tr>\n",
       "  </tbody>\n",
       "</table>\n",
       "</div>"
      ],
      "text/plain": [
       "Survived  0.0  1.0\n",
       "Age               \n",
       "0         109   84\n",
       "1         345  203\n",
       "2          78   50\n",
       "3          17    5"
      ]
     },
     "execution_count": 25,
     "metadata": {},
     "output_type": "execute_result"
    }
   ],
   "source": [
    "# 查看年龄和标签的交叉表\n",
    "pd.crosstab(data_all['Age'], data_all['Survived'])"
   ]
  },
  {
   "cell_type": "code",
   "execution_count": 26,
   "id": "creative-wedding",
   "metadata": {
    "execution": {
     "iopub.execute_input": "2023-04-11T10:06:01.868582Z",
     "iopub.status.busy": "2023-04-11T10:06:01.867803Z",
     "iopub.status.idle": "2023-04-11T10:06:01.871628Z",
     "shell.execute_reply": "2023-04-11T10:06:01.872317Z",
     "shell.execute_reply.started": "2023-04-11T09:47:27.805777Z"
    },
    "papermill": {
     "duration": 0.065413,
     "end_time": "2023-04-11T10:06:01.872521",
     "exception": false,
     "start_time": "2023-04-11T10:06:01.807108",
     "status": "completed"
    },
    "tags": []
   },
   "outputs": [],
   "source": [
    "data_all[\"Fare\"].fillna(data_all.groupby(['Pclass', 'Sex'])['Fare'].transform(\"median\"), inplace=True)"
   ]
  },
  {
   "cell_type": "code",
   "execution_count": 27,
   "id": "bizarre-hardwood",
   "metadata": {
    "execution": {
     "iopub.execute_input": "2023-04-11T10:06:01.985781Z",
     "iopub.status.busy": "2023-04-11T10:06:01.984986Z",
     "iopub.status.idle": "2023-04-11T10:06:02.220631Z",
     "shell.execute_reply": "2023-04-11T10:06:02.221160Z",
     "shell.execute_reply.started": "2023-04-11T09:47:43.448267Z"
    },
    "papermill": {
     "duration": 0.293753,
     "end_time": "2023-04-11T10:06:02.221388",
     "exception": false,
     "start_time": "2023-04-11T10:06:01.927635",
     "status": "completed"
    },
    "tags": []
   },
   "outputs": [
    {
     "data": {
      "image/png": "[encoded data removed]",
      "text/plain": [
       "<Figure size 1080x360 with 1 Axes>"
      ]
     },
     "metadata": {},
     "output_type": "display_data"
    }
   ],
   "source": [
    "auxfare = pd.cut(data_all['Fare'],5)\n",
    "fig, axs = plt.subplots(figsize=(15, 5))\n",
    "sns.countplot(x=auxfare, hue='Survived', data=data_all).set_title(\"Fare Bins\",fontdict= { 'fontsize': 20, 'fontweight':'bold'});\n",
    "sns.despine()"
   ]
  },
  {
   "cell_type": "code",
   "execution_count": 28,
   "id": "according-elite",
   "metadata": {
    "execution": {
     "iopub.execute_input": "2023-04-11T10:06:02.333173Z",
     "iopub.status.busy": "2023-04-11T10:06:02.332445Z",
     "iopub.status.idle": "2023-04-11T10:06:02.340420Z",
     "shell.execute_reply": "2023-04-11T10:06:02.341002Z",
     "shell.execute_reply.started": "2023-04-11T09:47:53.062784Z"
    },
    "papermill": {
     "duration": 0.065801,
     "end_time": "2023-04-11T10:06:02.341251",
     "exception": false,
     "start_time": "2023-04-11T10:06:02.275450",
     "status": "completed"
    },
    "tags": []
   },
   "outputs": [],
   "source": [
    "data_all['Fare'] = LabelEncoder().fit_transform(auxfare) "
   ]
  },
  {
   "cell_type": "code",
   "execution_count": 29,
   "id": "requested-adams",
   "metadata": {
    "execution": {
     "iopub.execute_input": "2023-04-11T10:06:02.457851Z",
     "iopub.status.busy": "2023-04-11T10:06:02.457019Z",
     "iopub.status.idle": "2023-04-11T10:06:02.476883Z",
     "shell.execute_reply": "2023-04-11T10:06:02.477481Z",
     "shell.execute_reply.started": "2023-04-11T09:47:54.985782Z"
    },
    "papermill": {
     "duration": 0.082224,
     "end_time": "2023-04-11T10:06:02.477681",
     "exception": false,
     "start_time": "2023-04-11T10:06:02.395457",
     "status": "completed"
    },
    "tags": []
   },
   "outputs": [
    {
     "data": {
      "text/html": [
       "<div>\n",
       "<style scoped>\n",
       "    .dataframe tbody tr th:only-of-type {\n",
       "        vertical-align: middle;\n",
       "    }\n",
       "\n",
       "    .dataframe tbody tr th {\n",
       "        vertical-align: top;\n",
       "    }\n",
       "\n",
       "    .dataframe thead th {\n",
       "        text-align: right;\n",
       "    }\n",
       "</style>\n",
       "<table border=\"1\" class=\"dataframe\">\n",
       "  <thead>\n",
       "    <tr style=\"text-align: right;\">\n",
       "      <th>Survived</th>\n",
       "      <th>0.0</th>\n",
       "      <th>1.0</th>\n",
       "    </tr>\n",
       "    <tr>\n",
       "      <th>Fare</th>\n",
       "      <th></th>\n",
       "      <th></th>\n",
       "    </tr>\n",
       "  </thead>\n",
       "  <tbody>\n",
       "    <tr>\n",
       "      <th>0</th>\n",
       "      <td>535</td>\n",
       "      <td>303</td>\n",
       "    </tr>\n",
       "    <tr>\n",
       "      <th>1</th>\n",
       "      <td>8</td>\n",
       "      <td>25</td>\n",
       "    </tr>\n",
       "    <tr>\n",
       "      <th>2</th>\n",
       "      <td>6</td>\n",
       "      <td>11</td>\n",
       "    </tr>\n",
       "    <tr>\n",
       "      <th>3</th>\n",
       "      <td>0</td>\n",
       "      <td>3</td>\n",
       "    </tr>\n",
       "  </tbody>\n",
       "</table>\n",
       "</div>"
      ],
      "text/plain": [
       "Survived  0.0  1.0\n",
       "Fare              \n",
       "0         535  303\n",
       "1           8   25\n",
       "2           6   11\n",
       "3           0    3"
      ]
     },
     "execution_count": 29,
     "metadata": {},
     "output_type": "execute_result"
    }
   ],
   "source": [
    "pd.crosstab(data_all['Fare'], data_all['Survived'])"
   ]
  },
  {
   "cell_type": "code",
   "execution_count": 30,
   "id": "going-starter",
   "metadata": {
    "execution": {
     "iopub.execute_input": "2023-04-11T10:06:02.591221Z",
     "iopub.status.busy": "2023-04-11T10:06:02.590502Z",
     "iopub.status.idle": "2023-04-11T10:06:02.596816Z",
     "shell.execute_reply": "2023-04-11T10:06:02.597331Z",
     "shell.execute_reply.started": "2023-04-11T09:47:58.611528Z"
    },
    "papermill": {
     "duration": 0.064286,
     "end_time": "2023-04-11T10:06:02.597527",
     "exception": false,
     "start_time": "2023-04-11T10:06:02.533241",
     "status": "completed"
    },
    "tags": []
   },
   "outputs": [],
   "source": [
    "data_all.drop(['Cabin'], axis = 1, inplace = True)"
   ]
  },
  {
   "cell_type": "code",
   "execution_count": 31,
   "id": "fuzzy-ability",
   "metadata": {
    "execution": {
     "iopub.execute_input": "2023-04-11T10:06:02.708862Z",
     "iopub.status.busy": "2023-04-11T10:06:02.708109Z",
     "iopub.status.idle": "2023-04-11T10:06:02.717885Z",
     "shell.execute_reply": "2023-04-11T10:06:02.718435Z",
     "shell.execute_reply.started": "2023-04-11T09:48:04.117209Z"
    },
    "papermill": {
     "duration": 0.067235,
     "end_time": "2023-04-11T10:06:02.718654",
     "exception": false,
     "start_time": "2023-04-11T10:06:02.651419",
     "status": "completed"
    },
    "tags": []
   },
   "outputs": [],
   "source": [
    "data_all['Title'] = data_all.Name.str.extract('([A-Za-z]+)\\.', expand = False)"
   ]
  },
  {
   "cell_type": "code",
   "execution_count": 32,
   "id": "damaged-berkeley",
   "metadata": {
    "execution": {
     "iopub.execute_input": "2023-04-11T10:06:02.830408Z",
     "iopub.status.busy": "2023-04-11T10:06:02.829635Z",
     "iopub.status.idle": "2023-04-11T10:06:02.838077Z",
     "shell.execute_reply": "2023-04-11T10:06:02.838612Z",
     "shell.execute_reply.started": "2023-04-11T09:48:06.454409Z"
    },
    "papermill": {
     "duration": 0.065886,
     "end_time": "2023-04-11T10:06:02.838812",
     "exception": false,
     "start_time": "2023-04-11T10:06:02.772926",
     "status": "completed"
    },
    "tags": []
   },
   "outputs": [
    {
     "data": {
      "text/plain": [
       "Mr          757\n",
       "Miss        260\n",
       "Mrs         197\n",
       "Master       61\n",
       "Rev           8\n",
       "Dr            8\n",
       "Col           4\n",
       "Major         2\n",
       "Mlle          2\n",
       "Ms            2\n",
       "Sir           1\n",
       "Capt          1\n",
       "Mme           1\n",
       "Jonkheer      1\n",
       "Don           1\n",
       "Lady          1\n",
       "Dona          1\n",
       "Countess      1\n",
       "Name: Title, dtype: int64"
      ]
     },
     "execution_count": 32,
     "metadata": {},
     "output_type": "execute_result"
    }
   ],
   "source": [
    "data_all.Title.value_counts()"
   ]
  },
  {
   "cell_type": "code",
   "execution_count": 33,
   "id": "secret-monaco",
   "metadata": {
    "execution": {
     "iopub.execute_input": "2023-04-11T10:06:02.950517Z",
     "iopub.status.busy": "2023-04-11T10:06:02.949696Z",
     "iopub.status.idle": "2023-04-11T10:06:02.962703Z",
     "shell.execute_reply": "2023-04-11T10:06:02.963234Z",
     "shell.execute_reply.started": "2023-04-11T09:49:16.119596Z"
    },
    "papermill": {
     "duration": 0.070395,
     "end_time": "2023-04-11T10:06:02.963449",
     "exception": false,
     "start_time": "2023-04-11T10:06:02.893054",
     "status": "completed"
    },
    "tags": []
   },
   "outputs": [
    {
     "data": {
      "text/plain": [
       "array(['Mr', 'Mrs', 'Miss', 'Master', 'Rare'], dtype=object)"
      ]
     },
     "execution_count": 33,
     "metadata": {},
     "output_type": "execute_result"
    }
   ],
   "source": [
    "least_occuring = ['Rev','Dr','Major', 'Col', 'Capt','Jonkheer','Countess']\n",
    "\n",
    "data_all.Title = data_all.Title.replace(['Ms', 'Mlle','Mme','Lady'], 'Miss')\n",
    "data_all.Title = data_all.Title.replace(['Countess','Dona'], 'Mrs')\n",
    "data_all.Title = data_all.Title.replace(['Don','Sir'], 'Mr')\n",
    "\n",
    "data_all.Title = data_all.Title.replace(least_occuring,'Rare')\n",
    "\n",
    "data_all.Title.unique()"
   ]
  },
  {
   "cell_type": "code",
   "execution_count": 34,
   "id": "moved-italy",
   "metadata": {
    "execution": {
     "iopub.execute_input": "2023-04-11T10:06:03.079043Z",
     "iopub.status.busy": "2023-04-11T10:06:03.078279Z",
     "iopub.status.idle": "2023-04-11T10:06:03.101341Z",
     "shell.execute_reply": "2023-04-11T10:06:03.101842Z",
     "shell.execute_reply.started": "2023-04-11T09:49:57.141595Z"
    },
    "papermill": {
     "duration": 0.082036,
     "end_time": "2023-04-11T10:06:03.102044",
     "exception": false,
     "start_time": "2023-04-11T10:06:03.020008",
     "status": "completed"
    },
    "tags": []
   },
   "outputs": [
    {
     "data": {
      "text/html": [
       "<div>\n",
       "<style scoped>\n",
       "    .dataframe tbody tr th:only-of-type {\n",
       "        vertical-align: middle;\n",
       "    }\n",
       "\n",
       "    .dataframe tbody tr th {\n",
       "        vertical-align: top;\n",
       "    }\n",
       "\n",
       "    .dataframe thead th {\n",
       "        text-align: right;\n",
       "    }\n",
       "</style>\n",
       "<table border=\"1\" class=\"dataframe\">\n",
       "  <thead>\n",
       "    <tr style=\"text-align: right;\">\n",
       "      <th>Survived</th>\n",
       "      <th>0.0</th>\n",
       "      <th>1.0</th>\n",
       "    </tr>\n",
       "    <tr>\n",
       "      <th>Title</th>\n",
       "      <th></th>\n",
       "      <th></th>\n",
       "    </tr>\n",
       "  </thead>\n",
       "  <tbody>\n",
       "    <tr>\n",
       "      <th>Master</th>\n",
       "      <td>17</td>\n",
       "      <td>23</td>\n",
       "    </tr>\n",
       "    <tr>\n",
       "      <th>Miss</th>\n",
       "      <td>55</td>\n",
       "      <td>132</td>\n",
       "    </tr>\n",
       "    <tr>\n",
       "      <th>Mr</th>\n",
       "      <td>437</td>\n",
       "      <td>82</td>\n",
       "    </tr>\n",
       "    <tr>\n",
       "      <th>Mrs</th>\n",
       "      <td>26</td>\n",
       "      <td>100</td>\n",
       "    </tr>\n",
       "    <tr>\n",
       "      <th>Rare</th>\n",
       "      <td>14</td>\n",
       "      <td>5</td>\n",
       "    </tr>\n",
       "  </tbody>\n",
       "</table>\n",
       "</div>"
      ],
      "text/plain": [
       "Survived  0.0  1.0\n",
       "Title             \n",
       "Master     17   23\n",
       "Miss       55  132\n",
       "Mr        437   82\n",
       "Mrs        26  100\n",
       "Rare       14    5"
      ]
     },
     "execution_count": 34,
     "metadata": {},
     "output_type": "execute_result"
    }
   ],
   "source": [
    "pd.crosstab(data_all['Title'], data_all['Survived'])"
   ]
  },
  {
   "cell_type": "code",
   "execution_count": 35,
   "id": "italic-royal",
   "metadata": {
    "execution": {
     "iopub.execute_input": "2023-04-11T10:06:03.215311Z",
     "iopub.status.busy": "2023-04-11T10:06:03.214387Z",
     "iopub.status.idle": "2023-04-11T10:06:03.219648Z",
     "shell.execute_reply": "2023-04-11T10:06:03.220230Z",
     "shell.execute_reply.started": "2023-04-11T09:50:00.702461Z"
    },
    "papermill": {
     "duration": 0.063814,
     "end_time": "2023-04-11T10:06:03.220439",
     "exception": false,
     "start_time": "2023-04-11T10:06:03.156625",
     "status": "completed"
    },
    "tags": []
   },
   "outputs": [],
   "source": [
    "# 离散文本特征转编码\n",
    "data_all['Title'] = LabelEncoder().fit_transform(data_all['Title']) "
   ]
  },
  {
   "cell_type": "code",
   "execution_count": 36,
   "id": "vital-penalty",
   "metadata": {
    "execution": {
     "iopub.execute_input": "2023-04-11T10:06:03.334085Z",
     "iopub.status.busy": "2023-04-11T10:06:03.333322Z",
     "iopub.status.idle": "2023-04-11T10:06:03.341433Z",
     "shell.execute_reply": "2023-04-11T10:06:03.342022Z",
     "shell.execute_reply.started": "2023-04-11T09:51:19.357840Z"
    },
    "papermill": {
     "duration": 0.066785,
     "end_time": "2023-04-11T10:06:03.342238",
     "exception": false,
     "start_time": "2023-04-11T10:06:03.275453",
     "status": "completed"
    },
    "tags": []
   },
   "outputs": [],
   "source": [
    "data_all['FamilySize'] = data_all['SibSp'] + data_all['Parch']+1\n",
    "data_all.drop(['SibSp','Parch'], axis = 1, inplace = True)"
   ]
  },
  {
   "cell_type": "code",
   "execution_count": 37,
   "id": "comparative-nitrogen",
   "metadata": {
    "execution": {
     "iopub.execute_input": "2023-04-11T10:06:03.487862Z",
     "iopub.status.busy": "2023-04-11T10:06:03.481001Z",
     "iopub.status.idle": "2023-04-11T10:06:03.725255Z",
     "shell.execute_reply": "2023-04-11T10:06:03.725840Z",
     "shell.execute_reply.started": "2023-04-11T09:51:22.055175Z"
    },
    "papermill": {
     "duration": 0.326587,
     "end_time": "2023-04-11T10:06:03.726032",
     "exception": false,
     "start_time": "2023-04-11T10:06:03.399445",
     "status": "completed"
    },
    "tags": []
   },
   "outputs": [
    {
     "data": {
      "image/png": "[encoded data removed]",
      "text/plain": [
       "<Figure size 1080x360 with 1 Axes>"
      ]
     },
     "metadata": {},
     "output_type": "display_data"
    }
   ],
   "source": [
    "fig, axs = plt.subplots(figsize=(15, 5))\n",
    "sns.countplot(x='FamilySize', hue='Survived', data=data_all).set_title(\"Raw Column\",fontdict= { 'fontsize': 20, 'fontweight':'bold'});\n",
    "sns.despine()"
   ]
  },
  {
   "cell_type": "code",
   "execution_count": 38,
   "id": "integrated-orleans",
   "metadata": {
    "execution": {
     "iopub.execute_input": "2023-04-11T10:06:03.842620Z",
     "iopub.status.busy": "2023-04-11T10:06:03.841554Z",
     "iopub.status.idle": "2023-04-11T10:06:03.849031Z",
     "shell.execute_reply": "2023-04-11T10:06:03.849636Z",
     "shell.execute_reply.started": "2023-04-11T09:51:26.911056Z"
    },
    "papermill": {
     "duration": 0.067648,
     "end_time": "2023-04-11T10:06:03.849843",
     "exception": false,
     "start_time": "2023-04-11T10:06:03.782195",
     "status": "completed"
    },
    "tags": []
   },
   "outputs": [],
   "source": [
    "def family(x):\n",
    "    if x < 2:\n",
    "        return 0\n",
    "    elif x <= 4:\n",
    "        return 1\n",
    "    elif x <= 6:\n",
    "        return 2\n",
    "    else:\n",
    "        return 3\n",
    "    \n",
    "data_all['FamilySize'] = data_all['FamilySize'].apply(family)"
   ]
  },
  {
   "cell_type": "code",
   "execution_count": 39,
   "id": "frequent-milwaukee",
   "metadata": {
    "execution": {
     "iopub.execute_input": "2023-04-11T10:06:03.965911Z",
     "iopub.status.busy": "2023-04-11T10:06:03.964863Z",
     "iopub.status.idle": "2023-04-11T10:06:04.167189Z",
     "shell.execute_reply": "2023-04-11T10:06:04.166436Z",
     "shell.execute_reply.started": "2023-04-11T09:51:30.068341Z"
    },
    "papermill": {
     "duration": 0.261554,
     "end_time": "2023-04-11T10:06:04.167350",
     "exception": false,
     "start_time": "2023-04-11T10:06:03.905796",
     "status": "completed"
    },
    "tags": []
   },
   "outputs": [
    {
     "data": {
      "image/png": "[encoded data removed]",
      "text/plain": [
       "<Figure size 1080x360 with 1 Axes>"
      ]
     },
     "metadata": {},
     "output_type": "display_data"
    }
   ],
   "source": [
    "fig, axs = plt.subplots(figsize=(15, 5))\n",
    "sns.countplot(x='FamilySize', hue='Survived', data=data_all).set_title(\"Variable Bined\",fontdict= { 'fontsize': 20, 'fontweight':'bold'});\n",
    "sns.despine()"
   ]
  },
  {
   "cell_type": "code",
   "execution_count": 40,
   "id": "nonprofit-winner",
   "metadata": {
    "execution": {
     "iopub.execute_input": "2023-04-11T10:06:04.292377Z",
     "iopub.status.busy": "2023-04-11T10:06:04.291430Z",
     "iopub.status.idle": "2023-04-11T10:06:04.294315Z",
     "shell.execute_reply": "2023-04-11T10:06:04.294899Z",
     "shell.execute_reply.started": "2023-04-11T09:51:33.905693Z"
    },
    "papermill": {
     "duration": 0.068863,
     "end_time": "2023-04-11T10:06:04.295104",
     "exception": false,
     "start_time": "2023-04-11T10:06:04.226241",
     "status": "completed"
    },
    "tags": []
   },
   "outputs": [],
   "source": [
    "data_all.drop(['Name', 'Ticket'], axis = 1, inplace = True)"
   ]
  },
  {
   "cell_type": "code",
   "execution_count": 41,
   "id": "quiet-frame",
   "metadata": {
    "_kg_hide-input": true,
    "execution": {
     "iopub.execute_input": "2023-04-11T10:06:04.412441Z",
     "iopub.status.busy": "2023-04-11T10:06:04.411647Z",
     "iopub.status.idle": "2023-04-11T10:06:04.417425Z",
     "shell.execute_reply": "2023-04-11T10:06:04.418065Z",
     "shell.execute_reply.started": "2023-04-11T09:51:35.195059Z"
    },
    "papermill": {
     "duration": 0.066485,
     "end_time": "2023-04-11T10:06:04.418283",
     "exception": false,
     "start_time": "2023-04-11T10:06:04.351798",
     "status": "completed"
    },
    "tags": []
   },
   "outputs": [],
   "source": [
    "train, test = data_all.loc[train_data.index], data_all.loc[test_data.index]"
   ]
  },
  {
   "cell_type": "code",
   "execution_count": 42,
   "id": "stone-idaho",
   "metadata": {
    "execution": {
     "iopub.execute_input": "2023-04-11T10:06:04.537480Z",
     "iopub.status.busy": "2023-04-11T10:06:04.536717Z",
     "iopub.status.idle": "2023-04-11T10:06:04.545717Z",
     "shell.execute_reply": "2023-04-11T10:06:04.546355Z",
     "shell.execute_reply.started": "2023-04-11T09:51:44.699727Z"
    },
    "papermill": {
     "duration": 0.07018,
     "end_time": "2023-04-11T10:06:04.546555",
     "exception": false,
     "start_time": "2023-04-11T10:06:04.476375",
     "status": "completed"
    },
    "tags": []
   },
   "outputs": [],
   "source": [
    "mask  = np.random.rand(len(train)) < 0.9\n",
    "train_X = train.drop(['Survived'], axis=1)[mask]\n",
    "train_y = train['Survived'][mask]\n",
    "valid_X = train.drop(['Survived'], axis=1)[~mask]\n",
    "valid_y = train['Survived'][~mask]"
   ]
  },
  {
   "cell_type": "code",
   "execution_count": 43,
   "id": "challenging-familiar",
   "metadata": {
    "execution": {
     "iopub.execute_input": "2023-04-11T10:06:04.666255Z",
     "iopub.status.busy": "2023-04-11T10:06:04.665483Z",
     "iopub.status.idle": "2023-04-11T10:06:05.980643Z",
     "shell.execute_reply": "2023-04-11T10:06:05.979865Z",
     "shell.execute_reply.started": "2023-04-11T09:52:14.662354Z"
    },
    "papermill": {
     "duration": 1.37631,
     "end_time": "2023-04-11T10:06:05.980807",
     "exception": false,
     "start_time": "2023-04-11T10:06:04.604497",
     "status": "completed"
    },
    "tags": []
   },
   "outputs": [],
   "source": [
    "import torch\n",
    "\n",
    "train_X = torch.Tensor(train_X.to_numpy())\n",
    "train_y = torch.Tensor(train_y.to_numpy()).type(torch.LongTensor)\n",
    "valid_X = torch.Tensor(valid_X.to_numpy())\n",
    "valid_y = torch.Tensor(valid_y.to_numpy()).type(torch.LongTensor)"
   ]
  },
  {
   "cell_type": "code",
   "execution_count": 44,
   "id": "fifth-flash",
   "metadata": {
    "execution": {
     "iopub.execute_input": "2023-04-11T10:06:06.109393Z",
     "iopub.status.busy": "2023-04-11T10:06:06.108547Z",
     "iopub.status.idle": "2023-04-11T10:06:06.116902Z",
     "shell.execute_reply": "2023-04-11T10:06:06.117490Z",
     "shell.execute_reply.started": "2023-04-11T09:52:20.150862Z"
    },
    "papermill": {
     "duration": 0.077236,
     "end_time": "2023-04-11T10:06:06.117686",
     "exception": false,
     "start_time": "2023-04-11T10:06:06.040450",
     "status": "completed"
    },
    "tags": []
   },
   "outputs": [],
   "source": [
    "from torch import nn\n",
    "\n",
    "drpout = 0.1\n",
    "\n",
    "inputs = len(train_X[0])\n",
    "\n",
    "def set_weight_bias(layer):\n",
    "    layer.bias.data.fill_(0)\n",
    "    layer.weight.data.normal_(std=0.01)\n",
    "\n",
    "def model_construct(inputs, n=[16], outputs=2,\n",
    "                    activ=nn.ReLU):\n",
    "    n.append(outputs)\n",
    "    \n",
    "    layers = []\n",
    "    layers.append(nn.Linear(inputs, n[0]))\n",
    "    set_weight_bias(layers[-1])\n",
    "    layers.append( nn.Dropout(p=drpout) )\n",
    "    layers.append(activ())\n",
    "    \n",
    "    for i in range(len(n)-1):\n",
    "        layers.append(nn.Linear(n[i], n[i+1]))\n",
    "        set_weight_bias(layers[-1])\n",
    "        layers.append( nn.Dropout(p=drpout) )\n",
    "        layers.append(activ())\n",
    "        \n",
    "    layers.pop()\n",
    "    layers.pop()\n",
    "    \n",
    "    return nn.Sequential(*layers)\n",
    "\n"
   ]
  },
  {
   "cell_type": "code",
   "execution_count": 45,
   "id": "transparent-chicken",
   "metadata": {
    "execution": {
     "iopub.execute_input": "2023-04-11T10:06:06.235706Z",
     "iopub.status.busy": "2023-04-11T10:06:06.234885Z",
     "iopub.status.idle": "2023-04-11T10:06:06.249092Z",
     "shell.execute_reply": "2023-04-11T10:06:06.248516Z",
     "shell.execute_reply.started": "2023-04-11T09:52:26.662980Z"
    },
    "papermill": {
     "duration": 0.074862,
     "end_time": "2023-04-11T10:06:06.249290",
     "exception": false,
     "start_time": "2023-04-11T10:06:06.174428",
     "status": "completed"
    },
    "tags": []
   },
   "outputs": [],
   "source": [
    "from torch import optim\n",
    "from sklearn.utils import shuffle\n",
    "from torch.autograd import Variable\n",
    "\n",
    "def train_model(model, train_data, test_data, epochs=5, verbose=False):\n",
    "    \n",
    "    criterion = nn.CrossEntropyLoss()\n",
    "    optimizer = optim.Adam(model.parameters(), lr=0.01)\n",
    "    \n",
    "    train_losses, test_losses = [0]*epochs, [0]*epochs\n",
    "    accuracy = [0]*epochs\n",
    "    for e in range(epochs):\n",
    "        optimizer.zero_grad()\n",
    "        ps = model(train_data[0])\n",
    "        loss = criterion(ps, train_data[1])\n",
    "        loss.backward()\n",
    "        optimizer.step()\n",
    "        train_losses[e] = loss.item()\n",
    "\n",
    "        with torch.no_grad():\n",
    "            model.eval()\n",
    "            \n",
    "            ps = model(test_data[0])\n",
    "            loss = criterion(ps, test_data[1])\n",
    "            test_losses[e] = loss.item()\n",
    "            \n",
    "            top_p, top_class = ps.topk(1, dim=1)\n",
    "            equals = (top_class == test_data[1].view(*top_class.shape))\n",
    "            accuracy[e] = torch.mean(equals.type(torch.FloatTensor))\n",
    "            \n",
    "        model.train()\n",
    "        \n",
    "    print(f'   Accuracy: {100*accuracy[-1].item():0.2f}%')\n",
    "    print(f'   Train loss: {train_losses[-1]}')\n",
    "    print(f'   Test loss: {test_losses[-1]}')\n",
    "        \n",
    "    plt.subplot(211)\n",
    "    plt.ylabel('Accuracy')\n",
    "    plt.plot(accuracy)\n",
    "    plt.subplot(212)\n",
    "    plt.ylabel('Loss')\n",
    "    plt.plot(train_losses, label='train')\n",
    "    plt.plot(test_losses, label='test')\n",
    "    plt.legend();\n",
    "    return"
   ]
  },
  {
   "cell_type": "code",
   "execution_count": 46,
   "id": "absolute-pickup",
   "metadata": {
    "execution": {
     "iopub.execute_input": "2023-04-11T10:06:06.371854Z",
     "iopub.status.busy": "2023-04-11T10:06:06.370684Z",
     "iopub.status.idle": "2023-04-11T10:06:07.038950Z",
     "shell.execute_reply": "2023-04-11T10:06:07.039467Z",
     "shell.execute_reply.started": "2023-04-11T09:52:39.835925Z"
    },
    "papermill": {
     "duration": 0.732776,
     "end_time": "2023-04-11T10:06:07.039673",
     "exception": false,
     "start_time": "2023-04-11T10:06:06.306897",
     "status": "completed"
    },
    "tags": []
   },
   "outputs": [
    {
     "name": "stdout",
     "output_type": "stream",
     "text": [
      "Test 1:\n",
      "Sequential(\n",
      "  (0): Linear(in_features=7, out_features=256, bias=True)\n",
      "  (1): Dropout(p=0.1, inplace=False)\n",
      "  (2): ReLU()\n",
      "  (3): Linear(in_features=256, out_features=2, bias=True)\n",
      ")\n",
      "   Accuracy: 79.78%\n",
      "   Train loss: 0.37498942017555237\n",
      "   Test loss: 0.5219802260398865\n"
     ]
    },
    {
     "data": {
      "image/png": "[encoded data removed]",
      "text/plain": [
       "<Figure size 432x288 with 2 Axes>"
      ]
     },
     "metadata": {},
     "output_type": "display_data"
    }
   ],
   "source": [
    "print(\"Test 1:\")\n",
    "model = model_construct(inputs, n=[256])\n",
    "print(model)\n",
    "train_model(model, epochs=100,\n",
    "            train_data=(train_X,train_y), test_data=(valid_X,valid_y))"
   ]
  },
  {
   "cell_type": "code",
   "execution_count": 47,
   "id": "unexpected-layer",
   "metadata": {
    "execution": {
     "iopub.execute_input": "2023-04-11T10:06:07.160458Z",
     "iopub.status.busy": "2023-04-11T10:06:07.159426Z",
     "iopub.status.idle": "2023-04-11T10:06:08.396505Z",
     "shell.execute_reply": "2023-04-11T10:06:08.397259Z",
     "shell.execute_reply.started": "2023-04-11T09:52:44.138889Z"
    },
    "papermill": {
     "duration": 1.299788,
     "end_time": "2023-04-11T10:06:08.397526",
     "exception": false,
     "start_time": "2023-04-11T10:06:07.097738",
     "status": "completed"
    },
    "tags": []
   },
   "outputs": [
    {
     "name": "stdout",
     "output_type": "stream",
     "text": [
      "Test 2:\n",
      "Sequential(\n",
      "  (0): Linear(in_features=7, out_features=256, bias=True)\n",
      "  (1): Dropout(p=0.1, inplace=False)\n",
      "  (2): ReLU()\n",
      "  (3): Linear(in_features=256, out_features=48, bias=True)\n",
      "  (4): Dropout(p=0.1, inplace=False)\n",
      "  (5): ReLU()\n",
      "  (6): Linear(in_features=48, out_features=2, bias=True)\n",
      ")\n",
      "   Accuracy: 78.65%\n",
      "   Train loss: 0.34712332487106323\n",
      "   Test loss: 0.5707203149795532\n"
     ]
    },
    {
     "data": {
      "image/png": "[encoded data removed]",
      "text/plain": [
       "<Figure size 432x288 with 2 Axes>"
      ]
     },
     "metadata": {},
     "output_type": "display_data"
    }
   ],
   "source": [
    "print(\"Test 2:\")\n",
    "model = model_construct(inputs, n=[256, 48])\n",
    "print(model)\n",
    "train_model(model, epochs=200,\n",
    "            train_data=(train_X,train_y), test_data=(valid_X,valid_y))"
   ]
  },
  {
   "cell_type": "code",
   "execution_count": 48,
   "id": "structured-jewelry",
   "metadata": {
    "execution": {
     "iopub.execute_input": "2023-04-11T10:06:08.525463Z",
     "iopub.status.busy": "2023-04-11T10:06:08.524396Z",
     "iopub.status.idle": "2023-04-11T10:06:09.027885Z",
     "shell.execute_reply": "2023-04-11T10:06:09.027278Z",
     "shell.execute_reply.started": "2023-04-11T09:52:46.993613Z"
    },
    "papermill": {
     "duration": 0.567318,
     "end_time": "2023-04-11T10:06:09.028064",
     "exception": false,
     "start_time": "2023-04-11T10:06:08.460746",
     "status": "completed"
    },
    "tags": []
   },
   "outputs": [
    {
     "name": "stdout",
     "output_type": "stream",
     "text": [
      "Test 3:\n",
      "Sequential(\n",
      "  (0): Linear(in_features=7, out_features=96, bias=True)\n",
      "  (1): Dropout(p=0.1, inplace=False)\n",
      "  (2): ReLU()\n",
      "  (3): Linear(in_features=96, out_features=2, bias=True)\n",
      ")\n",
      "   Accuracy: 79.78%\n",
      "   Train loss: 0.3932037055492401\n",
      "   Test loss: 0.4856245815753937\n"
     ]
    },
    {
     "data": {
      "image/png": "[encoded data removed]",
      "text/plain": [
       "<Figure size 432x288 with 2 Axes>"
      ]
     },
     "metadata": {},
     "output_type": "display_data"
    }
   ],
   "source": [
    "print(\"Test 3:\")\n",
    "model = model_construct(inputs, n=[96])\n",
    "print(model)\n",
    "train_model(model, epochs=100,\n",
    "            train_data=(train_X,train_y), test_data=(valid_X,valid_y))"
   ]
  },
  {
   "cell_type": "code",
   "execution_count": 49,
   "id": "acquired-mauritius",
   "metadata": {
    "execution": {
     "iopub.execute_input": "2023-04-11T10:06:09.161282Z",
     "iopub.status.busy": "2023-04-11T10:06:09.160478Z",
     "iopub.status.idle": "2023-04-11T10:06:09.163833Z",
     "shell.execute_reply": "2023-04-11T10:06:09.163112Z",
     "shell.execute_reply.started": "2023-04-11T09:52:49.915938Z"
    },
    "papermill": {
     "duration": 0.07268,
     "end_time": "2023-04-11T10:06:09.163986",
     "exception": false,
     "start_time": "2023-04-11T10:06:09.091306",
     "status": "completed"
    },
    "tags": []
   },
   "outputs": [],
   "source": [
    "def gen_model():\n",
    "    model = model_construct(inputs, n=[96])\n",
    "    train_model(model, epochs=100,\n",
    "                train_data=(train_X,train_y), test_data=(valid_X,valid_y))\n",
    "    \n",
    "    return model"
   ]
  },
  {
   "cell_type": "code",
   "execution_count": 50,
   "id": "center-reproduction",
   "metadata": {
    "execution": {
     "iopub.execute_input": "2023-04-11T10:06:09.296653Z",
     "iopub.status.busy": "2023-04-11T10:06:09.295259Z",
     "iopub.status.idle": "2023-04-11T10:06:09.298337Z",
     "shell.execute_reply": "2023-04-11T10:06:09.298901Z",
     "shell.execute_reply.started": "2023-04-11T09:52:53.314068Z"
    },
    "papermill": {
     "duration": 0.0729,
     "end_time": "2023-04-11T10:06:09.299103",
     "exception": false,
     "start_time": "2023-04-11T10:06:09.226203",
     "status": "completed"
    },
    "tags": []
   },
   "outputs": [],
   "source": [
    "def combined_pred(models, data):\n",
    "    prob = np.array([[0.0]*2]*len(data))\n",
    "    with torch.no_grad():\n",
    "        for model in models:\n",
    "            model.eval()\n",
    "            prob += torch.exp(model(data)).numpy()\n",
    "            model.train()\n",
    "    return prob/len(models)"
   ]
  },
  {
   "cell_type": "code",
   "execution_count": 51,
   "id": "inappropriate-courtesy",
   "metadata": {
    "execution": {
     "iopub.execute_input": "2023-04-11T10:06:09.427359Z",
     "iopub.status.busy": "2023-04-11T10:06:09.426282Z",
     "iopub.status.idle": "2023-04-11T10:06:10.625861Z",
     "shell.execute_reply": "2023-04-11T10:06:10.625106Z",
     "shell.execute_reply.started": "2023-04-11T09:52:55.530116Z"
    },
    "papermill": {
     "duration": 1.264835,
     "end_time": "2023-04-11T10:06:10.626011",
     "exception": false,
     "start_time": "2023-04-11T10:06:09.361176",
     "status": "completed"
    },
    "tags": []
   },
   "outputs": [
    {
     "name": "stdout",
     "output_type": "stream",
     "text": [
      "   Accuracy: 79.78%\n",
      "   Train loss: 0.38535723090171814\n",
      "   Test loss: 0.4999876618385315\n",
      "   Accuracy: 79.78%\n",
      "   Train loss: 0.3838442265987396\n",
      "   Test loss: 0.4857625663280487\n",
      "   Accuracy: 79.78%\n",
      "   Train loss: 0.39432722330093384\n",
      "   Test loss: 0.5002118349075317\n",
      "   Accuracy: 78.65%\n",
      "   Train loss: 0.4053485095500946\n",
      "   Test loss: 0.5050657987594604\n",
      "79.7752808988764\n"
     ]
    },
    {
     "data": {
      "image/png": "[encoded data removed]",
      "text/plain": [
       "<Figure size 432x288 with 2 Axes>"
      ]
     },
     "metadata": {},
     "output_type": "display_data"
    }
   ],
   "source": [
    "models = []\n",
    "for i in range(4):\n",
    "    models.append(gen_model())\n",
    "preds = combined_pred(models, valid_X)\n",
    "top_class = np.argmax(preds, axis=1)\n",
    "equals = (top_class == valid_y.numpy())\n",
    "print(100*np.mean(equals))"
   ]
  },
  {
   "cell_type": "code",
   "execution_count": 52,
   "id": "welcome-consortium",
   "metadata": {
    "execution": {
     "iopub.execute_input": "2023-04-11T10:06:10.766068Z",
     "iopub.status.busy": "2023-04-11T10:06:10.765230Z",
     "iopub.status.idle": "2023-04-11T10:06:10.788100Z",
     "shell.execute_reply": "2023-04-11T10:06:10.787492Z",
     "shell.execute_reply.started": "2023-04-11T09:59:52.104442Z"
    },
    "papermill": {
     "duration": 0.096814,
     "end_time": "2023-04-11T10:06:10.788278",
     "exception": false,
     "start_time": "2023-04-11T10:06:10.691464",
     "status": "completed"
    },
    "tags": []
   },
   "outputs": [
    {
     "name": "stdout",
     "output_type": "stream",
     "text": [
      "[0 0 0 0 1 0 1 0 1 0 0 0 1 0 1 1 0 0 0 1 0 1 1 1 1 0 1 0 0 0 0 0 1 1 1 0 1\n",
      " 1 0 0 0 0 0 1 1 0 0 0 1 1 0 0 1 1 0 0 0 0 0 1 0 0 0 1 1 1 1 0 0 1 1 0 1 0\n",
      " 1 0 0 1 0 1 1 0 0 0 0 0 1 1 1 1 1 0 1 0 0 0 1 0 1 0 1 0 0 0 1 0 0 0 0 0 0\n",
      " 1 1 1 1 0 0 1 0 1 1 0 1 0 0 1 0 1 0 0 0 0 0 0 0 0 0 0 1 0 0 1 0 0 0 0 0 0\n",
      " 0 0 1 0 0 1 0 0 1 1 0 1 1 1 1 0 0 1 0 0 1 1 0 0 0 0 0 1 1 0 1 1 0 1 1 0 1\n",
      " 0 1 0 0 0 0 0 1 0 1 0 1 1 0 1 1 1 0 1 0 0 1 0 1 0 0 0 0 1 0 0 1 0 1 0 1 0\n",
      " 1 0 1 1 0 1 0 0 0 1 0 0 1 0 0 0 1 1 1 1 0 0 1 0 1 0 1 1 1 0 0 0 0 0 0 0 1\n",
      " 0 0 0 1 1 0 0 0 0 1 0 0 0 1 1 0 1 0 0 0 0 1 1 1 1 1 0 0 0 0 0 0 1 0 0 0 0\n",
      " 1 0 0 0 0 0 0 0 1 1 0 1 0 0 0 0 0 1 1 1 0 0 0 0 0 0 0 0 1 0 1 0 0 0 1 0 0\n",
      " 1 0 0 0 0 0 1 0 0 0 1 1 1 0 1 0 1 1 0 0 0 1 0 1 0 0 1 0 1 1 0 1 0 0 1 1 0\n",
      " 0 1 0 0 1 1 0 0 0 0 0 0 1 1 0 1 0 0 0 0 0 1 1 0 0 1 0 1 0 0 1 0 1 0 0 0 0\n",
      " 0 1 1 1 1 1 0 1 0 0 1]\n"
     ]
    },
    {
     "data": {
      "text/html": [
       "<div>\n",
       "<style scoped>\n",
       "    .dataframe tbody tr th:only-of-type {\n",
       "        vertical-align: middle;\n",
       "    }\n",
       "\n",
       "    .dataframe tbody tr th {\n",
       "        vertical-align: top;\n",
       "    }\n",
       "\n",
       "    .dataframe thead th {\n",
       "        text-align: right;\n",
       "    }\n",
       "</style>\n",
       "<table border=\"1\" class=\"dataframe\">\n",
       "  <thead>\n",
       "    <tr style=\"text-align: right;\">\n",
       "      <th></th>\n",
       "      <th>PassengerId</th>\n",
       "      <th>Survived</th>\n",
       "    </tr>\n",
       "  </thead>\n",
       "  <tbody>\n",
       "    <tr>\n",
       "      <th>count</th>\n",
       "      <td>418.000000</td>\n",
       "      <td>418.000000</td>\n",
       "    </tr>\n",
       "    <tr>\n",
       "      <th>mean</th>\n",
       "      <td>1100.500000</td>\n",
       "      <td>0.389952</td>\n",
       "    </tr>\n",
       "    <tr>\n",
       "      <th>std</th>\n",
       "      <td>120.810458</td>\n",
       "      <td>0.488324</td>\n",
       "    </tr>\n",
       "    <tr>\n",
       "      <th>min</th>\n",
       "      <td>892.000000</td>\n",
       "      <td>0.000000</td>\n",
       "    </tr>\n",
       "    <tr>\n",
       "      <th>25%</th>\n",
       "      <td>996.250000</td>\n",
       "      <td>0.000000</td>\n",
       "    </tr>\n",
       "    <tr>\n",
       "      <th>50%</th>\n",
       "      <td>1100.500000</td>\n",
       "      <td>0.000000</td>\n",
       "    </tr>\n",
       "    <tr>\n",
       "      <th>75%</th>\n",
       "      <td>1204.750000</td>\n",
       "      <td>1.000000</td>\n",
       "    </tr>\n",
       "    <tr>\n",
       "      <th>max</th>\n",
       "      <td>1309.000000</td>\n",
       "      <td>1.000000</td>\n",
       "    </tr>\n",
       "  </tbody>\n",
       "</table>\n",
       "</div>"
      ],
      "text/plain": [
       "       PassengerId    Survived\n",
       "count   418.000000  418.000000\n",
       "mean   1100.500000    0.389952\n",
       "std     120.810458    0.488324\n",
       "min     892.000000    0.000000\n",
       "25%     996.250000    0.000000\n",
       "50%    1100.500000    0.000000\n",
       "75%    1204.750000    1.000000\n",
       "max    1309.000000    1.000000"
      ]
     },
     "execution_count": 52,
     "metadata": {},
     "output_type": "execute_result"
    }
   ],
   "source": [
    "test_X = test.drop(['Survived'], axis=1)\n",
    "test_X = torch.Tensor(test_X.to_numpy())\n",
    "\n",
    "results = combined_pred(models, test_X)\n",
    "top_class = np.argmax(results, axis=1)\n",
    "print(top_class)\n",
    "\n",
    "submission_df = pd.DataFrame({'PassengerId': test_data.index, \n",
    "                              'Survived': top_class})\n",
    "submission_df.describe()"
   ]
  },
  {
   "cell_type": "code",
   "execution_count": 53,
   "id": "forty-algorithm",
   "metadata": {
    "execution": {
     "iopub.execute_input": "2023-04-11T10:06:10.923516Z",
     "iopub.status.busy": "2023-04-11T10:06:10.922742Z",
     "iopub.status.idle": "2023-04-11T10:06:10.931712Z",
     "shell.execute_reply": "2023-04-11T10:06:10.932303Z",
     "shell.execute_reply.started": "2023-04-11T09:59:57.042132Z"
    },
    "papermill": {
     "duration": 0.078247,
     "end_time": "2023-04-11T10:06:10.932497",
     "exception": false,
     "start_time": "2023-04-11T10:06:10.854250",
     "status": "completed"
    },
    "tags": []
   },
   "outputs": [],
   "source": [
    "submission_df.to_csv('submission.csv', index=False)"
   ]
  },
  {
   "cell_type": "code",
   "execution_count": null,
   "id": "dietary-sunday",
   "metadata": {
    "papermill": {
     "duration": 0.066429,
     "end_time": "2023-04-11T10:06:11.066500",
     "exception": false,
     "start_time": "2023-04-11T10:06:11.000071",
     "status": "completed"
    },
    "tags": []
   },
   "outputs": [],
   "source": []
  }
 ],
 "metadata": {
  "kernelspec": {
   "display_name": "Python 3",
   "language": "python",
   "name": "python3"
  },
  "language_info": {
   "codemirror_mode": {
    "name": "ipython",
    "version": 3
   },
   "file_extension": ".py",
   "mimetype": "text/x-python",
   "name": "python",
   "nbconvert_exporter": "python",
   "pygments_lexer": "ipython3",
   "version": "3.7.10"
  },
  "papermill": {
   "default_parameters": {},
   "duration": 25.991825,
   "end_time": "2023-04-11T10:06:12.518257",
   "environment_variables": {},
   "exception": null,
   "input_path": "__notebook__.ipynb",
   "output_path": "__notebook__.ipynb",
   "parameters": {},
   "start_time": "2023-04-11T10:05:46.526432",
   "version": "2.3.3"
  }
 },
 "nbformat": 4,
 "nbformat_minor": 5
}
