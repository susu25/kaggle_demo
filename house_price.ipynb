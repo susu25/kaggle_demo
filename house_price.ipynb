{
 "cells": [
  {
   "cell_type": "code",
   "execution_count": 1,
   "id": "hungarian-iceland",
   "metadata": {},
   "outputs": [
    {
     "name": "stdout",
     "output_type": "stream",
     "text": [
      ".\\.gitignore\n",
      ".\\house_price.ipynb\n",
      ".\\README.md\n",
      ".\\.git\\config\n",
      ".\\.git\\description\n",
      ".\\.git\\FETCH_HEAD\n",
      ".\\.git\\HEAD\n",
      ".\\.git\\index\n",
      ".\\.git\\ORIG_HEAD\n",
      ".\\.git\\hooks\\applypatch-msg.sample\n",
      ".\\.git\\hooks\\commit-msg.sample\n",
      ".\\.git\\hooks\\fsmonitor-watchman.sample\n",
      ".\\.git\\hooks\\post-update.sample\n",
      ".\\.git\\hooks\\pre-applypatch.sample\n",
      ".\\.git\\hooks\\pre-commit.sample\n",
      ".\\.git\\hooks\\pre-push.sample\n",
      ".\\.git\\hooks\\pre-rebase.sample\n",
      ".\\.git\\hooks\\pre-receive.sample\n",
      ".\\.git\\hooks\\prepare-commit-msg.sample\n",
      ".\\.git\\hooks\\update.sample\n",
      ".\\.git\\info\\exclude\n",
      ".\\.git\\logs\\HEAD\n",
      ".\\.git\\logs\\refs\\heads\\master\n",
      ".\\.git\\logs\\refs\\remotes\\origin\\main\n",
      ".\\.git\\logs\\refs\\remotes\\origin\\master\n",
      ".\\.git\\objects\\74\\6619970052d954c573f4ad477856398cd165b0\n",
      ".\\.git\\objects\\c2\\66eecd3087a2c35434f930cf2b9d90d725a450\n",
      ".\\.git\\objects\\ed\\999c04faf57f00d09aac30e09b42bcc0d449d2\n",
      ".\\.git\\refs\\heads\\master\n",
      ".\\.git\\refs\\remotes\\origin\\main\n",
      ".\\.git\\refs\\remotes\\origin\\master\n",
      ".\\.ipynb_checkpoints\\house_price-checkpoint.ipynb\n",
      ".\\kaggle_data\\house-prices-advanced-regression-techniques\\data_description.txt\n",
      ".\\kaggle_data\\house-prices-advanced-regression-techniques\\house-prices-advanced-regression-techniques.zip\n",
      ".\\kaggle_data\\house-prices-advanced-regression-techniques\\sample_submission.csv\n",
      ".\\kaggle_data\\house-prices-advanced-regression-techniques\\test.csv\n",
      ".\\kaggle_data\\house-prices-advanced-regression-techniques\\train.csv\n"
     ]
    }
   ],
   "source": [
    "import os\n",
    "for dirname, _, filenames in os.walk('.'):\n",
    "    for filename in filenames:\n",
    "        print(os.path.join(dirname, filename))"
   ]
  },
  {
   "cell_type": "code",
   "execution_count": null,
   "id": "toxic-people",
   "metadata": {},
   "outputs": [],
   "source": []
  }
 ],
 "metadata": {
  "kernelspec": {
   "display_name": "Python 3",
   "language": "python",
   "name": "python3"
  },
  "language_info": {
   "codemirror_mode": {
    "name": "ipython",
    "version": 3
   },
   "file_extension": ".py",
   "mimetype": "text/x-python",
   "name": "python",
   "nbconvert_exporter": "python",
   "pygments_lexer": "ipython3",
   "version": "3.5.2"
  }
 },
 "nbformat": 4,
 "nbformat_minor": 5
}
